{
 "cells": [
  {
   "cell_type": "markdown",
   "id": "8089e542",
   "metadata": {},
   "source": [
    "# \n",
    "Importing the required libraries and loading the scraped Data"
   ]
  },
  {
   "cell_type": "code",
   "execution_count": 1,
   "id": "1d9323b3",
   "metadata": {},
   "outputs": [
    {
     "name": "stderr",
     "output_type": "stream",
     "text": [
      "[nltk_data] Downloading package stopwords to\n",
      "[nltk_data]     C:\\Users\\USER\\AppData\\Roaming\\nltk_data...\n",
      "[nltk_data]   Package stopwords is already up-to-date!\n",
      "[nltk_data] Downloading package wordnet to\n",
      "[nltk_data]     C:\\Users\\USER\\AppData\\Roaming\\nltk_data...\n",
      "[nltk_data]   Package wordnet is already up-to-date!\n",
      "[nltk_data] Downloading package omw-1.4 to\n",
      "[nltk_data]     C:\\Users\\USER\\AppData\\Roaming\\nltk_data...\n",
      "[nltk_data]   Package omw-1.4 is already up-to-date!\n"
     ]
    }
   ],
   "source": [
    "from sklearn.preprocessing import MinMaxScaler, OneHotEncoder\n",
    "from scipy.sparse import hstack, coo_matrix\n",
    "import pandas as pd\n",
    "import numpy as np\n",
    "from sklearn.metrics.pairwise import cosine_similarity\n",
    "from sklearn.feature_extraction.text import TfidfVectorizer\n",
    "import re\n",
    "from sklearn.model_selection import train_test_split\n",
    "import matplotlib.pyplot as plt\n",
    "import seaborn as sns\n",
    "import plotly.express as px\n",
    "import nltk\n",
    "from nltk.corpus import stopwords\n",
    "nltk.download('stopwords')\n",
    "nltk.download('wordnet') \n",
    "nltk.download('omw-1.4') \n",
    "from nltk.stem import WordNetLemmatizer\n",
    "sns.set_style(\"darkgrid\")"
   ]
  },
  {
   "cell_type": "code",
   "execution_count": 2,
   "id": "e03c6684",
   "metadata": {},
   "outputs": [
    {
     "data": {
      "text/html": [
       "<div>\n",
       "<style scoped>\n",
       "    .dataframe tbody tr th:only-of-type {\n",
       "        vertical-align: middle;\n",
       "    }\n",
       "\n",
       "    .dataframe tbody tr th {\n",
       "        vertical-align: top;\n",
       "    }\n",
       "\n",
       "    .dataframe thead th {\n",
       "        text-align: right;\n",
       "    }\n",
       "</style>\n",
       "<table border=\"1\" class=\"dataframe\">\n",
       "  <thead>\n",
       "    <tr style=\"text-align: right;\">\n",
       "      <th></th>\n",
       "      <th>Product_name</th>\n",
       "      <th>Rating</th>\n",
       "      <th>Price</th>\n",
       "      <th>Discount_rate</th>\n",
       "      <th>Customer_reviews</th>\n",
       "      <th>Category</th>\n",
       "      <th>Sub_Category</th>\n",
       "    </tr>\n",
       "  </thead>\n",
       "  <tbody>\n",
       "    <tr>\n",
       "      <th>0</th>\n",
       "      <td>4 Pcs Men Perfume Set Perfumes Different Fragr...</td>\n",
       "      <td>4.5</td>\n",
       "      <td>999.0</td>\n",
       "      <td>47% off</td>\n",
       "      <td>2923 Customer reviews</td>\n",
       "      <td>Beauty</td>\n",
       "      <td>Fragrance</td>\n",
       "    </tr>\n",
       "    <tr>\n",
       "      <th>1</th>\n",
       "      <td>[Promotion] USB Electric Hair Cutting Machine ...</td>\n",
       "      <td>4.4</td>\n",
       "      <td>367.0</td>\n",
       "      <td>(-54%)</td>\n",
       "      <td>2782 Customer reviews</td>\n",
       "      <td>Hair Cutting Tools</td>\n",
       "      <td>Hair Clippers &amp; Trimmers</td>\n",
       "    </tr>\n",
       "    <tr>\n",
       "      <th>2</th>\n",
       "      <td>(Clearance Price)RichRipple Vintage T9 Hair cu...</td>\n",
       "      <td>4.5</td>\n",
       "      <td>367.0</td>\n",
       "      <td>(-81%)</td>\n",
       "      <td>1445 Customer reviews</td>\n",
       "      <td>Hair Cutting Tools</td>\n",
       "      <td>Hair Clippers &amp; Trimmers</td>\n",
       "    </tr>\n",
       "    <tr>\n",
       "      <th>3</th>\n",
       "      <td>2 In 1 Curling Iron Hair Straightener Flat Iro...</td>\n",
       "      <td>4.4</td>\n",
       "      <td>859.0</td>\n",
       "      <td>(-70%)</td>\n",
       "      <td>1775 Customer reviews</td>\n",
       "      <td>Hair Styling Tools &amp; Appliances</td>\n",
       "      <td>Hair Straighteners</td>\n",
       "    </tr>\n",
       "    <tr>\n",
       "      <th>4</th>\n",
       "      <td>2 in 1 Hot Comb Straightener Electric Hair Str...</td>\n",
       "      <td>4.3</td>\n",
       "      <td>898.0</td>\n",
       "      <td>53% off</td>\n",
       "      <td>1540 Customer reviews</td>\n",
       "      <td>Hair Styling Tools &amp; Appliances</td>\n",
       "      <td>Hair Combs</td>\n",
       "    </tr>\n",
       "  </tbody>\n",
       "</table>\n",
       "</div>"
      ],
      "text/plain": [
       "                                        Product_name  Rating  Price  \\\n",
       "0  4 Pcs Men Perfume Set Perfumes Different Fragr...     4.5  999.0   \n",
       "1  [Promotion] USB Electric Hair Cutting Machine ...     4.4  367.0   \n",
       "2  (Clearance Price)RichRipple Vintage T9 Hair cu...     4.5  367.0   \n",
       "3  2 In 1 Curling Iron Hair Straightener Flat Iro...     4.4  859.0   \n",
       "4  2 in 1 Hot Comb Straightener Electric Hair Str...     4.3  898.0   \n",
       "\n",
       "  Discount_rate       Customer_reviews                         Category  \\\n",
       "0       47% off  2923 Customer reviews                           Beauty   \n",
       "1        (-54%)  2782 Customer reviews               Hair Cutting Tools   \n",
       "2        (-81%)  1445 Customer reviews               Hair Cutting Tools   \n",
       "3        (-70%)  1775 Customer reviews  Hair Styling Tools & Appliances   \n",
       "4       53% off  1540 Customer reviews  Hair Styling Tools & Appliances   \n",
       "\n",
       "               Sub_Category  \n",
       "0                 Fragrance  \n",
       "1  Hair Clippers & Trimmers  \n",
       "2  Hair Clippers & Trimmers  \n",
       "3        Hair Straighteners  \n",
       "4                Hair Combs  "
      ]
     },
     "execution_count": 2,
     "metadata": {},
     "output_type": "execute_result"
    }
   ],
   "source": [
    "df = pd.read_csv(\"kilimall_beauty_health_products_scraped.csv\")\n",
    "df.head()"
   ]
  },
  {
   "cell_type": "code",
   "execution_count": 3,
   "id": "8db3a1e6",
   "metadata": {},
   "outputs": [
    {
     "name": "stdout",
     "output_type": "stream",
     "text": [
      "<class 'pandas.core.frame.DataFrame'>\n",
      "RangeIndex: 718 entries, 0 to 717\n",
      "Data columns (total 7 columns):\n",
      " #   Column            Non-Null Count  Dtype  \n",
      "---  ------            --------------  -----  \n",
      " 0   Product_name      718 non-null    object \n",
      " 1   Rating            718 non-null    float64\n",
      " 2   Price             718 non-null    float64\n",
      " 3   Discount_rate     718 non-null    object \n",
      " 4   Customer_reviews  718 non-null    object \n",
      " 5   Category          718 non-null    object \n",
      " 6   Sub_Category      718 non-null    object \n",
      "dtypes: float64(2), object(5)\n",
      "memory usage: 39.4+ KB\n"
     ]
    }
   ],
   "source": [
    "df.info()"
   ]
  },
  {
   "cell_type": "code",
   "execution_count": 4,
   "id": "42a41556",
   "metadata": {},
   "outputs": [
    {
     "data": {
      "text/plain": [
       "Product_name        0\n",
       "Rating              0\n",
       "Price               0\n",
       "Discount_rate       0\n",
       "Customer_reviews    0\n",
       "Category            0\n",
       "Sub_Category        0\n",
       "dtype: int64"
      ]
     },
     "execution_count": 4,
     "metadata": {},
     "output_type": "execute_result"
    }
   ],
   "source": [
    "df.isnull().sum()"
   ]
  },
  {
   "cell_type": "code",
   "execution_count": 5,
   "id": "a517bc6a",
   "metadata": {},
   "outputs": [
    {
     "data": {
      "text/plain": [
       "Category\n",
       "Beauty                             212\n",
       "Face                                64\n",
       "Body                                42\n",
       "Men's                               30\n",
       "Wigs                                29\n",
       "Hair Styling Tools & Appliances     29\n",
       "Oral Care                           18\n",
       "Foot & Hand Care                    17\n",
       "Vitamins & Dietary Supplements      16\n",
       "Massage Tools & Equipment           16\n",
       "Health Monitors                     14\n",
       "Women's                             14\n",
       "Skin Care Tools                     14\n",
       "Sports Nutrition                    14\n",
       "Hair Cutting Tools                  13\n",
       "Bath                                12\n",
       "Styling Products                    11\n",
       "Feminine Care                       11\n",
       "Skin Care                           10\n",
       "Lip Care                            10\n",
       "Eyes                                10\n",
       "Home Tests                           9\n",
       "Deodorants & Antiperspirants         9\n",
       "Hair Care                            9\n",
       "Shampoo & Conditioner                9\n",
       "Sunscreens & Tanning Products        8\n",
       "Tattoo Supplies                      8\n",
       "Synthetic Wigs                       8\n",
       "First Aid                            7\n",
       "Dental Floss & Picks                 6\n",
       "Health Care                          5\n",
       "Toothbrushes & Accessories           4\n",
       "Hair Accessories                     4\n",
       "Children's Dental Care               4\n",
       "Vision Care                          3\n",
       "Diabetes Care                        3\n",
       "Extensions                           3\n",
       "Sleep & Snoring                      3\n",
       "Ear Care                             2\n",
       "Piercing & Tattoo Supplies           2\n",
       "Incontinence & Ostomy                2\n",
       "Hair Coloring Products               2\n",
       "Hair Weaves                          1\n",
       "Test Strips                          1\n",
       "Name: count, dtype: int64"
      ]
     },
     "execution_count": 5,
     "metadata": {},
     "output_type": "execute_result"
    }
   ],
   "source": [
    "df[\"Category\"].value_counts()"
   ]
  },
  {
   "cell_type": "code",
   "execution_count": 6,
   "id": "338239e8",
   "metadata": {},
   "outputs": [
    {
     "data": {
      "text/plain": [
       "Sub_Category\n",
       "Make Up                          117\n",
       "Fragrance                         45\n",
       "Make Up Tool & Accessories        32\n",
       "Facial Essence                    23\n",
       "Other Wigs                        21\n",
       "                                ... \n",
       "Rollers&Pens                       1\n",
       "Panty Liners                       1\n",
       "Hair Color                         1\n",
       "Bandages & Bandaging Supplies      1\n",
       "Breast Enhancement Creams          1\n",
       "Name: count, Length: 179, dtype: int64"
      ]
     },
     "execution_count": 6,
     "metadata": {},
     "output_type": "execute_result"
    }
   ],
   "source": [
    "df[\"Sub_Category\"].value_counts()"
   ]
  },
  {
   "cell_type": "markdown",
   "id": "15a5128d",
   "metadata": {},
   "source": [
    "# \n",
    "Cleaning the Customer reviews column and Discount rate column using RegX "
   ]
  },
  {
   "cell_type": "code",
   "execution_count": 7,
   "id": "dfa77ed1",
   "metadata": {},
   "outputs": [
    {
     "data": {
      "text/html": [
       "<div>\n",
       "<style scoped>\n",
       "    .dataframe tbody tr th:only-of-type {\n",
       "        vertical-align: middle;\n",
       "    }\n",
       "\n",
       "    .dataframe tbody tr th {\n",
       "        vertical-align: top;\n",
       "    }\n",
       "\n",
       "    .dataframe thead th {\n",
       "        text-align: right;\n",
       "    }\n",
       "</style>\n",
       "<table border=\"1\" class=\"dataframe\">\n",
       "  <thead>\n",
       "    <tr style=\"text-align: right;\">\n",
       "      <th></th>\n",
       "      <th>Product_name</th>\n",
       "      <th>Rating</th>\n",
       "      <th>Price</th>\n",
       "      <th>Discount_rate</th>\n",
       "      <th>Customer_reviews</th>\n",
       "      <th>Category</th>\n",
       "      <th>Sub_Category</th>\n",
       "    </tr>\n",
       "  </thead>\n",
       "  <tbody>\n",
       "    <tr>\n",
       "      <th>0</th>\n",
       "      <td>4 Pcs Men Perfume Set Perfumes Different Fragr...</td>\n",
       "      <td>4.5</td>\n",
       "      <td>999.0</td>\n",
       "      <td>47</td>\n",
       "      <td>2923.0</td>\n",
       "      <td>Beauty</td>\n",
       "      <td>Fragrance</td>\n",
       "    </tr>\n",
       "    <tr>\n",
       "      <th>1</th>\n",
       "      <td>[Promotion] USB Electric Hair Cutting Machine ...</td>\n",
       "      <td>4.4</td>\n",
       "      <td>367.0</td>\n",
       "      <td>54</td>\n",
       "      <td>2782.0</td>\n",
       "      <td>Hair Cutting Tools</td>\n",
       "      <td>Hair Clippers &amp; Trimmers</td>\n",
       "    </tr>\n",
       "    <tr>\n",
       "      <th>2</th>\n",
       "      <td>(Clearance Price)RichRipple Vintage T9 Hair cu...</td>\n",
       "      <td>4.5</td>\n",
       "      <td>367.0</td>\n",
       "      <td>81</td>\n",
       "      <td>1445.0</td>\n",
       "      <td>Hair Cutting Tools</td>\n",
       "      <td>Hair Clippers &amp; Trimmers</td>\n",
       "    </tr>\n",
       "    <tr>\n",
       "      <th>3</th>\n",
       "      <td>2 In 1 Curling Iron Hair Straightener Flat Iro...</td>\n",
       "      <td>4.4</td>\n",
       "      <td>859.0</td>\n",
       "      <td>70</td>\n",
       "      <td>1775.0</td>\n",
       "      <td>Hair Styling Tools &amp; Appliances</td>\n",
       "      <td>Hair Straighteners</td>\n",
       "    </tr>\n",
       "    <tr>\n",
       "      <th>4</th>\n",
       "      <td>2 in 1 Hot Comb Straightener Electric Hair Str...</td>\n",
       "      <td>4.3</td>\n",
       "      <td>898.0</td>\n",
       "      <td>53</td>\n",
       "      <td>1540.0</td>\n",
       "      <td>Hair Styling Tools &amp; Appliances</td>\n",
       "      <td>Hair Combs</td>\n",
       "    </tr>\n",
       "  </tbody>\n",
       "</table>\n",
       "</div>"
      ],
      "text/plain": [
       "                                        Product_name  Rating  Price  \\\n",
       "0  4 Pcs Men Perfume Set Perfumes Different Fragr...     4.5  999.0   \n",
       "1  [Promotion] USB Electric Hair Cutting Machine ...     4.4  367.0   \n",
       "2  (Clearance Price)RichRipple Vintage T9 Hair cu...     4.5  367.0   \n",
       "3  2 In 1 Curling Iron Hair Straightener Flat Iro...     4.4  859.0   \n",
       "4  2 in 1 Hot Comb Straightener Electric Hair Str...     4.3  898.0   \n",
       "\n",
       "   Discount_rate  Customer_reviews                         Category  \\\n",
       "0             47            2923.0                           Beauty   \n",
       "1             54            2782.0               Hair Cutting Tools   \n",
       "2             81            1445.0               Hair Cutting Tools   \n",
       "3             70            1775.0  Hair Styling Tools & Appliances   \n",
       "4             53            1540.0  Hair Styling Tools & Appliances   \n",
       "\n",
       "               Sub_Category  \n",
       "0                 Fragrance  \n",
       "1  Hair Clippers & Trimmers  \n",
       "2  Hair Clippers & Trimmers  \n",
       "3        Hair Straighteners  \n",
       "4                Hair Combs  "
      ]
     },
     "execution_count": 7,
     "metadata": {},
     "output_type": "execute_result"
    }
   ],
   "source": [
    "df['Customer_reviews'] = df['Customer_reviews'].astype(str).apply(lambda x: re.search(r'\\d+', x).group(0) if re.search(r'\\d+', x) else '0').astype(float)\n",
    "df['Discount_rate'] = pd.to_numeric(\n",
    "    df['Discount_rate'].astype(str)\n",
    "    .str.replace('%', '', regex=False)\n",
    "    .str.replace('off', '', regex=False)\n",
    "    .str.replace('(', '', regex=False)\n",
    "    .str.replace(')', '', regex=False)\n",
    "    .str.replace('-', '', regex=False)\n",
    "    .str.strip(),\n",
    "    errors='coerce' \n",
    ")\n",
    "df.head()"
   ]
  },
  {
   "cell_type": "markdown",
   "id": "b1575388",
   "metadata": {},
   "source": [
    "# \n",
    "Performing EDA"
   ]
  },
  {
   "cell_type": "code",
   "execution_count": 8,
   "id": "c35dfa3b",
   "metadata": {},
   "outputs": [
    {
     "name": "stdout",
     "output_type": "stream",
     "text": [
      "<class 'pandas.core.frame.DataFrame'>\n",
      "RangeIndex: 718 entries, 0 to 717\n",
      "Data columns (total 7 columns):\n",
      " #   Column            Non-Null Count  Dtype  \n",
      "---  ------            --------------  -----  \n",
      " 0   Product_name      718 non-null    object \n",
      " 1   Rating            718 non-null    float64\n",
      " 2   Price             718 non-null    float64\n",
      " 3   Discount_rate     718 non-null    int64  \n",
      " 4   Customer_reviews  718 non-null    float64\n",
      " 5   Category          718 non-null    object \n",
      " 6   Sub_Category      718 non-null    object \n",
      "dtypes: float64(3), int64(1), object(3)\n",
      "memory usage: 39.4+ KB\n"
     ]
    }
   ],
   "source": [
    "df.info()"
   ]
  },
  {
   "cell_type": "code",
   "execution_count": 9,
   "id": "a6b20c4a",
   "metadata": {},
   "outputs": [
    {
     "data": {
      "text/html": [
       "<div>\n",
       "<style scoped>\n",
       "    .dataframe tbody tr th:only-of-type {\n",
       "        vertical-align: middle;\n",
       "    }\n",
       "\n",
       "    .dataframe tbody tr th {\n",
       "        vertical-align: top;\n",
       "    }\n",
       "\n",
       "    .dataframe thead th {\n",
       "        text-align: right;\n",
       "    }\n",
       "</style>\n",
       "<table border=\"1\" class=\"dataframe\">\n",
       "  <thead>\n",
       "    <tr style=\"text-align: right;\">\n",
       "      <th></th>\n",
       "      <th>Rating</th>\n",
       "      <th>Price</th>\n",
       "      <th>Discount_rate</th>\n",
       "      <th>Customer_reviews</th>\n",
       "    </tr>\n",
       "  </thead>\n",
       "  <tbody>\n",
       "    <tr>\n",
       "      <th>count</th>\n",
       "      <td>718.000000</td>\n",
       "      <td>718.000000</td>\n",
       "      <td>718.000000</td>\n",
       "      <td>718.000000</td>\n",
       "    </tr>\n",
       "    <tr>\n",
       "      <th>mean</th>\n",
       "      <td>4.477298</td>\n",
       "      <td>734.718663</td>\n",
       "      <td>57.172702</td>\n",
       "      <td>166.023677</td>\n",
       "    </tr>\n",
       "    <tr>\n",
       "      <th>std</th>\n",
       "      <td>0.403541</td>\n",
       "      <td>682.159600</td>\n",
       "      <td>20.600219</td>\n",
       "      <td>324.099987</td>\n",
       "    </tr>\n",
       "    <tr>\n",
       "      <th>min</th>\n",
       "      <td>1.900000</td>\n",
       "      <td>89.000000</td>\n",
       "      <td>1.000000</td>\n",
       "      <td>0.000000</td>\n",
       "    </tr>\n",
       "    <tr>\n",
       "      <th>25%</th>\n",
       "      <td>4.300000</td>\n",
       "      <td>329.000000</td>\n",
       "      <td>42.000000</td>\n",
       "      <td>10.000000</td>\n",
       "    </tr>\n",
       "    <tr>\n",
       "      <th>50%</th>\n",
       "      <td>4.500000</td>\n",
       "      <td>527.500000</td>\n",
       "      <td>57.000000</td>\n",
       "      <td>53.000000</td>\n",
       "    </tr>\n",
       "    <tr>\n",
       "      <th>75%</th>\n",
       "      <td>4.700000</td>\n",
       "      <td>899.000000</td>\n",
       "      <td>72.000000</td>\n",
       "      <td>173.250000</td>\n",
       "    </tr>\n",
       "    <tr>\n",
       "      <th>max</th>\n",
       "      <td>5.000000</td>\n",
       "      <td>7139.000000</td>\n",
       "      <td>99.000000</td>\n",
       "      <td>2923.000000</td>\n",
       "    </tr>\n",
       "  </tbody>\n",
       "</table>\n",
       "</div>"
      ],
      "text/plain": [
       "           Rating        Price  Discount_rate  Customer_reviews\n",
       "count  718.000000   718.000000     718.000000        718.000000\n",
       "mean     4.477298   734.718663      57.172702        166.023677\n",
       "std      0.403541   682.159600      20.600219        324.099987\n",
       "min      1.900000    89.000000       1.000000          0.000000\n",
       "25%      4.300000   329.000000      42.000000         10.000000\n",
       "50%      4.500000   527.500000      57.000000         53.000000\n",
       "75%      4.700000   899.000000      72.000000        173.250000\n",
       "max      5.000000  7139.000000      99.000000       2923.000000"
      ]
     },
     "execution_count": 9,
     "metadata": {},
     "output_type": "execute_result"
    }
   ],
   "source": [
    "df.describe()"
   ]
  },
  {
   "cell_type": "code",
   "execution_count": 10,
   "id": "7adedafe",
   "metadata": {},
   "outputs": [
    {
     "data": {
      "text/plain": [
       "Rating\n",
       "4.5    138\n",
       "5.0     92\n",
       "4.7     74\n",
       "4.3     64\n",
       "4.6     63\n",
       "4.4     63\n",
       "4.8     58\n",
       "4.2     47\n",
       "4.1     36\n",
       "4.0     28\n",
       "4.9     16\n",
       "3.0      7\n",
       "3.9      6\n",
       "3.8      4\n",
       "3.7      3\n",
       "3.4      3\n",
       "3.6      3\n",
       "3.5      3\n",
       "2.7      3\n",
       "3.1      2\n",
       "3.3      2\n",
       "1.9      1\n",
       "2.6      1\n",
       "2.3      1\n",
       "Name: count, dtype: int64"
      ]
     },
     "execution_count": 10,
     "metadata": {},
     "output_type": "execute_result"
    }
   ],
   "source": [
    "df.Rating.value_counts()"
   ]
  },
  {
   "cell_type": "code",
   "execution_count": 11,
   "id": "2df12dc8",
   "metadata": {},
   "outputs": [
    {
     "data": {
      "text/plain": [
       "Index(['Product_name', 'Rating', 'Price', 'Discount_rate', 'Customer_reviews',\n",
       "       'Category', 'Sub_Category'],\n",
       "      dtype='object')"
      ]
     },
     "execution_count": 11,
     "metadata": {},
     "output_type": "execute_result"
    }
   ],
   "source": [
    "df.columns"
   ]
  },
  {
   "cell_type": "code",
   "execution_count": 12,
   "id": "033cd079",
   "metadata": {},
   "outputs": [
    {
     "data": {
      "application/vnd.plotly.v1+json": {
       "config": {
        "plotlyServerURL": "https://plot.ly"
       },
       "data": [
        {
         "customdata": [
          [
           999,
           "Beauty",
           "Fragrance",
           4.5
          ],
          [
           367,
           "Hair Cutting Tools",
           "Hair Clippers & Trimmers",
           4.4
          ],
          [
           367,
           "Hair Cutting Tools",
           "Hair Clippers & Trimmers",
           4.5
          ],
          [
           859,
           "Hair Styling Tools & Appliances",
           "Hair Straighteners",
           4.4
          ],
          [
           898,
           "Hair Styling Tools & Appliances",
           "Hair Combs",
           4.3
          ],
          [
           889,
           "Men's",
           "Electric Shavers",
           4.3
          ],
          [
           999,
           "Face",
           "Cleansers",
           4.7
          ],
          [
           688,
           "Beauty",
           "Fragrance",
           4.4
          ],
          [
           599,
           "Wigs",
           "Other Wigs",
           4.4
          ],
          [
           279,
           "Beauty",
           "Make Up Tool & Accessories",
           4.3
          ],
          [
           999,
           "Beauty",
           "Fragrance",
           4.5
          ],
          [
           579,
           "Women's",
           "Epilators, Groomers & Trimmers",
           4.3
          ],
          [
           2799,
           "Skin Care",
           "Sets & Kits",
           4.7
          ],
          [
           1099,
           "Skin Care",
           "Skin Care Set",
           4.6
          ],
          [
           1699,
           "Beauty",
           "Make Up",
           4.7
          ],
          [
           1199,
           "Skin Care",
           "Skin Care Set",
           4.5
          ],
          [
           1040,
           "Sunscreens & Tanning Products",
           "Sunscreens",
           4.7
          ],
          [
           599,
           "Wigs",
           "Other Wigs",
           4.4
          ],
          [
           235,
           "Toothbrushes & Accessories",
           "Toothbrush Travel Containers",
           4.8
          ],
          [
           199,
           "Foot & Hand Care",
           "Hand Creams & Lotions",
           4.2
          ],
          [
           1499,
           "Beauty",
           "Make Up",
           4.7
          ],
          [
           99,
           "Beauty",
           "Make Up",
           4.4
          ],
          [
           829,
           "Beauty",
           "Fragrance",
           4.5
          ],
          [
           769,
           "Hair Styling Tools & Appliances",
           "Hair Brushes & Combs",
           4.3
          ],
          [
           988,
           "Health Monitors",
           "Blood Pressure Monitors",
           4.5
          ],
          [
           1299,
           "Hair Styling Tools & Appliances",
           "Hot-Air Brushes",
           4.6
          ],
          [
           599,
           "Wigs",
           "Other Wigs",
           4.3
          ],
          [
           258,
           "Bath",
           "Bath Accessories",
           4.7
          ],
          [
           1219,
           "Face",
           "Facial Essence",
           4.7
          ],
          [
           2759,
           "Face",
           "Sets & Kits",
           4.7
          ],
          [
           946,
           "Hair Styling Tools & Appliances",
           "Hair Dryers & Accessories",
           4.1
          ],
          [
           239,
           "Beauty",
           "Make Up",
           4.4
          ],
          [
           199,
           "Skin Care Tools",
           "Facial Rollers",
           4.5
          ],
          [
           889,
           "Sunscreens & Tanning Products",
           "Sunscreens",
           4.7
          ],
          [
           389,
           "Oral Care",
           "Teeth Whitening",
           4
          ],
          [
           279,
           "Beauty",
           "Make Up Tool & Accessories",
           4.3
          ],
          [
           999,
           "Men's",
           "Shaving & Grooming Sets",
           4.3
          ],
          [
           949,
           "Face",
           "Creams & Moisturizers",
           4.7
          ],
          [
           399,
           "Men's",
           "Beard & Mustache Care",
           4.1
          ],
          [
           389,
           "Body",
           "Creams",
           4.1
          ],
          [
           269,
           "Skin Care Tools",
           "Facial Cleansing Brushes",
           4.6
          ],
          [
           659,
           "Foot & Hand Care",
           "Other Foot & Hand Care",
           4.7
          ],
          [
           289,
           "Foot & Hand Care",
           "Foot Masks",
           4.5
          ],
          [
           269,
           "Beauty",
           "Make Up",
           4.2
          ],
          [
           1299,
           "Massage Tools & Equipment",
           "Other Electric Massagers",
           4.5
          ],
          [
           699,
           "Beauty",
           "Make Up Tool & Accessories",
           4.6
          ],
          [
           499,
           "Beauty",
           "Nail Care Tool",
           4.7
          ],
          [
           289,
           "Foot & Hand Care",
           "Foot Creams & Lotions",
           4.5
          ],
          [
           289,
           "Beauty",
           "Make Up Tool & Accessories",
           4.8
          ],
          [
           799,
           "Beauty",
           "Make Up Tool & Accessories",
           4.9
          ],
          [
           529,
           "Beauty",
           "Make Up",
           4
          ],
          [
           1469,
           "Beauty",
           "Make Up",
           4.4
          ],
          [
           179,
           "Beauty",
           "Make Up",
           4.1
          ],
          [
           499,
           "Foot & Hand Care",
           "Foot Rubbing Brush",
           4
          ],
          [
           1399,
           "Diabetes Care",
           "Blood Glucose Monitors",
           4.7
          ],
          [
           649,
           "Beauty",
           "Make Up",
           4.7
          ],
          [
           299,
           "Dental Floss & Picks",
           "Dental Floss",
           4.8
          ],
          [
           689,
           "Beauty",
           "Nail Care Tool",
           4.5
          ],
          [
           199,
           "Beauty",
           "Make Up",
           4.5
          ],
          [
           249,
           "Beauty",
           "Make Up",
           4.7
          ],
          [
           429,
           "Toothbrushes & Accessories",
           "Powered Toothbrushes & Accessories",
           4.4
          ],
          [
           1899,
           "Women's",
           "Waxing",
           4.4
          ],
          [
           999,
           "Beauty",
           "Fragrance",
           4.7
          ],
          [
           899,
           "Beauty",
           "Fragrance",
           4.6
          ],
          [
           399,
           "Oral Care",
           "Toothpaste",
           4.6
          ],
          [
           299,
           "Lip Care",
           "Balms & Moisturizers",
           4
          ],
          [
           239,
           "Beauty",
           "Nail Care Tool",
           4.7
          ],
          [
           399,
           "Feminine Care",
           "Feminine Washes",
           4.5
          ],
          [
           299,
           "Beauty",
           "Make Up Tool & Accessories",
           4.2
          ],
          [
           199,
           "Beauty",
           "Make Up",
           4.3
          ],
          [
           350,
           "Styling Products",
           "Waxes",
           4.7
          ],
          [
           659,
           "Face",
           "Cleansers",
           4.7
          ],
          [
           599,
           "Wigs",
           "Other Wigs",
           4.1
          ],
          [
           299,
           "Beauty",
           "Make Up",
           4.1
          ],
          [
           1099,
           "Health Monitors",
           "Blood Pressure Monitors",
           4.5
          ],
          [
           399,
           "Men's",
           "Nose & Ear Hair Trimmers",
           4.2
          ],
          [
           299,
           "Health Monitors",
           "Thermometers",
           4.7
          ],
          [
           2999,
           "Beauty",
           "Make Up Tool & Accessories",
           5
          ],
          [
           699,
           "Women's",
           "Electric Shavers",
           5
          ],
          [
           399,
           "Beauty",
           "Make Up",
           4.1
          ],
          [
           899,
           "Hair Styling Tools & Appliances",
           "Hair Brushes",
           4.8
          ],
          [
           1269,
           "Beauty",
           "Make Up",
           4.2
          ],
          [
           749,
           "Vitamins & Dietary Supplements",
           "Weight Loss",
           4.7
          ],
          [
           2200,
           "Beauty",
           "Fragrance",
           5
          ],
          [
           230,
           "Hair Care",
           "Hair Loss Products",
           4.2
          ],
          [
           345,
           "Body",
           "Scrubs & Body Treatments",
           4.6
          ],
          [
           1399,
           "Shampoo & Conditioner",
           "Shampoo & Conditioner Sets",
           4.8
          ],
          [
           299,
           "Vision Care",
           "Eye Patches",
           4.5
          ],
          [
           950,
           "Hair Styling Tools & Appliances",
           "Sets & Kits",
           4.8
          ],
          [
           999,
           "Beauty",
           "Fragrance",
           4.5
          ],
          [
           199,
           "Hair Accessories",
           "Other Hair Accessories",
           4.7
          ],
          [
           799,
           "Hair Care",
           "Hair & Scalp Care",
           4.8
          ],
          [
           449,
           "Beauty",
           "Fragrance",
           4.5
          ],
          [
           899,
           "Beauty",
           "Make Up",
           4.5
          ],
          [
           999,
           "Wigs",
           "Synthetic Extensions",
           4.3
          ],
          [
           299,
           "Hair Accessories",
           "Barrettes",
           4.7
          ],
          [
           439,
           "Beauty",
           "Make Up",
           5
          ],
          [
           1569,
           "Beauty",
           "Make Up",
           4.6
          ],
          [
           968,
           "Health Monitors",
           "Body Weight Scales",
           4.3
          ],
          [
           659,
           "Beauty",
           "Make Up",
           4.6
          ],
          [
           389,
           "Massage Tools & Equipment",
           "Shoulder & Neck Massagers",
           3.7
          ],
          [
           1409,
           "Face",
           "Facial Essence",
           4.6
          ],
          [
           250,
           "Beauty",
           "Make Up",
           4.3
          ],
          [
           299,
           "Hair Care",
           "Hair Loss Products",
           4.1
          ],
          [
           399,
           "Skin Care Tools",
           "Facial Rollers",
           4.7
          ],
          [
           299,
           "Children's Dental Care",
           "Electric Toothbrushes",
           5
          ],
          [
           439,
           "Beauty",
           "Make Up",
           4.5
          ],
          [
           599,
           "Wigs",
           "Other Wigs",
           4.5
          ],
          [
           350,
           "Skin Care Tools",
           "Acne Treatment Devices",
           4.4
          ],
          [
           359,
           "Beauty",
           "Nail Care Tool",
           4.4
          ],
          [
           188,
           "Beauty",
           "Make Up",
           4.7
          ],
          [
           389,
           "Deodorants & Antiperspirants",
           "Combination Deodorants & Antiperspirants",
           4.1
          ],
          [
           1549,
           "Beauty",
           "Make Up",
           4.7
          ],
          [
           269,
           "Beauty",
           "Make Up Tool & Accessories",
           3.8
          ],
          [
           399,
           "Beauty",
           "Fragrance",
           4.6
          ],
          [
           599,
           "Wigs",
           "Other Wigs",
           4
          ],
          [
           749,
           "Face",
           "Facial Essence",
           4.5
          ],
          [
           229,
           "Men's",
           "Razors & Blades",
           4.6
          ],
          [
           439,
           "Body",
           "Lotions",
           4.8
          ],
          [
           486,
           "Wigs",
           "Synthetic Extensions",
           4.5
          ],
          [
           399,
           "Beauty",
           "Nail Care Tool",
           4.1
          ],
          [
           399,
           "Beauty",
           "Fragrance",
           4.7
          ],
          [
           299,
           "Lip Care",
           "Scrubs",
           4.1
          ],
          [
           788,
           "Tattoo Supplies",
           "Tattoo Needles",
           4.8
          ],
          [
           300,
           "Beauty",
           "Make Up",
           4.5
          ],
          [
           2799,
           "Beauty",
           "Make Up",
           4.8
          ],
          [
           287,
           "Beauty",
           "Fragrance",
           4.2
          ],
          [
           259,
           "Face",
           "Blackhead Removal Products",
           4.5
          ],
          [
           579,
           "Hair Styling Tools & Appliances",
           "Hair Rollers",
           4.5
          ],
          [
           859,
           "Hair Accessories",
           "Other Hair Accessories",
           4.8
          ],
          [
           299,
           "Beauty",
           "Make Up",
           4.2
          ],
          [
           249,
           "Sleep & Snoring",
           "Snore Reducing Aids",
           4.1
          ],
          [
           399,
           "Children's Dental Care",
           "Dental Care Kits",
           4.5
          ],
          [
           998,
           "Beauty",
           "Fragrance",
           4.5
          ],
          [
           1099,
           "Synthetic Wigs",
           "Synthetic Lace Wigs",
           4.5
          ],
          [
           389,
           "Beauty",
           "Make Up",
           4.8
          ],
          [
           399,
           "Beauty",
           "Make Up",
           4.5
          ],
          [
           199,
           "Beauty",
           "Make Up",
           4.3
          ],
          [
           599,
           "Wigs",
           "Other Wigs",
           4.1
          ],
          [
           729,
           "Beauty",
           "Nail Care Tool",
           3.9
          ],
          [
           1199,
           "Diabetes Care",
           "Blood Glucose Monitors",
           4.9
          ],
          [
           599,
           "Vitamins & Dietary Supplements",
           "Supplements",
           4.2
          ],
          [
           2039,
           "Face",
           "Sets & Kits",
           4.7
          ],
          [
           679,
           "Body",
           "Body Butter",
           4.7
          ],
          [
           429,
           "Men's",
           "Electric Shavers",
           4.5
          ],
          [
           365,
           "Face",
           "Facial Essence",
           4.5
          ],
          [
           339,
           "Body",
           "Oils",
           4.4
          ],
          [
           350,
           "Sports Nutrition",
           "Post-Workout & Recovery",
           4.5
          ],
          [
           455,
           "Face",
           "Facial Essence",
           4.5
          ],
          [
           399,
           "Health Monitors",
           "Stethoscopes",
           4.3
          ],
          [
           245,
           "Women's",
           "Shaving Creams, Lotions & Gels",
           4.3
          ],
          [
           449,
           "Men's",
           "Razors & Blades",
           4.7
          ],
          [
           199,
           "Foot & Hand Care",
           "Foot Masks",
           4.7
          ],
          [
           1480,
           "Hair Cutting Tools",
           "Shear & Razor Cases",
           4.8
          ],
          [
           359,
           "Beauty",
           "Make Up Tool & Accessories",
           4.9
          ],
          [
           739,
           "Beauty",
           "Fragrance",
           4.6
          ],
          [
           525,
           "Sports Nutrition",
           "Fat Burners & Thermogenics",
           4.1
          ],
          [
           199,
           "Beauty",
           "Fragrance",
           4.5
          ],
          [
           1599,
           "Beauty",
           "Make Up",
           4.6
          ],
          [
           345,
           "Body",
           "Body Washes",
           4.3
          ],
          [
           549,
           "Face",
           "Facial Essence",
           4.6
          ],
          [
           359,
           "Beauty",
           "Make Up Tool & Accessories",
           4.4
          ],
          [
           249,
           "Oral Care",
           "Breath Fresheners",
           4.5
          ],
          [
           199,
           "Beauty",
           "Make Up Tool & Accessories",
           4.5
          ],
          [
           400,
           "Beauty",
           "Make Up Tool & Accessories",
           4.9
          ],
          [
           259,
           "Lip Care",
           "Balms & Moisturizers",
           4.3
          ],
          [
           165,
           "Foot & Hand Care",
           "Foot Scrub",
           4.6
          ],
          [
           189,
           "Foot & Hand Care",
           "Other Foot & Hand Care",
           4.5
          ],
          [
           2699,
           "Face",
           "Sets & Kits",
           4.7
          ],
          [
           430,
           "Vitamins & Dietary Supplements",
           "Weight Loss",
           4
          ],
          [
           499,
           "Face",
           "Treatments & Masks",
           4.5
          ],
          [
           710,
           "Hair Care",
           "Hair Loss Products",
           4
          ],
          [
           980,
           "Home Tests",
           "Health Tests",
           4.7
          ],
          [
           299,
           "Face",
           "Facial Essence",
           4.6
          ],
          [
           369,
           "Vitamins & Dietary Supplements",
           "Weight Loss",
           4
          ],
          [
           330,
           "Body",
           "Soaps",
           4.6
          ],
          [
           349,
           "Beauty",
           "Make Up",
           4.4
          ],
          [
           850,
           "Hair Cutting Tools",
           "Hair Cutting Kits",
           4.4
          ],
          [
           1399,
           "Face",
           "Toners & Astringents",
           4.5
          ],
          [
           249,
           "Face",
           "Treatments & Masks",
           4.8
          ],
          [
           199,
           "Massage Tools & Equipment",
           "Scalp Massagers",
           4.4
          ],
          [
           849,
           "Beauty",
           "Make Up",
           4.4
          ],
          [
           639,
           "First Aid",
           "First Aid Kits",
           4.9
          ],
          [
           550,
           "Vision Care",
           "Eyeglasses Care",
           5
          ],
          [
           669,
           "Tattoo Supplies",
           "Tattoo Needles",
           5
          ],
          [
           199,
           "Children's Dental Care",
           "Manual Toothbrushes",
           4
          ],
          [
           249,
           "Body",
           "Soaps",
           4.8
          ],
          [
           879,
           "Beauty",
           "Fragrance",
           4.5
          ],
          [
           399,
           "Beauty",
           "Make Up",
           4.5
          ],
          [
           550,
           "Sunscreens & Tanning Products",
           "Tanning Oils & Lotions",
           4.5
          ],
          [
           179,
           "Beauty",
           "Make Up",
           4.1
          ],
          [
           329,
           "Face",
           "Creams & Moisturizers",
           4.4
          ],
          [
           238,
           "Ear Care",
           "Earwax Removal",
           4.8
          ],
          [
           399,
           "Men's",
           "Razors & Blades",
           4.2
          ],
          [
           1499,
           "Sports Nutrition",
           "Weight Gainers",
           4.5
          ],
          [
           949,
           "Beauty",
           "Make Up Tool & Accessories",
           4.3
          ],
          [
           1750,
           "Women's",
           "Electric Shavers",
           4.2
          ],
          [
           799,
           "Toothbrushes & Accessories",
           "Powered Toothbrushes & Accessories",
           4.6
          ],
          [
           1399,
           "Bath",
           "Bath Pearls & Flakes",
           4.6
          ],
          [
           429,
           "Massage Tools & Equipment",
           "Arm Massagers",
           5
          ],
          [
           319,
           "Feminine Care",
           "Sanitary Napkins",
           4.5
          ],
          [
           2300,
           "Beauty",
           "Fragrance",
           4.5
          ],
          [
           269,
           "Bath",
           "Bath Accessories",
           4.1
          ],
          [
           299,
           "Vision Care",
           "Eye Patches",
           4.4
          ],
          [
           1449,
           "Beauty",
           "Make Up",
           4.3
          ],
          [
           371,
           "Beauty",
           "Make Up",
           4.5
          ],
          [
           825,
           "Men's",
           "Body Groomers",
           4
          ],
          [
           350,
           "Men's",
           "Beard & Mustache Care",
           4.4
          ],
          [
           699,
           "Beauty",
           "Make Up",
           4.1
          ],
          [
           698,
           "Eyes",
           "Masks",
           4.5
          ],
          [
           2399,
           "Beauty",
           "Make Up",
           4.4
          ],
          [
           499,
           "Vitamins & Dietary Supplements",
           "Vitamins",
           4.5
          ],
          [
           2499,
           "Beauty",
           "Make Up",
           4.5
          ],
          [
           3300,
           "Hair Weaves",
           "3--4 Bundles",
           5
          ],
          [
           899,
           "Face",
           "Cleansers",
           4.7
          ],
          [
           1999,
           "Body",
           "Sets & Kits",
           3.9
          ],
          [
           899,
           "Vitamins & Dietary Supplements",
           "Minerals",
           5
          ],
          [
           1459,
           "Oral Care",
           "Dental Care Kits",
           4.5
          ],
          [
           759,
           "Face",
           "Creams & Moisturizers",
           4.6
          ],
          [
           959,
           "Beauty",
           "Fragrance",
           4.7
          ],
          [
           221,
           "Styling Products",
           "Oils&Pomades",
           4.4
          ],
          [
           499,
           "Skin Care Tools",
           "Other Skin Care Tools",
           4.8
          ],
          [
           999,
           "First Aid",
           "Burn Care",
           5
          ],
          [
           2169,
           "Skin Care",
           "Sets & Kits",
           4.7
          ],
          [
           260,
           "Women's",
           "Tweezers",
           4.4
          ],
          [
           399,
           "Beauty",
           "Make Up",
           4.7
          ],
          [
           390,
           "Body",
           "Scrubs & Body Treatments",
           4.7
          ],
          [
           399,
           "Bath",
           "Bath Accessories",
           4.8
          ],
          [
           145,
           "Women's",
           "Razors & Blades",
           4.5
          ],
          [
           499,
           "Home Tests",
           "Health Tests",
           4
          ],
          [
           550,
           "Beauty",
           "Nail Care Tool",
           4
          ],
          [
           899,
           "Health Care",
           "Foot Health",
           4.1
          ],
          [
           899,
           "Oral Care",
           "Tongue Cleaners",
           4.3
          ],
          [
           500,
           "Piercing & Tattoo Supplies",
           "Piercing Supplies",
           4.2
          ],
          [
           999,
           "Beauty",
           "Make Up",
           4.5
          ],
          [
           399,
           "Beauty",
           "Make Up",
           4.2
          ],
          [
           1158,
           "Vitamins & Dietary Supplements",
           "Supplements",
           4.2
          ],
          [
           350,
           "Sunscreens & Tanning Products",
           "After Sun",
           5
          ],
          [
           99,
           "Dental Floss & Picks",
           "Dental Picks",
           5
          ],
          [
           350,
           "Foot & Hand Care",
           "Hand Masks",
           5
          ],
          [
           389,
           "Hair Coloring Products",
           "Other Hair Coloring Products",
           4.5
          ],
          [
           299,
           "Beauty",
           "Make Up",
           4.5
          ],
          [
           289,
           "Feminine Care",
           "Sanitary Napkins",
           4.4
          ],
          [
           1599,
           "Beauty",
           "Make Up",
           4.5
          ],
          [
           800,
           "Home Tests",
           "Health Tests",
           4.4
          ],
          [
           299,
           "Eyes",
           "Wrinkle Pads & Patches",
           4.2
          ],
          [
           89,
           "Extensions",
           "Wig Caps",
           4.5
          ],
          [
           670,
           "Vitamins & Dietary Supplements",
           "Herbal Supplements",
           4.2
          ],
          [
           589,
           "Wigs",
           "Other Wigs",
           4.3
          ],
          [
           1199,
           "Health Monitors",
           "Blood Pressure Monitors",
           4.3
          ],
          [
           1199,
           "Dental Floss & Picks",
           "Power Dental Flossers",
           3.4
          ],
          [
           1999,
           "Sports Nutrition",
           "Pre-Workout",
           4.4
          ],
          [
           300,
           "Beauty",
           "Make Up",
           4.5
          ],
          [
           499,
           "Incontinence & Ostomy",
           "Protective Briefs & Underwear",
           4.4
          ],
          [
           659,
           "Wigs",
           "Other Wigs",
           4.4
          ],
          [
           399,
           "Feminine Care",
           "Tampons",
           4.5
          ],
          [
           199,
           "Body",
           "Soaps",
           4.1
          ],
          [
           399,
           "Eyes",
           "Creams",
           4.5
          ],
          [
           465,
           "Men's",
           "Electric Shavers",
           4.6
          ],
          [
           799,
           "Beauty",
           "Nail Care Tool",
           4.8
          ],
          [
           299,
           "Lip Care",
           "Scrubs",
           4.2
          ],
          [
           179,
           "Beauty",
           "Fragrance",
           4.5
          ],
          [
           599,
           "Wigs",
           "Other Wigs",
           4.5
          ],
          [
           289,
           "Beauty",
           "Make Up",
           4.4
          ],
          [
           1300,
           "Hair Cutting Tools",
           "Razors",
           4.8
          ],
          [
           5059,
           "Tattoo Supplies",
           "Tattoo Kits",
           4.7
          ],
          [
           228,
           "Skin Care Tools",
           "Facial Cleansing Brushes",
           3.9
          ],
          [
           695,
           "Skin Care",
           "Skin Care Set",
           4.5
          ],
          [
           299,
           "Beauty",
           "Make Up",
           4.5
          ],
          [
           1050,
           "Men's",
           "Depilatories",
           5
          ],
          [
           999,
           "Beauty",
           "Make Up",
           4.6
          ],
          [
           1050,
           "Beauty",
           "Make Up Tool & Accessories",
           4.2
          ],
          [
           259,
           "Body",
           "Soaps",
           4.5
          ],
          [
           550,
           "Sunscreens & Tanning Products",
           "Tanning Oils & Lotions",
           4.3
          ],
          [
           799,
           "Beauty",
           "Make Up",
           5
          ],
          [
           659,
           "Synthetic Wigs",
           "Synthetic Lace Wigs",
           4.3
          ],
          [
           7139,
           "Tattoo Supplies",
           "Tattoo Kits",
           5
          ],
          [
           329,
           "Beauty",
           "Make Up",
           4.2
          ],
          [
           980,
           "Vitamins & Dietary Supplements",
           "Blended Vitamin & Mineral Supplements",
           4
          ],
          [
           290,
           "Vitamins & Dietary Supplements",
           "Herbal Supplements",
           4.5
          ],
          [
           680,
           "Health Monitors",
           "Thermometers",
           5
          ],
          [
           699,
           "Beauty",
           "Make Up",
           4.5
          ],
          [
           499,
           "Beauty",
           "Make Up",
           4.8
          ],
          [
           1799,
           "Synthetic Wigs",
           "Synthetic Lace Wigs",
           4.4
          ],
          [
           1099,
           "Beauty",
           "Fragrance",
           4.5
          ],
          [
           399,
           "Face",
           "Polishes & Scrubs",
           5
          ],
          [
           289,
           "Face",
           "Cleansers",
           4.4
          ],
          [
           689,
           "Health Care",
           "Foot Health",
           4.5
          ],
          [
           399,
           "Hair Cutting Tools",
           "Hair Clippers & Trimmers",
           4.3
          ],
          [
           670,
           "Men's",
           "After Shaves",
           5
          ],
          [
           650,
           "Vitamins & Dietary Supplements",
           "Herbal Supplements",
           4.2
          ],
          [
           920,
           "Hair Cutting Tools",
           "Razors",
           4.5
          ],
          [
           399,
           "Hair Styling Tools & Appliances",
           "Sets & Kits",
           4.1
          ],
          [
           251,
           "Beauty",
           "Make Up",
           5
          ],
          [
           274,
           "Beauty",
           "Nail Care Tool",
           4.5
          ],
          [
           159,
           "Dental Floss & Picks",
           "Dental Floss",
           4.6
          ],
          [
           1100,
           "Health Monitors",
           "Blood Pressure Monitors",
           4.9
          ],
          [
           259,
           "Beauty",
           "Make Up",
           4.3
          ],
          [
           499,
           "Beauty",
           "Make Up",
           4.2
          ],
          [
           1750,
           "Men's",
           "Shaving Accessories",
           4.7
          ],
          [
           1599,
           "Hair Styling Tools & Appliances",
           "Hair Dryers & Accessories",
           4.5
          ],
          [
           350,
           "Sports Nutrition",
           "Testosterone Boosters",
           4.3
          ],
          [
           599,
           "Hair Styling Tools & Appliances",
           "Hair Rollers",
           4.3
          ],
          [
           159,
           "Face",
           "Creams & Moisturizers",
           4.7
          ],
          [
           532,
           "Styling Products",
           "Oils&Pomades",
           4.6
          ],
          [
           385,
           "Women's",
           "Depilatories",
           5
          ],
          [
           1099,
           "Shampoo & Conditioner",
           "2-In-1 Shampoo & Conditioner",
           4.6
          ],
          [
           335,
           "Home Tests",
           "Family Planning Tests",
           5
          ],
          [
           235,
           "Sleep & Snoring",
           "Medicinal Sleep Aids",
           5
          ],
          [
           699,
           "Face",
           "Facial Essence",
           4.4
          ],
          [
           499,
           "Bath",
           "Minerals & Salts",
           4
          ],
          [
           429,
           "Foot & Hand Care",
           "Foot Creams & Lotions",
           3.7
          ],
          [
           218,
           "Beauty",
           "Make Up Tool & Accessories",
           4.7
          ],
          [
           299,
           "Beauty",
           "Make Up",
           4.4
          ],
          [
           446,
           "Sports Nutrition",
           "Nutrition Bars",
           4
          ],
          [
           1199,
           "Synthetic Wigs",
           "Synthetic Lace Wigs",
           5
          ],
          [
           299,
           "Lip Care",
           "Balms & Moisturizers",
           4.6
          ],
          [
           764,
           "Extensions",
           "Adhesives",
           4.8
          ],
          [
           389,
           "Beauty",
           "Make Up",
           4.6
          ],
          [
           299,
           "Vitamins & Dietary Supplements",
           "Herbal Supplements",
           4.1
          ],
          [
           1299,
           "Massage Tools & Equipment",
           "Leg Massagers",
           5
          ],
          [
           799,
           "Hair Styling Tools & Appliances",
           "Hair Brushes & Combs",
           4.1
          ],
          [
           229,
           "Face",
           "Treatments & Masks",
           4.6
          ],
          [
           619,
           "Beauty",
           "Make Up",
           4.4
          ],
          [
           299,
           "Men's",
           "Electric Shavers",
           3.9
          ],
          [
           799,
           "Test Strips",
           "Eye Drops",
           5
          ],
          [
           199,
           "Oral Care",
           "Tongue Cleaners",
           4.7
          ],
          [
           599,
           "Sports Nutrition",
           "Healthy Snacks & Beverages",
           4.3
          ],
          [
           2359,
           "Face",
           "Facial Essence",
           4.7
          ],
          [
           1689,
           "Face",
           "Facial Essence",
           4.8
          ],
          [
           299,
           "Face",
           "Treatments & Masks",
           4.6
          ],
          [
           499,
           "Beauty",
           "Fragrance",
           4.5
          ],
          [
           388,
           "Styling Products",
           "Oils&Pomades",
           4.5
          ],
          [
           249,
           "Oral Care",
           "Breath Fresheners",
           4.5
          ],
          [
           1029,
           "Face",
           "Toners & Astringents",
           4.9
          ],
          [
           1500,
           "Women's",
           "Shaving & Grooming Sets",
           4.3
          ],
          [
           549,
           "Beauty",
           "Fragrance",
           4.2
          ],
          [
           1809,
           "Beauty",
           "Make Up",
           4.5
          ],
          [
           350,
           "Body",
           "Scrubs & Body Treatments",
           4.5
          ],
          [
           927,
           "Wigs",
           "Synthetic Weaves",
           3
          ],
          [
           299,
           "Men's",
           "Beard & Mustache Care",
           4.2
          ],
          [
           800,
           "Massage Tools & Equipment",
           "Massage Oils",
           4.1
          ],
          [
           599,
           "Wigs",
           "Synthetic Extensions",
           4.5
          ],
          [
           479,
           "Wigs",
           "Synthetic Extensions",
           4.6
          ],
          [
           237,
           "Hair Care",
           "Hair Loss Products",
           4.2
          ],
          [
           888,
           "Beauty",
           "Fragrance",
           4.5
          ],
          [
           387,
           "Beauty",
           "Make Up Tool & Accessories",
           5
          ],
          [
           279,
           "Foot & Hand Care",
           "Other Foot & Hand Care",
           4.3
          ],
          [
           999,
           "Beauty",
           "Fragrance",
           4.6
          ],
          [
           220,
           "Beauty",
           "Make Up Tool & Accessories",
           5
          ],
          [
           299,
           "Oral Care",
           "Denture Care",
           4.7
          ],
          [
           499,
           "Foot & Hand Care",
           "Foot Rubbing Brush",
           4.3
          ],
          [
           220,
           "Beauty",
           "Make Up",
           4.4
          ],
          [
           1700,
           "Skin Care Tools",
           "Facial Steamers",
           5
          ],
          [
           659,
           "Hair Care",
           "Hair Loss Products",
           4.1
          ],
          [
           799,
           "Beauty",
           "Make Up Tool & Accessories",
           4.7
          ],
          [
           499,
           "Sports Nutrition",
           "Amino Acids",
           3.6
          ],
          [
           369,
           "Beauty",
           "Make Up",
           4.5
          ],
          [
           450,
           "Eyes",
           "Balms",
           5
          ],
          [
           500,
           "Beauty",
           "Make Up Tool & Accessories",
           4.8
          ],
          [
           399,
           "Styling Products",
           "Mousses & Foams",
           4.5
          ],
          [
           399,
           "Hair Cutting Tools",
           "Hair Clippers & Trimmers",
           4
          ],
          [
           390,
           "Men's",
           "Shaving Accessories",
           5
          ],
          [
           899,
           "Beauty",
           "Fragrance",
           4.5
          ],
          [
           299,
           "Beauty",
           "Make Up",
           3
          ],
          [
           1300,
           "Beauty",
           "Make Up",
           4.4
          ],
          [
           322,
           "Men's",
           "Beard & Mustache Care",
           4.3
          ],
          [
           699,
           "Men's",
           "After Shaves",
           5
          ],
          [
           526,
           "Beauty",
           "Make Up",
           4.4
          ],
          [
           599,
           "Tattoo Supplies",
           "Aftercare Products",
           4.5
          ],
          [
           4300,
           "Diabetes Care",
           "Othe S Diabetes Care",
           5
          ],
          [
           385,
           "Styling Products",
           "Mousses & Foams",
           5
          ],
          [
           1299,
           "Hair Styling Tools & Appliances",
           "Hair Dryers & Accessories",
           4.3
          ],
          [
           330,
           "Bath",
           "Oils",
           4.5
          ],
          [
           599,
           "Sports Nutrition",
           "Protein",
           5
          ],
          [
           399,
           "Beauty",
           "Make Up",
           4.6
          ],
          [
           1000,
           "Feminine Care",
           "Feminine Washes",
           4.8
          ],
          [
           1430,
           "Body",
           "Butt Enhancement",
           3.8
          ],
          [
           299,
           "Hair Cutting Tools",
           "Hair Clippers & Trimmers",
           4.2
          ],
          [
           1069,
           "Sports Nutrition",
           "Weight Gainers",
           4.1
          ],
          [
           1000,
           "Health Care",
           "Smoking Cessation",
           3.1
          ],
          [
           399,
           "Incontinence & Ostomy",
           "Other Incontinence & Ostomy",
           5
          ],
          [
           599,
           "Body",
           "Soaps",
           4.7
          ],
          [
           290,
           "Home Tests",
           "Family Planning Tests",
           4.8
          ],
          [
           469,
           "Oral Care",
           "Mouthwash",
           4.2
          ],
          [
           599,
           "Styling Products",
           "Hair Sprays",
           5
          ],
          [
           449,
           "Deodorants & Antiperspirants",
           "Deodorants",
           4.5
          ],
          [
           549,
           "Body",
           "Soaps",
           4.4
          ],
          [
           2499,
           "Beauty",
           "Make Up",
           4.7
          ],
          [
           1889,
           "Face",
           "Treatments & Masks",
           4.7
          ],
          [
           620,
           "Skin Care Tools",
           "Wrinkle & Anti-Aging Devices",
           4.5
          ],
          [
           1145,
           "Face",
           "Creams & Moisturizers",
           4.6
          ],
          [
           283,
           "Beauty",
           "Make Up",
           5
          ],
          [
           1199,
           "Hair Styling Tools & Appliances",
           "Hair Straighteners",
           4.7
          ],
          [
           299,
           "Body",
           "Creams",
           4.2
          ],
          [
           499,
           "Face",
           "Creams & Moisturizers",
           4.8
          ],
          [
           1499,
           "Wigs",
           "Human Hair",
           4.9
          ],
          [
           629,
           "Wigs",
           "Other Wigs",
           4.2
          ],
          [
           449,
           "Hair Styling Tools & Appliances",
           "Hair Straighteners",
           4.3
          ],
          [
           399,
           "Hair Cutting Tools",
           "Hair Clippers & Trimmers",
           4.3
          ],
          [
           470,
           "Body",
           "Soaps",
           4.2
          ],
          [
           199,
           "Skin Care Tools",
           "Traveling Bottles",
           5
          ],
          [
           1349,
           "Massage Tools & Equipment",
           "Back Massagers",
           4.3
          ],
          [
           1619,
           "Beauty",
           "Make Up",
           4.7
          ],
          [
           226,
           "Beauty",
           "Make Up Tool & Accessories",
           5
          ],
          [
           169,
           "Beauty",
           "Make Up Tool & Accessories",
           5
          ],
          [
           529,
           "Beauty",
           "Make Up Tool & Accessories",
           4.7
          ],
          [
           899,
           "Beauty",
           "Fragrance",
           4.5
          ],
          [
           399,
           "Beauty",
           "Make Up",
           4.4
          ],
          [
           989,
           "Deodorants & Antiperspirants",
           "Deodorants",
           4.2
          ],
          [
           299,
           "Hair Accessories",
           "Other Hair Accessories",
           4.9
          ],
          [
           999,
           "First Aid",
           "Gloves",
           3.4
          ],
          [
           799,
           "Hair Cutting Tools",
           "Hair Clippers & Trimmers",
           4.6
          ],
          [
           479,
           "Face",
           "Creams & Moisturizers",
           4.5
          ],
          [
           513,
           "Shampoo & Conditioner",
           "Conditioners",
           3.8
          ],
          [
           649,
           "Men's",
           "Shaving Creams, Lotions & Gels",
           4.2
          ],
          [
           399,
           "Beauty",
           "Nail Care Tool",
           5
          ],
          [
           180,
           "Beauty",
           "Make Up",
           4.3
          ],
          [
           230,
           "Ear Care",
           "Earwax Removal",
           4.3
          ],
          [
           199,
           "Face",
           "Treatments & Masks",
           3.9
          ],
          [
           279,
           "Beauty",
           "Make Up",
           5
          ],
          [
           589,
           "Beauty",
           "Nail Care Tool",
           4.1
          ],
          [
           329,
           "Oral Care",
           "Tongue Cleaners",
           4.5
          ],
          [
           1499,
           "Sports Nutrition",
           "Weight Gainers",
           4.2
          ],
          [
           599,
           "Shampoo & Conditioner",
           "Shampoos",
           3.1
          ],
          [
           488,
           "Beauty",
           "Fragrance",
           4.4
          ],
          [
           820,
           "Body",
           "Soaps",
           4.5
          ],
          [
           1150,
           "Men's",
           "Shaving Accessories",
           4.5
          ],
          [
           499,
           "Men's",
           "Nose & Ear Hair Trimmers",
           4.4
          ],
          [
           599,
           "Beauty",
           "Nail Care Tool",
           4.7
          ],
          [
           199,
           "Beauty",
           "Make Up",
           4.3
          ],
          [
           299,
           "Deodorants & Antiperspirants",
           "Antiperspirants",
           5
          ],
          [
           480,
           "Home Tests",
           "Health Tests",
           5
          ],
          [
           399,
           "Beauty",
           "Make Up",
           4.6
          ],
          [
           699,
           "Wigs",
           "Other Wigs",
           4.2
          ],
          [
           899,
           "Beauty",
           "Fragrance",
           4.6
          ],
          [
           1399,
           "Beauty",
           "Make Up",
           4.5
          ],
          [
           299,
           "Foot & Hand Care",
           "Foot Creams & Lotions",
           4.5
          ],
          [
           399,
           "First Aid",
           "Masks",
           4.7
          ],
          [
           199,
           "Foot & Hand Care",
           "Foot Masks",
           4.4
          ],
          [
           649,
           "Body",
           "Neck Cream",
           4.6
          ],
          [
           149,
           "Face",
           "Creams & Moisturizers",
           4.5
          ],
          [
           1899,
           "Hair Care",
           "Hair & Scalp Care",
           4.3
          ],
          [
           288,
           "Lip Care",
           "Lip Butters",
           4
          ],
          [
           219,
           "Body",
           "Soaps",
           4.6
          ],
          [
           699,
           "Beauty",
           "Fragrance",
           5
          ],
          [
           699,
           "Hair Styling Tools & Appliances",
           "Hair Rollers",
           4.5
          ],
          [
           398,
           "Feminine Care",
           "Sanitary Napkins",
           3.7
          ],
          [
           390,
           "Beauty",
           "Make Up",
           4
          ],
          [
           599,
           "Face",
           "Facial Essence",
           4.7
          ],
          [
           2099,
           "Beauty",
           "Make Up",
           4.6
          ],
          [
           999,
           "Children's Dental Care",
           "Toothpaste",
           4
          ],
          [
           499,
           "Face",
           "Facial Essence",
           4.5
          ],
          [
           1919,
           "Skin Care",
           "Sets & Kits",
           4.8
          ],
          [
           599,
           "Synthetic Wigs",
           "Synthetic Lace Wigs",
           3.5
          ],
          [
           99,
           "Bath",
           "Bath Accessories",
           4.6
          ],
          [
           560,
           "Men's",
           "Shaving Accessories",
           4.4
          ],
          [
           299,
           "Lip Care",
           "Balms & Moisturizers",
           4.3
          ],
          [
           278,
           "Beauty",
           "Fragrance",
           4.4
          ],
          [
           252,
           "Face",
           "Nose Strip",
           5
          ],
          [
           499,
           "Foot & Hand Care",
           "Other Foot & Hand Care",
           4.7
          ],
          [
           499,
           "Eyes",
           "Serums",
           5
          ],
          [
           399,
           "Beauty",
           "Make Up",
           5
          ],
          [
           499,
           "Vitamins & Dietary Supplements",
           "Herbal Supplements",
           4.6
          ],
          [
           299,
           "Beauty",
           "Make Up",
           4.6
          ],
          [
           229,
           "Beauty",
           "Make Up",
           4.8
          ],
          [
           299,
           "Beauty",
           "Fragrance",
           4.5
          ],
          [
           3949,
           "Health Care",
           "Foot Health",
           5
          ],
          [
           599,
           "Synthetic Wigs",
           "Synthetic Lace Wigs",
           4
          ],
          [
           859,
           "Beauty",
           "Make Up",
           4.4
          ],
          [
           970,
           "Beauty",
           "Make Up",
           4.8
          ],
          [
           289,
           "Skin Care Tools",
           "Facial Rollers",
           4.5
          ],
          [
           850,
           "Women's",
           "Electric Shavers",
           5
          ],
          [
           999,
           "Beauty",
           "Fragrance",
           4.7
          ],
          [
           129,
           "Beauty",
           "Make Up Tool & Accessories",
           4.4
          ],
          [
           1800,
           "Shampoo & Conditioner",
           "Conditioners",
           5
          ],
          [
           629,
           "Beauty",
           "Make Up",
           4.6
          ],
          [
           499,
           "Beauty",
           "Make Up",
           4.8
          ],
          [
           1399,
           "Beauty",
           "Make Up",
           4.4
          ],
          [
           599,
           "Wigs",
           "Other Wigs",
           4.1
          ],
          [
           399,
           "Oral Care",
           "Toothpaste",
           5
          ],
          [
           379,
           "Beauty",
           "Fragrance",
           4.1
          ],
          [
           249,
           "Hair Care",
           "Hair Loss Products",
           4.2
          ],
          [
           279,
           "Face",
           "Facial Essence",
           4.7
          ],
          [
           849,
           "Men's",
           "Electric Shavers",
           4.5
          ],
          [
           229,
           "Beauty",
           "Make Up Tool & Accessories",
           4.2
          ],
          [
           299,
           "Beauty",
           "Make Up",
           4.5
          ],
          [
           399,
           "Hair Cutting Tools",
           "Hair Clippers & Trimmers",
           4.3
          ],
          [
           1029,
           "Beauty",
           "Make Up",
           3
          ],
          [
           935,
           "Bath",
           "Bubble Bath",
           4.5
          ],
          [
           450,
           "Piercing & Tattoo Supplies",
           "Piercing Supplies",
           4.6
          ],
          [
           359,
           "Beauty",
           "Make Up",
           4.2
          ],
          [
           1005,
           "Body",
           "Lotions",
           4.8
          ],
          [
           1199,
           "Body",
           "Lotions",
           4.1
          ],
          [
           599,
           "Eyes",
           "Serums",
           3.3
          ],
          [
           350,
           "Vitamins & Dietary Supplements",
           "Herbal Supplements",
           4.3
          ],
          [
           149,
           "Body",
           "Soaps",
           4.2
          ],
          [
           649,
           "Body",
           "Scrubs & Body Treatments",
           4.2
          ],
          [
           599,
           "Oral Care",
           "Denture Care",
           3.5
          ],
          [
           349,
           "Styling Products",
           "Waxes",
           4.6
          ],
          [
           314,
           "Eyes",
           "Serums",
           5
          ],
          [
           345,
           "Sunscreens & Tanning Products",
           "Sunscreens",
           4.3
          ],
          [
           699,
           "Face",
           "Facial Essence",
           4.5
          ],
          [
           563,
           "Beauty",
           "Make Up Tool & Accessories",
           5
          ],
          [
           599,
           "Men's",
           "Electric Shavers",
           4.5
          ],
          [
           399,
           "Beauty",
           "Make Up",
           5
          ],
          [
           199,
           "Beauty",
           "Make Up",
           4.1
          ],
          [
           1190,
           "Health Monitors",
           "Body Weight Scales",
           4.7
          ],
          [
           399,
           "Extensions",
           "Wig Heads & Stands",
           4.3
          ],
          [
           530,
           "Massage Tools & Equipment",
           "Massage Oils",
           3.6
          ],
          [
           649,
           "Sports Nutrition",
           "Endurance & Energy",
           3
          ],
          [
           180,
           "Men's",
           "Waxing",
           4.8
          ],
          [
           475,
           "Home Tests",
           "Health Tests",
           4.3
          ],
          [
           199,
           "Face",
           "Cleansers",
           4.6
          ],
          [
           1869,
           "Sunscreens & Tanning Products",
           "Sunscreens",
           4.3
          ],
          [
           315,
           "Beauty",
           "Fragrance",
           4.8
          ],
          [
           619,
           "Beauty",
           "Make Up",
           4.3
          ],
          [
           399,
           "Eyes",
           "Masks",
           4.7
          ],
          [
           399,
           "Beauty",
           "Make Up",
           4.5
          ],
          [
           250,
           "Beauty",
           "Make Up",
           4.5
          ],
          [
           595,
           "Shampoo & Conditioner",
           "Shampoos",
           5
          ],
          [
           459,
           "Beauty",
           "Make Up",
           4.7
          ],
          [
           799,
           "Massage Tools & Equipment",
           "Other Electric Massagers",
           4.2
          ],
          [
           285,
           "Lip Care",
           "Ointments",
           2.7
          ],
          [
           799,
           "Hair Styling Tools & Appliances",
           "Hair Combs",
           4.4
          ],
          [
           369,
           "Women's",
           "Shaving & Grooming Sets",
           5
          ],
          [
           275,
           "Beauty",
           "Nail Care Tool",
           4.8
          ],
          [
           399,
           "Beauty",
           "Fragrance",
           4.4
          ],
          [
           899,
           "Hair Styling Tools & Appliances",
           "Hair Straighteners",
           4.8
          ],
          [
           199,
           "Beauty",
           "Make Up Tool & Accessories",
           4
          ],
          [
           2229,
           "Skin Care",
           "Sets & Kits",
           4.9
          ],
          [
           249,
           "Beauty",
           "Make Up Tool & Accessories",
           4.5
          ],
          [
           279,
           "Beauty",
           "Make Up",
           4.3
          ],
          [
           1979,
           "Skin Care",
           "Sets & Kits",
           4.8
          ],
          [
           289,
           "Beauty",
           "Make Up",
           4.4
          ],
          [
           529,
           "Body",
           "Oils",
           4.4
          ],
          [
           549,
           "Face",
           "Cleansers",
           4.6
          ],
          [
           728,
           "Body",
           "Creams",
           4.7
          ],
          [
           1499,
           "Massage Tools & Equipment",
           "Leg Massagers",
           4.8
          ],
          [
           720,
           "Deodorants & Antiperspirants",
           "Antiperspirants",
           4.8
          ],
          [
           499,
           "Foot & Hand Care",
           "Other Foot & Hand Care",
           4.3
          ],
          [
           299,
           "Oral Care",
           "Denture Care",
           1.9
          ],
          [
           879,
           "Home Tests",
           "Health Tests",
           4.6
          ],
          [
           290,
           "Hair Styling Tools & Appliances",
           "Hair Brushes",
           4.3
          ],
          [
           430,
           "Styling Products",
           "Mousses & Foams",
           4.6
          ],
          [
           149,
           "Beauty",
           "Make Up",
           4.1
          ],
          [
           197,
           "Beauty",
           "Make Up",
           4.2
          ],
          [
           1709,
           "Deodorants & Antiperspirants",
           "Antiperspirants",
           5
          ],
          [
           569,
           "Beauty",
           "Nail Care Tool",
           4.7
          ],
          [
           1275,
           "Body",
           "Lotions",
           4.8
          ],
          [
           878,
           "Dental Floss & Picks",
           "Power Dental Flossers",
           5
          ],
          [
           499,
           "Beauty",
           "Fragrance",
           4.5
          ],
          [
           1190,
           "Health Monitors",
           "Body Weight Scales",
           4.7
          ],
          [
           599,
           "Wigs",
           "Other Wigs",
           4
          ],
          [
           4300,
           "Massage Tools & Equipment",
           "Massage Oils",
           5
          ],
          [
           599,
           "Beauty",
           "Make Up Tool & Accessories",
           5
          ],
          [
           699,
           "Face",
           "Facial Essence",
           4.8
          ],
          [
           390,
           "Bath",
           "Bath Accessories",
           4.7
          ],
          [
           595,
           "Feminine Care",
           "Tampons",
           4.5
          ],
          [
           2699,
           "Beauty",
           "Make Up",
           4.7
          ],
          [
           559,
           "Beauty",
           "Make Up",
           4.2
          ],
          [
           1030,
           "Synthetic Wigs",
           "Synthetic Lace Wigs",
           5
          ],
          [
           138,
           "Beauty",
           "Make Up",
           5
          ],
          [
           280,
           "Wigs",
           "Synthetic Weaves",
           5
          ],
          [
           599,
           "Wigs",
           "Other Wigs",
           4.5
          ],
          [
           979,
           "Sunscreens & Tanning Products",
           "Sunscreens",
           4.9
          ],
          [
           599,
           "Synthetic Wigs",
           "Synthetic Lace Wigs",
           4.4
          ],
          [
           499,
           "Skin Care",
           "Skin Care Set",
           4.5
          ],
          [
           1081,
           "Wigs",
           "Human Hair",
           2.6
          ],
          [
           370,
           "Face",
           "Facial Essence",
           4.5
          ],
          [
           560,
           "Beauty",
           "Fragrance",
           5
          ],
          [
           509,
           "Hair Styling Tools & Appliances",
           "Hair Brushes & Combs",
           4.8
          ],
          [
           349,
           "Face",
           "Creams & Moisturizers",
           4.5
          ],
          [
           330,
           "Skin Care Tools",
           "Diy Mask Tools",
           4.9
          ],
          [
           670,
           "Body",
           "Lotions",
           4.8
          ],
          [
           739,
           "Feminine Care",
           "Deodorant Sprays",
           5
          ],
          [
           299,
           "Beauty",
           "Make Up Tool & Accessories",
           4.4
          ],
          [
           279,
           "Face",
           "Treatments & Masks",
           4.8
          ],
          [
           469,
           "Beauty",
           "Make Up",
           4.8
          ],
          [
           599,
           "Wigs",
           "Other Wigs",
           4.3
          ],
          [
           1300,
           "Shampoo & Conditioner",
           "Shampoo & Conditioner Sets",
           4.6
          ],
          [
           1070,
           "Sports Nutrition",
           "Weight Gainers",
           4.5
          ],
          [
           1450,
           "Face",
           "Treatments & Masks",
           4.3
          ],
          [
           989,
           "Face",
           "Facial Essence",
           4.7
          ],
          [
           699,
           "Health Monitors",
           "Thermometers",
           4.5
          ],
          [
           950,
           "First Aid",
           "Itching & Rash Treatments",
           4
          ],
          [
           299,
           "Beauty",
           "Make Up",
           3
          ],
          [
           649,
           "Body",
           "Lotions",
           4.5
          ],
          [
           350,
           "Beauty",
           "Make Up",
           4.5
          ],
          [
           399,
           "Lip Care",
           "Balms & Moisturizers",
           4.9
          ],
          [
           599,
           "Wigs",
           "Other Wigs",
           4.3
          ],
          [
           450,
           "Beauty",
           "Make Up",
           4.5
          ],
          [
           1350,
           "Sports Nutrition",
           "Testosterone Boosters",
           5
          ],
          [
           590,
           "Body",
           "Creams",
           4.7
          ],
          [
           194,
           "Face",
           "Toners & Astringents",
           4.7
          ],
          [
           1215,
           "Body",
           "Sets & Kits",
           4.9
          ],
          [
           759,
           "Men's",
           "After Shaves",
           4
          ],
          [
           430,
           "Feminine Care",
           "Feminine Wipes",
           4
          ],
          [
           700,
           "Body",
           "Oils",
           4.5
          ],
          [
           1099,
           "Beauty",
           "Make Up",
           4.5
          ],
          [
           307,
           "Beauty",
           "Make Up",
           4.8
          ],
          [
           1512,
           "Health Care",
           "Foot Health",
           4.3
          ],
          [
           799,
           "Deodorants & Antiperspirants",
           "Deodorants",
           5
          ],
          [
           319,
           "Beauty",
           "Fragrance",
           4.3
          ],
          [
           1948,
           "Skin Care Tools",
           "Facial Steamers",
           4.8
          ],
          [
           499,
           "Beauty",
           "Make Up",
           4.7
          ],
          [
           599,
           "Wigs",
           "Other Wigs",
           4.2
          ],
          [
           199,
           "Oral Care",
           "Tongue Cleaners",
           4.6
          ],
          [
           299,
           "Vitamins & Dietary Supplements",
           "Weight Loss",
           4.3
          ],
          [
           359,
           "Tattoo Supplies",
           "Tattoo Inks",
           5
          ],
          [
           699,
           "Beauty",
           "Make Up",
           4.5
          ],
          [
           359,
           "Beauty",
           "Fragrance",
           4.3
          ],
          [
           549,
           "Feminine Care",
           "Deodorant Sprays",
           5
          ],
          [
           479,
           "Face",
           "Creams & Moisturizers",
           4.5
          ],
          [
           385,
           "Hair Styling Tools & Appliances",
           "Hair Rollers",
           4.7
          ],
          [
           199,
           "Face",
           "Treatments & Masks",
           4.6
          ],
          [
           120,
           "Beauty",
           "Make Up Tool & Accessories",
           3
          ],
          [
           799,
           "Beauty",
           "Make Up",
           3.3
          ],
          [
           599,
           "Men's",
           "Electric Shavers",
           4.5
          ],
          [
           499,
           "Beauty",
           "Nail Care Tool",
           4.5
          ],
          [
           499,
           "Face",
           "Facial Essence",
           4.6
          ],
          [
           1500,
           "Massage Tools & Equipment",
           "Foot Massagers",
           2.7
          ],
          [
           245,
           "Face",
           "Facial Essence",
           4.3
          ],
          [
           1739,
           "Face",
           "Facial Essence",
           4.8
          ],
          [
           1499,
           "Hair Styling Tools & Appliances",
           "Hair Dryers & Accessories",
           4.5
          ],
          [
           1399,
           "Beauty",
           "Make Up",
           4.2
          ],
          [
           1450,
           "Beauty",
           "Fragrance",
           4.7
          ],
          [
           499,
           "Beauty",
           "Nail Care Tool",
           4.5
          ],
          [
           99,
           "Face",
           "Treatments & Masks",
           5
          ],
          [
           450,
           "Bath",
           "Oils",
           4.3
          ],
          [
           299,
           "Oral Care",
           "Breath Fresheners",
           4.7
          ],
          [
           229,
           "Massage Tools & Equipment",
           "Massage Oils",
           4.5
          ],
          [
           459,
           "Massage Tools & Equipment",
           "Back Massagers",
           4.1
          ],
          [
           723,
           "Body",
           "Lotions",
           4.6
          ],
          [
           960,
           "Body",
           "Lotions",
           4.8
          ],
          [
           655,
           "Beauty",
           "Make Up",
           4.8
          ],
          [
           499,
           "Body",
           "Lotions",
           4.2
          ],
          [
           1800,
           "Men's",
           "Shaving Accessories",
           4
          ],
          [
           449,
           "Oral Care",
           "Breath Fresheners",
           4.5
          ],
          [
           279,
           "Beauty",
           "Nail Care Tool",
           4.3
          ],
          [
           2800,
           "First Aid",
           "Masks",
           4.8
          ],
          [
           199,
           "Lip Care",
           "Lip Mask",
           2.3
          ],
          [
           1489,
           "Health Monitors",
           "Blood Pressure Monitors",
           4.5
          ],
          [
           549,
           "Body",
           "Creams",
           5
          ],
          [
           799,
           "Wigs",
           "Other Wigs",
           4
          ],
          [
           685,
           "Foot & Hand Care",
           "Hand Creams & Lotions",
           4.8
          ],
          [
           459,
           "Face",
           "Cleansers",
           4.7
          ],
          [
           899,
           "Oral Care",
           "Toothpaste",
           4.4
          ],
          [
           439,
           "Skin Care Tools",
           "Facial Cleansing Brushes",
           4.3
          ],
          [
           339,
           "Beauty",
           "Fragrance",
           4.5
          ],
          [
           859,
           "Wigs",
           "Other Wigs",
           4.6
          ],
          [
           299,
           "Face",
           "Treatments & Masks",
           4.4
          ],
          [
           1649,
           "Hair Styling Tools & Appliances",
           "Hair Dryers & Accessories",
           4.5
          ],
          [
           600,
           "Shampoo & Conditioner",
           "Shampoos",
           5
          ],
          [
           499,
           "Beauty",
           "Make Up Tool & Accessories",
           3
          ],
          [
           1450,
           "Bath",
           "Bath Pearls & Flakes",
           4.5
          ],
          [
           989,
           "Shampoo & Conditioner",
           "Conditioners",
           4.8
          ],
          [
           6229,
           "Tattoo Supplies",
           "Tattoo Kits",
           5
          ],
          [
           229,
           "Face",
           "Facial Essence",
           4.1
          ],
          [
           825,
           "Hair Styling Tools & Appliances",
           "Hair Combs",
           4.5
          ],
          [
           699,
           "Styling Products",
           "Hair Sprays",
           4.4
          ],
          [
           978,
           "Oral Care",
           "Breath Fresheners",
           4.5
          ],
          [
           320,
           "Face",
           "Treatments & Masks",
           4.8
          ],
          [
           1099,
           "Body",
           "Lotions",
           5
          ],
          [
           199,
           "Beauty",
           "Fragrance",
           4.6
          ],
          [
           1809,
           "Beauty",
           "Make Up",
           4.6
          ],
          [
           1899,
           "Women's",
           "Bleaching",
           5
          ],
          [
           299,
           "Face",
           "Treatments & Masks",
           4.6
          ],
          [
           459,
           "Eyes",
           "Masks",
           4.5
          ],
          [
           449,
           "Body",
           "Body Butter",
           5
          ],
          [
           759,
           "Face",
           "Facial Essence",
           4.4
          ],
          [
           780,
           "Deodorants & Antiperspirants",
           "Combination Deodorants & Antiperspirants",
           5
          ],
          [
           489,
           "Health Monitors",
           "Blood Pressure Monitors",
           3.8
          ],
          [
           2599,
           "Massage Tools & Equipment",
           "Other Electric Massagers",
           4.8
          ],
          [
           219,
           "Body",
           "Soaps",
           4.9
          ],
          [
           299,
           "Face",
           "Blackhead Removal Products",
           4.5
          ],
          [
           2199,
           "Eyes",
           "Rollers&Pens",
           5
          ],
          [
           1619,
           "Beauty",
           "Make Up",
           4.6
          ],
          [
           690,
           "Wigs",
           "Other Wigs",
           4
          ],
          [
           4499,
           "Home Tests",
           "Health Tests",
           4.9
          ],
          [
           619,
           "Beauty",
           "Make Up",
           5
          ],
          [
           999,
           "Hair Styling Tools & Appliances",
           "Hair Dryers & Accessories",
           4.2
          ],
          [
           639,
           "Skin Care Tools",
           "Other Skin Care Tools",
           4.4
          ],
          [
           759,
           "Face",
           "Facial Essence",
           4.5
          ],
          [
           649,
           "Feminine Care",
           "Panty Liners",
           5
          ],
          [
           389,
           "Body",
           "Oils",
           4.1
          ],
          [
           988,
           "Face",
           "Toners & Astringents",
           4.8
          ],
          [
           359,
           "Beauty",
           "Fragrance",
           4.6
          ],
          [
           1299,
           "Hair Styling Tools & Appliances",
           "Hot-Air Brushes",
           4.1
          ],
          [
           1199,
           "Hair Care",
           "Hair & Scalp Care",
           4.3
          ],
          [
           299,
           "Toothbrushes & Accessories",
           "Toothbrush Travel Containers",
           5
          ],
          [
           459,
           "Dental Floss & Picks",
           "Dental Picks",
           4.6
          ],
          [
           299,
           "Deodorants & Antiperspirants",
           "Deodorants",
           3.6
          ],
          [
           1099,
           "Massage Tools & Equipment",
           "Other Electric Massagers",
           4.2
          ],
          [
           799,
           "Hair Styling Tools & Appliances",
           "Hair Combs",
           4.4
          ],
          [
           650,
           "Sleep & Snoring",
           "Medicinal Sleep Aids",
           3.5
          ],
          [
           377,
           "Women's",
           "Tweezers",
           5
          ],
          [
           1649,
           "Beauty",
           "Fragrance",
           4.8
          ],
          [
           1298,
           "Hair Styling Tools & Appliances",
           "Hair Brushes",
           4.4
          ],
          [
           560,
           "Men's",
           "Depilatories",
           3.4
          ],
          [
           2114,
           "Tattoo Supplies",
           "Tattoo Inks",
           4.5
          ],
          [
           450,
           "Bath",
           "Oils",
           2.7
          ],
          [
           1899,
           "Beauty",
           "Fragrance",
           5
          ],
          [
           675,
           "Hair Coloring Products",
           "Hair Color",
           5
          ],
          [
           631,
           "First Aid",
           "Bandages & Bandaging Supplies",
           5
          ],
          [
           399,
           "Styling Products",
           "Hair Sprays",
           5
          ],
          [
           299,
           "Beauty",
           "Make Up",
           4.5
          ],
          [
           219,
           "Beauty",
           "Make Up Tool & Accessories",
           4.6
          ],
          [
           499,
           "Skin Care",
           "Skin Care Set",
           4.8
          ],
          [
           399,
           "Beauty",
           "Nail Care Tool",
           4.4
          ],
          [
           850,
           "Beauty",
           "Make Up",
           5
          ],
          [
           390,
           "Body",
           "Breast Enhancement Creams",
           4.1
          ],
          [
           689,
           "Women's",
           "Epilators, Groomers & Trimmers",
           3.9
          ],
          [
           1199,
           "Hair Cutting Tools",
           "Hair Clippers & Trimmers",
           4.4
          ],
          [
           599,
           "Vitamins & Dietary Supplements",
           "Weight Loss",
           4.2
          ],
          [
           549,
           "Hair Styling Tools & Appliances",
           "Sets & Kits",
           5
          ],
          [
           299,
           "Beauty",
           "Make Up",
           5
          ],
          [
           1990,
           "Health Monitors",
           "Thermometers",
           4.5
          ]
         ],
         "hovertemplate": "<b>%{hovertext}</b><br><br>Customer_reviews=%{x}<br>Discount_rate=%{y}<br>Price=%{customdata[0]}<br>Category=%{customdata[1]}<br>Sub_Category=%{customdata[2]}<br>Rating=%{marker.color}<extra></extra>",
         "hovertext": [
          "4 Pcs Men Perfume Set Perfumes Different Fragrances Long Lasting Business Eau de Parfum Classic Flowers Deodorants Gift",
          "[Promotion] USB Electric Hair Cutting Machine Rechargeable Hair Clipper Man Shaver Trimmer Barber Professional Beard Trimmer Julie Fashion Store",
          "(Clearance Price)RichRipple Vintage T9 Hair cutting machine Hair Clipper Professional Electric Shaver Trimmer for men Machine Shaving Trimmer Beard USB",
          "2 In 1 Curling Iron Hair Straightener Flat Iron Straightening Irons Hair Styling Tools Hair Beauty",
          "2 in 1 Hot Comb Straightener Electric Hair Straightener Hair Curler Wet Dry Use Hair Flat Irons Hot Heating Comb For Hair",
          "KEMEI Rechargeable Hair Clipper Hair Cutting Men Waterproof Electric Shaver Hair Trimmer Tools Shaving Machine",
          "Garnier Pure Active 3 In1 Charcoal Anti Blackhead Mask Wash Scrub -150ml",
          "30ml * 3 Bottle 3pcs Ladies Perfumes Eau De Parfum Floral Fragrances Long Lasting Deodorants",
          "FBK Women Hair Ladies Body Wave Black Long Curly Synthetic Wigs For Women Gift",
          "13Pcs Makeup Brushes Set Foundation Powder Eyeshadow Concealer Blending Makeup brush set Beauty Tool with Bag New Arrival",
          "4 PCS Ladies Perfume Set Eau De Parfum Gift Box Perfumes Long Lasting Light Fragrance Women Perfume Fresh Woody Floral Notes",
          "3 in1 Women Electric Eyebrow Trimmer Mini Eye Brow Epilator Facial Hair Removal USB Charging Portable Women Painless Razor Shaver Tool",
          "Garnier Acne Control Kit: Pure Active Charcoal Wash+ Serum + Air Cream",
          "27Pcs Skin Care Set Aloe Facial Cleanser +Aloe Moisturizing lotion + Face Essence +Face Toner Tone+Eye Cream + Masks 20PCS+Lipstick + Hand Cream Gift set",
          "168W Bluecue Nail Dryer Led uv Light 36 Led Machine nail enhancement lamp Professional Dry Gel polish 10/30/60/99 Seconds Timer Induction Automatic Nail Machine",
          "27Pcs Skin Care Set Vitamin C Face Cleansers + Moisturizing lotion + Face Essence +Face Toner Tone+Eye Cream +20Pcs Masks +Lipstick + Hand Cream Gift set",
          "【Discounted】NIVEA UV Face Shine Control Cream sunscreen SPF 50- 50 ml - provides immediate & effective sun protection. It offers a long-lasting & instant mattifying effect.",
          "FBK Ladie Long Straight Hair Synthetic Middle Part Black Wigs For Women Gift",
          "Travel Accessories Toothbrush Tube Cover Case Cap Fashion Plastic Suitcase Holder Baggage Boarding Bathroom Products",
          "Collagen Anti-wrinkle Hand Cream Skin Soften Nourish Anti-drying Whitening Moisturizing African Skin Care Cracked Repair Products Hand Creams & Lotions",
          "Led Lamp For Nails Uv Nail Drying Light For Gel Nail Manicure Polish Cabin Lamps Dryer Machine Nails Equipment Professional",
          "Women Waterproof Black Eyeliner Pen Delicate Makeup Eye Liner Pencil Cosmetics Beauty Tools",
          "Men's perfume suit has 4 different fragrances Classic Long Lasting Fragrances Deodorants Gift",
          "2 In 1 Electric Splint Hair Straightener 2024 Hot Comb Brush Hair Styling Straight Curling Dual-Use Bangs Curling Rod",
          "Blood Pressure Monitors English Usb Blood Pressure Meter Backlight Blood Pressure Meter Blood Pressure Meter",
          "Pro One Step Hair Dryer Hair Comb Brush Volumizer Hair Straightener Hot Air Curling Iron Rotating Hair Rollers Straightening Irons",
          "Wig ladies fashion long curly black wigs hair for women gift",
          "Shower Cap Women Hair Cap Microfibre Quick Hair Drying Bath Spa Bowknot Cap Wrap Towel Hat For Bath Bathroom Accessories",
          "Garnier Even & Matte Vitamin C Booster Serum 30ML",
          "Garnier Bye Acne & Dark Spots Skin Care Kit.",
          "EM Blow Dryer Hair Blower 2200W with 3 Speed & 2 Temperature Settings – Includes 2 Styling Nozzle & 2 Comb Attachments for Versatile Hair Styling ElectroMate",
          "Waterproof mascara will last for a long time Makeup Eye black cross-border super long thin brush head, durable waterproof, thick, curly and non smudging",
          "Pink Roller Massager Resin Guasha Scraping Board Facial Skin Care guasha massage for face Scraper SPA Massager Acupuncture Tools",
          "【Discounted】Garnier Even & Matte Vitamin C Sunscreen SPF30 50ml",
          "New V34 Teeth Whitening Teeth Mousse Deep Cleaning Toothpaste Cigarette Stains Repair Bright Neutralizes Yellow Tones Dental Plaque Fresh Breath Oral Care",
          "New 13Pcs Makeup Brush Set Foundation Powder Eyebrow Eyeshadow Blending Blush Brushes Beauty Make Up Kit Tool",
          "4 In 1 Rechargeable Shaver Shaving Machine Hair Clipper Nose Hair Trimmer Face Brush Waterproof for Men-USB Plug",
          "Garnier AHA+BHA Charcoal Mattifying Air Moisturizing Cream",
          "30ml Men Beard Growth Roller Set Beard Growth Kit Men's Beard Growth Essence Nourishing Enhancer Beard Oil Spray Beard Care",
          "Body Whitening Cream Underarm Knee Buttocks Private Bleach Remove Melanin Pigmentation Improve Dull Nourish Brighten Skin Care",
          "Double-Sided Silicone Face Cleansing Brush Facial Cleanser Blackhead Removal Product Pore Cleaner Exfoliator Face Scrub Brush",
          "1000ml Hot Water Bag With Cloth Cover Hot Water Bottle Cute Portable Hotwater Warmer Screw As Gift Women Lady Student",
          "85g Anti Crack Foot Cream Dryness Foot Mask Heel Cracked Repair Cream Hand Mositurizing Removal Callus Dead Skin Hands Feet Care 4.5",
          "8PCS Eyebrow Shaper Makeup Template Eyebrow Grooming Shaping Stencil Kit DIY Eyebrow Template Reusable 8 in1 Eyebrow Shaping",
          "Mini Massage Gun, Percussion Deep Tissues Muscle Massager Gun with 6 Speeds, Type-C Charging, 35DB Ultra Quiet, Portable Electric Handheld Body Massager for Back Neck Pain Relief",
          "Large-Capacity Travel Cosmetic Bag Portable PU Makeup Bag/Box Pouch Women Waterproof Bathroom Washbag Multifunctional Toiletry Kit Storage Box",
          "12/18 PCS/Set Nail Clippers Trimmers Ear Spoon Dead Skin Pliers Nail Cutting Stainless Steel Scissors Nail Beauty Manicure Tools",
          "Anti-Crack Repair Cream 88g Moisturizing Anti-Dry Hand, Foot and Heel Crack King Cream Face Cream",
          "4pcs Professional Cosmetic Puffs Fashion Make up Blender Sponge Foundation Powder Sponge Blending Beauty Tool Accessories",
          "3pcs/set Makeup Bags Travel Wash Bag Transparent Waterproof Makeup Transparent waterproof makeup bag Storage Pouch Large Capacity",
          "4pcs & 6pcs Gel Nail Polish Set Glitter Nail Art Kit Gel Soak Off UV LED Manicure Nail Polish DIY Girls (8.5ml / bottles)",
          "Nail Gel Lamp Manicure kits LED Nail Dryer Nail Manicure Tool UV Portable UV Led Nail Dryer Lamp Nail Kits(Acrylic liquid not included)",
          "Double Head Eyebrow Pencil Super Fine Natural Long Lasting Waterproof Professional Brow Pen Eye Makeup Tattoo Eyebrow Pencil Brow Tattoo Pen Paint Makeup Eyebrows",
          "10Pcs Professional Pedicure Tools Set Foot Care Kit Stainless Steel Foot Rasp Foot Dead Skin Remover Callus Clean Feet Care",
          "Sinocare Safe AQ Smart Glucometer Exact Blood Glucose Meter Diabetes Home Blood Sugar Tester Kit Blood Glucose Test Machine with 25pcs Strips Lancets",
          "Manicure Tools Set Drill Pen Nail Brush Nail File Rhinestone Multifunctional Colorful Set",
          "100pcs Dental Floss Flosser Picks Toothpicks Teeth Stick Interdental Brush Tooth Cleaning Dental Floss Pick Oral Care",
          "1 Set Professional Electric Nail Drill Machine Manicure Machine Pedicure Drill Set Ceramic Nail File Nail Drill Equipment Tools ,Nail Art Nail Tools 6 Bits Drill Personal Care",
          "6Pcs Ear-digging artifact stainless steel ear-digging spoon ear-picking tool ear-digging spoon-digging ear cleaner earpick",
          "Women Lip Balm Crystal Temperature Change Lipstick Girl Moisturizing LongLasting Lip Gloss Makeup Lip Care Repair Cosmetic Change Beauty Makeup Beauty",
          "PAFEL X-3 Electric Toothbrush USB Charging Intelligent Timed Reminder With 6 Cleaning Modes IPX7 Waterproof Powerful Cleaning Electric toothbrushes",
          "Hair Removal Wax-melt Machine Heater 4 Package Wax Beans 10 Wood Stickers Hair Removal Machine Waxing Kit",
          "4PCS Ladies Perfume Flowers Women's Perfume Set Different Fragrance Eau De Parfum Long Lasting Business Deodorants Gift",
          "JEAN MISS Brand New 3-bottle 30ML Men's Perfume Gift Suit",
          "Hot Selling MM Brand New toothpaste 100g toothpaste toothpaste to remove tooth stains, smoke stains, coffee stains, clean mouth, keep fresh breath, various flavors of MM toothpaste",
          "Natural Lip Balm for Lip Care Pink Fresh Lightening Oil To Remove Dark Lip Lipstick Moisturizer",
          "15Pcs Nail Art Brushes Set Nail Art Dotting Pen Drawing Painting Acrylic Pull Line Pens Nail DIY Striping Brushes Manicure Tools Fine Hand Painted Thin Hook Line Pen Art Supplies Drawing Art Pen Paint",
          "5pcs Vaginal Detox Pearls for Women Tampons Chinese Medicine Swab Tampons Discharge Toxins Gynaecology",
          "Waterproof mascara will last for a long timeMakeup Eye black cross-border super longthin brush head, durable waterproof, thick,curly and non smudging",
          "24pcs Fake Nails Reusable Stick On Nails Press on Full Cover False Nail Tips with Jelly Stickers Makeup Accessories",
          "Hair Wax Stick For Wig & Natural Hair Hairspray Fixed Fluffy Hairstyling Wax Hold Wax Stick For Wig Broken Hair Artifact Hair Wax Stick Gel Cream",
          "Garnier Even & Matte Vitamin C Cleansing Foam 100Ml",
          "Wig small curly hair synthetic natural short curly black wigs for lady gift",
          "15ml Nail Extension Gel Soak Off UV Gel Acrylic White Clear Gel for Nail Prolong for Home Nail Art Shop Manicure Tool",
          "Portable Digital Upper Arm Blood Pressure Monitor Measurement Tool Portable LCD Digital Tonometer Sphygmomanometer Tensiometer Heart Rate Pulse Meter BP Monitor",
          "New Nose Hair Ear Trimmer For Men Stainless Steel Manual Washable Portable hair remover Nose Vibrissa Razor Shaver",
          "Precision Household Thermometer Digital Baby/Adult thermometer LCD Temperature Measurement Baby Heating Oral Thermometer Tools Care Baby Child Infant Kids & Maternity Products",
          "Airbrush Kit, Airbrush Spray Gun with Air Compressor Kit, Rechargeable Handheld Paint Airbrush Gun for Makeup, Cake Decor",
          "Painless Women Shaver, Electric Hair Removal ,Fast Charge, Depilatory Sense-light Body Bikini Epilator, remove all body hair painlessly without damaging skin , avoid chemical hair removal.CORDLESS.",
          "40 Color Matte Eyeshadow Palette Shimmer Glitter Eye Shadow Power Set Cosmetic Makeup Tools Make Up New Arrival",
          "12PCS Hair Comb Set Hair Brush Hairdressing Comb Hair Styling Comb Set Curly Hair Accessories Hairpin Hair Band Wide Tooth Comb Detangling Teasing Combs Edge Rat Tail Brushes Scalp Massager Spray Bott",
          "12pcs Poly Extension Gel Manicure Kit Poly Gel With Mini Nail Lamp Basic Coat Poly Gel Nail Art Kits for Starter Basic Coat Poly Gel Nail Art Kits for Starter",
          "Sliming Green Coffee Slim Tea Detox Flat Tummy Weight Loss Slimming",
          "Royale Blue Cologne for Men. Fresh, Cool, Affordable. 75ML perfume for a signature scent. Niche Fragrance for the Gentlemen",
          "Hair Growth Oil Serum Prevent Hair Loss Treatment Oil - clothes of skin",
          "Coffee Sea Salt Bath Brightening & Whitening SPA Scrub Exfoliating Face Body Dead Skin - Dr Meinaier",
          "4PCS SADOER Ginger Hair Care 4PCS Set: Shampoo, Conditioner, Hair Mask & Treatment Liquid - Reduces Dryness, Bifurcation & Coarseness, Leaving Hair Elastic & Shiny",
          "Sleep shading eye mask new Korean version creative cute cartoon soft panda eye mask Sleeping Eye Mask Eyeshade Cover Soft Portable Blindfold Travel Eyepatch Rest Night Sleep Masks Traveling Sleep Eye",
          "10pcs wigs glue,Wig gel remover Wig elasticband, Eyebrow razor Lace wig tool set",
          "4 PCS Men Perfumes Eau De Parfum Set Long Lasting Perfume Set Silver Charm Mountain Spring Fresh Light Fragrance Perfumes 4 Different Aromas",
          "Dreadlocks Tool Craft Sisterlocks Crochet Braid Hair Interlocking Tools Curved Hair Needle for Your Locs Easy",
          "3 in 1 L'Uodais Hair Repair Oil Serum + NO°5 Noir + Curl Keeper Spray Smoothing Damaged Hair Treatment & Scalp Care Product Hair Fragrance Spray For Women",
          "Perfume This year's popular niche design men's perfume Fresh natural Gentleman Cologne Long-lasting Eau de Toilette",
          "Lash Extension Kit DIY 280pcs Lash Clusters Eyelash Extension Kit, 9-16mm 30D 40D Individual Lashes Kit with Lash Bond and Seal, Lash Tweezers for Self Use (30D&40D, 0.07D, 9-16mm, Kit)",
          "Fashion Africa Clips Hair 12pcs/set clip in hair extensions fiber hair 26\" body wave hair extensions",
          "12 Pcs Hair Clips Headwear Stainless Hairdressing Clips Clamp Salon Hairpins DIY Hairs Styling Tools Hairpin Girls Fashion",
          "Aloe vera eye mask SADOER collagen improves dark circles, wrinkles, and eye bags 60pcs/30pairs",
          "【Discounted】Maybelline Lasting Fix Setting Spray Makeup Matte Finish Long Lasting 16 hours 100ml",
          "Weighing Scale Smart Bluetooth Body Scale Weight Scale Body Fat Scale Smart Wireless Digital Bathroom Weight Scale Body Composition Analyzer With Smartphone App Bluetooth-compatible Health Monitors",
          "10PCS Lipsticks Set Long Lasting Nonstick Cup Makeup Cosmetics Kit For Girl Women Lipstick Makeup Cosmetics Lips INS Hot",
          "EMS Neck Massagers LCD Display Electric Cervical Vertebra Massage Patch for Relieve Relax Muscle Fatigue Relaxation Portable Neck Stretcher, Neck Back Patch 8 Mode Pulse Muscle Stimulator Relief Pain",
          "Garnier Pure Active AHA BHA Charcoal Anti-Imperfection Serum 30Ml .",
          "2pcs JawLine Exerciser Ball Facial Jaw Muscle Toner Trainin Fitness Anti-aging Food-grade Silica Face Chin Cheek Lifting Slimmin",
          "30MLGinger Hair Growth Serum Essence Liquid Prevent Hair Loss Repair Damaged Hair Natural Hair Care Ginger Germinal Oil",
          "2pcs/set Skin Care Facial Rollers+Face Spa Massager Neck Roller Gua Sha Scraper Board Face Lift Up Wrinkle Remover Face Roller Scraper Set",
          "Electric Toothbrush, Smart White Series, Personal Oral Care, Multiple Colors (Blue/Pink), Popular Online, High Sales Volume , Gift - boxed, Includes Brush Heads and Batteries",
          "6PCS/Set Lipsticks Matte Lip Gloss Sets Makeup Lasting Velvet Liquid Lipstick Set Cosmetic",
          "FBK Lady Dark Brown Curly Long Hair Fashion Synthetic Wigs For Women Gift",
          "RAW UGANDAN SHEA BUTTER 100% Pure",
          "8Pcs/Set Multifunction Nail Clippers Set Stainless Steel Pedicure Scissor Tweezer Kit Nail Art Tools 8 in 1 Stainless Steel with Portable Travel Case",
          "Crystal Temperature Change Lip Balm Vitality Color Lipstick Peach Girl Lip Balm Change Beauty Makeup Beauty Make Up Lips Lipstick",
          "3pcs/Set Roll-on Antiperspirant Deodorant Women Perfume",
          "Maybelline New York Maybelline Lifter Gloss Lip Gloss Twin Pack - Topaz + Ice",
          "Expert Recommends Mini Makeup Brush Set Ins Eye Shadow Brush Foundation Make-up Powder Blusher Refresh Soft Hair Cover Brush Toilet Beauty Tool 8 Pieces",
          "Yara Perfumed Body Spray 200ml by Lattafa Luxurious Deodorant Perfume Spray for Women, Perfect Gift Body Spray",
          "African tidal wave water ripples wig curly short black fashion wigs new hair for women gift",
          "SADOER 5 Pieces, Vitamin C Cream + Vitamin C Serum + Vitamin C Moisturizing Lip Balm + Charcoal Mask Peel off + Vitamin C Foaming Face Wash, for Brightening, Remove Black Heads, Lips Brightening, Moi",
          "UPHUI 7-Pack Razor Blades Men's Shaver Men's Facial Hair Removal Sharp 2-Ply Razor Blade Tools Razor Holder Universal Hand Shaver Replacement Set",
          "【Pack of 2】Nice & Lovely Lemon 360ml lotion",
          "Premium 24inch Yaki Ponytail Hair Extensions Long Wigs Hair Corn Silk Yaki Wigs for Black Women Synthetic Hair Soft Corn Curly Wig Fluffy Girls First Hair Ponytail Extension Black Girl",
          "Electric Nail Drill Kit Manicure 5 Drills Grinding Burnishing Machine Nail art Manicure Pedicure Kit,Electric Nail Portable Mini Nail Grinding Tool with 5 Drills Personal Care",
          "Asad Lattafa Perfumes for Men 200ML Deodorant Body Spray - Long-Lasting Fragrance & Refreshing Scent",
          "1pc Protect Lip Scrub Moisturizing Remove Dead Skin Exfoliating Anti-Aging Pink Full Lip Lightening Cream Gel",
          "50pcs Tattoo Needle Mixed Set Tattoo Equipment Tattoo Needle Combination set Mixed Tattoo Needle Set50pcs Tattoo Needle Mixed Set Tattoo Equipment",
          "40ml SADOER Holding makeup liquid foundation natural lasting oil control is not easy to remove makeup concealer moisturizing dry skin bb cream for women moisturizing non-card powder",
          "Wireless Nail Drill Manicure Grinder Machine 35000RPM Nail File Polishing Grinding Machine 65W Nail Milling Cutter Nail Art Tool",
          "Perfumes Ladies Long Lasting Natural Fragrance Deodorants-50ML Parfume",
          "SADOER Peel Off Mask Black Mask Deep Cleansing Bamboo Charcoal Blackhead Remover Shrink Pores Mask, Blackhead removing, pore shrinking, Vitamin C , nasal mask for deep cleaning, tear off, facial ma",
          "Dormitory Household Non-Injury Curling Dual Purpose Splint Hair Straightener",
          "12 Pieces/set of Hair Styling Comb Set Spray Bottle Silicone Scalp Massager Shower Shampoo Brush Tail Comb Edge Brush Hairdressing Tool Set",
          "Enhancer Eyelash Growth Serum Treatment Eyelash Beauty Health Growth Powerful Makeup Lengthening Thicker Lashes Natural Curling Lash Lifting Care Product",
          "Anti Snoring Corrector Magnetic Anti Snore Stop Snoring Nose Clip Easy Breathe Improve Sleep Aid Apnea Night Device With Case",
          "3PCS/Set Tongue Scraper Stainless Steel Oral Cleaner Dental Care Kits",
          "25ml*4 Bottles Ladies Perfume Set Perfume Set Perfumes Flowers Different Fragrance Women Eau De Parfum Long Lasting Business Deodorants Gifts",
          "Synthetic Long Straight Synthetic Wigs with headband - 24 Inch Black | Natural Look Soft and shiny (African Women, Quick Install, Birthday Gift,Lightweight)",
          "1Box 12 Colors 3D Flower Nail Charms With Rhinestones And Caviar Beads - Nail Art Decoration For Women And Girls Nail Art Accessories",
          "6 Pcs Waterproof Black Flower Pattern Body Tattoo Stickers - Durable, Long-Lasting for 3-5 Days, Suitable for Men and Women on Arm, Chest, Tummy, Back",
          "Colored moisturizing lip balm lipstick moisturizing, moisturizing, diluting lip lines, anti-drying lip balm",
          "FBK Female Black Short Pixie Cut Straight Curly Hair Synthetic Wigs For Women Gift",
          "Acrylic Nail Art Kit Crystal Nail 3D Nail Tips Carving Tools Acrylic Liquid Monomer Powder Pen Manicure Set",
          "(50pcs for Safe-AQ) Sinocare Blood Glucose Test Strips and Lancets for Blood Sugar Tester 50pcs, No Meter",
          "Vagina Tightening Medicate Super Grip Madura Stick",
          "Garnier AHA+BHA Charcoal Serum + Pure Active 3-in-1 Charcoal Mask-(Anti-acne kit)",
          "Palmer's Cocoa Butter Formula Body Lotion / Oil Moisturizes Softens Body with Vitamin E",
          "RichRipple USB T9 Barber 6 Color Limit Comb Rechargeable Professional Barber Shaver Electric Hair and Beard Trimmer",
          "Sadoer Duo Set of Tumeric Anti Oxidation Turmeric Soap Bar + Turmeric Serum Anti Acnes, Like Vitamin C, it is Effective in Acne Removal, Pore Shrinking and Skin Tone Brightening",
          "ANNIVERSARY OFFER!! VEET GOLD Turmeric Oil Whitening & Brightening Body Oil/Tumeric oil",
          "Sex Lubricant Water Based Sex Lube Oil Long Lasting Lubricant Edible Fruit Flavor Massage Body 50ml Oil Anal Gel Adult Toys for Sex for Women Men Strawberry Flavor - Hot Kiss -",
          "The Ordinary Niacinamide 10% +Zinc 1% Anti Aging Serum serum.",
          "Portable Dual Head Stethoscope Professional Cardiology Medical Stethoscope Doctor Medical Equipment Device Student Vet Nurse",
          "Disaar Hair Removing Cream, Unisex For Pubic Hair, Underarms, Private Parts, Sensitive Skin-Suitable For All Skin Types",
          "Stainless Steel Folding Knife With 10 Blades Barber Hair Removal Kit Clipper Men's Straight Hairdresser Razor Hair Removal Shaving Armpit Hair Pubic Hair Folding Razor Hair Removal Tool",
          "Aloe Vera Foot Peeling Mask Exfoliating foot Mask, Remove Callus/Dead Skin Exfoliating Foot Mask Pedicure Exfoliating Heels Calluses Remove Foot Patches Dead Skin Remover Pedicure Socks Foot Care",
          "Cordless Rechargeable Geemy Shaver GM-6008 AC+DC Professional Rechargeable Trimmer & Hair Clipper",
          "Makeup Bags Toiletry Bag Travel Cosmetic Waterproof Portable Storage Bag 30x12x21cm",
          "Suit 4PCS Men Perfumes of Different Smell Eau De Parfum Classic Fragrances Long Lasting Deodorant",
          "28 Days Detox Flat Tummy Tea for Weight Loss Slimming Fat Burn Body Cleanse Tea Bags Good",
          "New Arrival Portable Mini Refillable Perfume Bottle With Spray Scent Pump Empty Cosmetic Containers Atomizer Bottle For Travel Tool",
          "【Clearance Deal Only】Maybelline Superstay Skin Tint With Vitamin C",
          "Kojic Acid Soap 3 Pcs Kojie San Skin Lightening & Brightening Original Soap-(135g each)",
          "3 Pieces, Collagen Serum + Vitamin C Face Brightening Essence + Collagen Cream ,For Face Brightening, Anti Wrinkles, Anti Aging, Moisturizing, Fade Dark Marks and Collagen Replenish",
          "Ladies 1 Large Zipper Travel Toiletry Bag For Premium Makeup Bag",
          "Probiotic Spray Fresh Breath Grape Flavor Mouth Spray Remove Oral Odor Bad Breath Portable Freshener Disaar",
          "Silicone Face Scrubber for Men, Gentle Exfoliating Body Brush Massager Removes Dead & Dry Skin, Body Scrubber Beard Brush for Skin Cleansing",
          "SADOER Pure Cotton Skin Cleansing Towel 50 smoke daily makeup remover towel",
          "Vaseline Lip Balm Moisturizing Lipstick Base Moisturizer Makeup Natural Plant Anti-Cracking Lip Care Petroleum Jelly Lip Balm",
          "Silstar Foot Care Rasp File Pedicure Callus Remover Hard Dead Skin Scrubber",
          "UV Sun Protection Arm Sleeves Cooling Sleeves For Outdoor Sports Basketball Warmers Cuffs Arm Covers Skin Care Gloves",
          "Garnier Day & Night Vitamin C Booster Serum Routine Pack",
          "Ginger Slimming Essential Oil, firming and tightening the abdomen, reducing the belly, shaping the thighs and hands of excess fat, natural plant extracts, massage use",
          "Somali Qasil Powder - Dvee Organics - Natural Exfoliating Scrub and Mask",
          "Kirkland Minoxidil 5% Extra Strength Hair Regrowth 1 Month with free dropper",
          "Medical Mesh Nebulizer Portable Inhalator Adult Kids Handheld Mini Silent Steam Nasal Humidifier Inhaler Tools Nebulizer Asthma",
          "2Pcs Vitamin C Face Brightening Serum Vitamin C Serum Moisturizing Serum For Radiant Skin",
          "30Pcs/Box Weight Loss Slim Patch Fat Burning Slimming Patch Body Belly Waist Losing Weight Cellulite Fat Burner Sticker Waist Plaster Health Care",
          "3pcs Kojie San Skin Lightening Soap - Original Classic Kojic Acid Soap for Dark Spots, Hyperpigmentation, Whitening & Scars - Beauty with Coconut & Tea Tree Oil for Fair glowing Flawless Even Skin",
          "Micolor/Classic 8 Color Correct Concealer makeup Contour Cream Palette",
          "Geemy Professional Hair/Shaving Machine/kinyozi",
          "SADOER Tumeric moisturizing and skin glowing Skin Care Set: Turmeric Face Cream + Serum+ Toner + 3 Face Masks + Face Cleanser For Treating Dark Spots, Anti-wrinkles & Improving Skin Texture",
          "Facial Mask Sheet Pores Moisturizing 24K Gold Vitamin C Hyaluronic Acid Face Mask Facial Moisturizing Firming Hydrating Facial Masks Skin Care Oil-Control Anti-Aging Replenishment Face Care Treatments",
          "Head Claw Scalp Massager Scratcher Octopus Spider 12 Fingers Manual Wire Tingler Head Release Relax Massage For Deep Stress Relief & Hair Stimulation",
          "Nail Gel Lamp Manicure kits LED Nail Dryer Nail Manicure Tool UV Portable UV Led Nail Dryer Lamp Nail Kits",
          "2L Rubber Hot Water Bag (with cover), Hot Bag, Heating Pad, Hot Water Bag for Pain Relief, Period Pain, Hot Water Bottle, Rubber Bottle (Multicolor)",
          "Blue Light Block Glasses Men & Women Anti Eye Strain Headache Computer Video Gaming Glasses Gamer Filter Screen Glare UV Protective Blocker Clear Lens Rectangle Wide Nerd Small Black Lightweight Frame",
          "10pcs Tattoo Cartridge Needles, Various Sizes, Short Needles for Tattoo Pen",
          "U-shaped Baby Toothbrush Children 360 Degree Child Toothbrushes Teethers Soft Silicone Toddlers Brush Kids Teeth Oral Care Cleaning Newborn",
          "SADOER Skin Care Effective Turmeric Face Soap, Like Vitamin C, Anti Acne Soap, Skin Moisturizing, Deep Cleansing, Acne Removal, Skin Repair Face & Body Tumeric Soap - 100g",
          "New Arrival Men Perfume Different Fragrances Dau de Parfum Long Lasting Business Classic Fragrance Woody Mature Fragrance & Deodorant",
          "New Arrival Lipstick makeup Discoloration lipstick Moisturizing Waterproof Colorless Non Staining Cup Transparent Lipstick Petal LipstickPetal jelly color changing lipstick New Arrival Lipstick retouched",
          "Dr. Rashel Vitamin C & Hyaluronic Moisturizing Sunscreen Lotion SPF 50 Sunblock Sun Protection Skin Care Cream Lotion",
          "Eyeliner Pen Waterproof Long Lasting Eye Liner Pencil Quick Drying Not Bloom Natural Eyeliner Liquid Pen Cosmetic Tools Professional Makeup",
          "Sadoer Turmeric Cream, Tumeric Cream Anti Oxidation, Face Cream For Deep Moisturizing akin to Vitamin C, Prevents Acnes, Oil Control and Soothing, skin Repair",
          "7PCS/Set Ear Pick Earwax Removal Kit, Ear Cleansing Tool Set, Ear Curette Ear Wax Remover Tool with Cleaning Brush and Box",
          "2-layer Blade Shaver for Men Reusable Safety Manual Razors 12 head universal Anti-Slip Handle Replacement Blades Shaving Bathing Travel factory price Kenya in stock12 blade heads for free",
          "USN® Super Grow Beast is the ultimate mass gainer",
          "DIY sectional Fake eyelashes 14 rows with large capacity glue tweezers set eyelashes combination",
          "Ladies Electric Shaver Professional Painless Hair Remover Wet/Dry Use Electric Epilator for Women Rechargeable Bikini Trimmer",
          "Super Sonic Men/Women Electric Toothbrushes With 4 Brush Heads Smart Timer Whitening IPX7 Powered Toothbrushes Health care Personal Care",
          "JAPANESE CHERRY BLOSSOM 4 in 1 Set Pump Lotion, Splash, Gel & Cream",
          "Finger Grip Trainer Puller Wrist Strengthener Basketball Corrector Vein Trainer Guitar Finger Exerciser Rehabilitation Therapy Tool Patient Hand Strength Trainer Sports Wellness Relaxation Massagers",
          "Menstrual Cups - Tampon, Pad, and Disc Alternative Product Reusable Period Cup/Copa Designed with Soft Flexible Medical",
          "New Arrival Perfume 🚨. AXE - 100ml Cologne for any man going for a fresh, cool vibe. Long lasting mode for all seasons. Everyday signature scent.",
          "Magic Silicone Brushes Bath Towels Rubbing Back Mud Peeling Body Massage Shower Bathroom Products Bath & Bathing Accessories > Bath > Bath Accessories",
          "SXCHEN Sleep shading eye mask new Korean version creative cute cartoon soft panda eye mask Sleeping Eye Mask Eyeshade Cover Blindfold Travel Eyepatch Rest Night Sleep Masks Traveling Sleep Eye",
          "120W 45LEDS UV Nail Drying Lamp for Curing Gel Polish 45leds Professional Nail Dryers With Timer Auto Sensor Manicure Pedicure Tools",
          "LA Girl USA Face Infinity Primer & Pro Setting Spray",
          "USB Rechargeable Cordless Hair Shaving Machine Electric Shaver Hair Clipper Body Groomer – Precision & Style in One!",
          "Micro Needle 540 Roller Derma Roller Dermaroller Titanium Hair Regrowth Beard Growth Anti Hair Loss Treatment Thinning Receding",
          "4PCS/SET 8.5 ML Reflective Glitter Gel Pink Sequins Gel Nail Polish Soak Off UV Nail Gel Semi-permanent Nail Art Decoration",
          "3-Piece Eye Care Set Eye Essence Eye Cream Stick Eye Mask Retinol Anti-Wrinkle Mossturizing Smoothes Fade Dark Eye Circle",
          "54W/120W Nail Lamp Manicure Set Nail Polish Kit With UV Nails Drying Lamp Polish Set Soak Off Manicure Tools Set Gel Nail Kits GO HOME",
          "Titan Gel Man Penis Enlargement Cream Sex Gel Big Dick Lasting Erection Size Health Care Penis Growth Thicken Enlarge Enhancer XXL Cream--",
          "Nail polish light polishing machine set complete set of beginner nail polish glue tool set nail enhancement tool nail enhancement phototherapy machine",
          "Full frontal semi human wig",
          "【Discounted】L'Oreal Paris GLYCOLIC BRIGHT FACE CLEANSER FOAM 100ML",
          "3 Packs Vaseline Set Daily Brightening Even Tone Body Lotion + Oil + Serum for Glowing Skin, with Vitamin B3 & Triple Sunscreens - 400ml For Radiant Looking Skin in 2 Weeks Vaseline Body Lotion",
          "【Effective in 3 days】 18pcs/Set Slimming Coffee Herbal Thin Belly Tea Weight Loss Green Coffee for Flat Tummy Slimming Tea Fit Tea Natural Health Weight Original Weight Loss Tea Tea Herbal -",
          "Oral Irrigator Portable Dental Water Flosser USB Rechargeable Water Jet Floss Tooth Pick 4 Jet Tip 220ml 3 Modes IPX7 1400rpm",
          "Sadoer 5 Pieces, Vitamin C Face Serum + AHA BHA Serum + Niacinamide Face Brightening + Retinol Caffeine Serum + Salicylic Acid Serum Oil Control, Face Brightening , Anti Aging, Anti Wrinkles",
          "3 PCS Popular Women Perfume Set 3 in 1 Ladies Perfume Long Lasting Fresh Perfumes Light Fragrance Gift Perfume Set",
          "Jamaican Black Castor Oil- For Hair Growth,Hair Loss,Breakage",
          "Ice Facial Roller Skin Care Beauty Lifting Contouring Tools Ice Cube Trays Ice Globe Balls Face Massager Skin Care Tool",
          "Advanced Scar Gel Medical-Grade Silicone for Face, Body, Stretch Marks, C-Sections, Surgical, Burn, Acne, Old & New Scars",
          "Garnier Eventone Day Routine Kit: Even & Matte Vitamin C Cleansing Foam + Serum + Sunscreen Spf 30",
          "3 Pack Stainless Steel Flat Tweezers for Hair and Eyebrows - Hair Plucker and Personal Care Tool",
          "28Colors Makeup Eyeshadow Palette with Brush Matte Pigment Eye Shadow Powder Metallic Glitter Make Up Cosmetic",
          "Coffee Sea Salt Bath + Gloves Pair - Brightening & Whitening SPA Scrub Exfoliating Face Body Dead Skin Dr Meinaier and Exfoliating Bath Glove Cleaning Body Cleanser Set",
          "Bathing Brush Dry Skin Body Soft Natural Bristle SPA Brush Without Handle Wooden Bath Shower Brush Exfoliating Body Brush",
          "3Pcs Tinkle Eyebrow Razor Shaper Facial Fine Hair Cutter Trimmer Eye Brows Styling Stainless Steel Blade",
          "(Easter sale)YONI/PUNANI CANDY FOR VAGINAL DRIPPING LIBIDO BOOST FOR WOMEN help increase sexual pleasure between partners as they makes the yoni very warm wet and sweet during intercourse buy in kenya",
          "16Pcs Nail Cutter Stainless Steel Scissors Grooming kit Art Cuticle Tools Nail Clipper Manicure Set Macaron Set",
          "Electric EMS Foot Massager Pad Portable Foldable Massage Mat Muscle Stimulation Improve Blood Circulation Relief Pain Relax Feet",
          "Water-Flosser-Teeth-Cleaner, Rechargeable - Waterproof, Portable Cordless Dental Oral Irrigator, Water flossers for Teeth, 3 Modes 4 Nozzles, for Home and Travel Elegant, Water Flosser for Braces",
          "Professional Ear Piercing Gun body/nose piercing kit piercing machine earrings",
          "6PCS/SETS 8.5ML Gel Nail Polish Purple Green Series Color Semiperment Led UV Varnish Hybrid Matt Top Base Coat Nail Art Manicure",
          "100Pcs Poly Gel Quick Building Mold Tips Nail Dual Forms Finger Extension UV Easy Find Poly Gel Tool",
          "Maca Plus Gummy Big Butt Gummies 100% Pure Natural 60 Gummies Gummies For Hip Butt Enhancing Large Maca Plus Gummy Big Butt Gummies 100% Pure Natural Gummies For Hip Butt Enhancing Large Butt Hips",
          "Original Face Body Sunscreen Ultra SPF60+ UV Face Shine Control Cream sunscreen Solar Sun BlockAnti-Shine Invisible Fluid Sunscreen - SADOER -",
          "200pcs Deluxe Dual-Sided Interdental Brushes - Thorough Deep Cleaning for Healthy Gums - Portable & Disposable for Everyday Oral Care",
          "100pcs Transparent Disposable Gloves For Kitchen BBQ Eco-friendly Food Gloves One-off Gloves",
          "Disaar Ginseng Black Soap Promotes Anti-Grey Hair Darkening Repairs Damaged Hair and Enhances Black Hair Growth Products Basic Cleaning, Hair Natural Darkening",
          "New Arrival Health Beauty Personal Care Nail Tools Women Nails Stamper And Scraper Beauty Personal Care Nails For Beautiful Girls Fashionable Stunning Nails Very Attractive Hot Girls Nails",
          "Purple Reusable Menstrual Cup Silicone Medical Grade Economical Alternative To Sanitary Napkins Periods Cup",
          "25pcs Nail Gel Lamp Manicure kits LED Nail Dryer Nail Manicure Tool UV Portable UV Led Nail Dryer Lamp Nail Kits",
          "310ml Enema Douche Clean and Healthy Wash Flusher System for Men Women Made of Comfortable Silicone Anal Shower",
          "Davis Eyebrow Shaper Razor(3pcs) + 3 Pcs Eye And Lip Liner Pencils",
          "2Pcs Black Stretchy Hair Mesh Wig Cap Hair Net- Wig Cap Black",
          "Maca Coffee For Men- (150Gm) - Pure & Effective Maca Root Powder Coffee For Men's Performance, Muscle Growth",
          "Black Hat wig female curly hair fashion cap natural hair for lady",
          "Upper Arm Blood Pressure Monitor Voice Broadcast Measurement Tool Portable LCD Digital Tonometer Sphygmomanometer Tensiometer Heart Rate Pulse Meter Health Care BP Monitor",
          "Oral Irrigator Portable Dental Water Flosser USB Rechargeable Water Jet Floss Tooth Pick 4 Jet Tip 220ml 3 Modes IPX7 1400rpm",
          "USN Pure Creatine Monohydrate It boosts muscle growth, speeds recovery, and enhances performance.",
          "2 In 1 Micolor Fit Me Primer + Pro. Setting Spray Fixer HD High Definition long lasting Matte finish base for Makeup",
          "Pepper Spray Lipstick Female Self Defense Tool New Woman Safe Self-defense Products Outdoor Security Mini Anti wolf sprayer",
          "JC 2023 New women wig African small curly short hair chemical fiber Synthetic Wigs For Women black",
          "Menstrual Cup Period Cup Economical Feminine Alternative Protection For Cloth Sanitary Napkins For Reusable Menstruation Grade Silicone Soft Menstrual Cup Pretty Woman Tampoon alternative Leak-Proof W",
          "Kojie San Skin Lightening Soap - Original Classic Kojic Acid Soap for Dark Spots, Hyperpigmentation, Whitening & Scars - Beauty Bar with Coconut & Tea Tree Oil for Fair glowing Flawless Even Skin Tone",
          "New Collagen Anti Wrinkle Face Cream Sknicare Moisturizing Anti-Aging Firming Creams Dark Spots Facial Cream Beauty Face Skin Care Products - SADOER",
          "USB Cordless Hair Clipper Trimmer Beard Electric Professional Haircut Dragon Monster Rechargeable ABS Vintage Metal Shaving Machine clippers Wireless Barber cutting Kinyozi",
          "19 Pcs/set stainless steel nails clippers set household trimming toe nail scissors nail clippers manicure beauty nail art tools",
          "Dr. Meinaier Sugar Lip Scrub Ultra Hydrating Exfoliating Dry Chapped Lips Scrubber Lip Moisturizer - Grape Rose Blueberry Turmeric Coconut Coffee Cherry Lemon Honey Green Tea Flavors",
          "OFFER! 1pc 35ml YARA PINK/ASAD/ YARA ORANGE/ YARA WHITE Travel Perfume – Sweet & Fresh Long-Lasting Fragrance for Men & Women (Lattafa Perfumes: Yara, Asad, Mayar or Khamrah/Soft)",
          "FBK Women Long Curly Hair Black Body Wave Synthetic Wigs For Ladies Gift",
          "24Pcs Nail Stickers Detachable Sweetheart Wearable False Nail Tips Love Detachable False Nail Clips Nail Enhancers Nail Stickers Makeup Accessories",
          "Geemy Affordable Barber Shaving Machine-Kinyozi + Free 4 Way Power Extension & Face Towels",
          "Professional Tattoo Pen Kit Rotary ,Tattoo Machine With LED Mini Tattoo Power Supply 1200mAh Cartridge Needles Tattoo Kit For Body,Suitable for beginners, professionals",
          "Soft Face Cleansing Brush Double-Sided Facial Cleanser Blackhead Removal Pore Cleaner Exfoliator Silicone Face Scrub Skin Care Massager Scrubber",
          "SADOER 3 in 1 Set, Acne Repair Serum + Cream + Cleanser with 3% Salicylic Acid Collagen Peptide and Niacinamide, Centella Asiatica and Niacinamide, Can add Vitamin C,Remove Acne, Moisturize, Sooth",
          "Mascara Fine Brush Head Waterproof Sweat Proof Lengthened Volume Warping Eye Waterproof mascara will last for a long time Makeup Eye black cross-border super long thin brush head",
          "Magic Shaving Powder For Extra Strength -142g",
          "[30&10pcs]BORIC ACID SUPPOSITORIES",
          "New Arrivals 🥳🥳 40*60 Large Size Peel and stick Wall Mirror Available in Oval shape and Rectangular shape",
          "Tumeric Soap, Body and Face Tumeric Soap, Clears Pores, Brighten Face, Srink Pores, Remove Acnes",
          "DR Rashel Vitamin C & Hyaluronic Acid Moisturizing Sunscreen Lotion SPF 90+ PA+++ High Sun Protection Cream Lotion Sunblock",
          "1 Pair Eye Contact Lens Cosmetic Aesthetic Use 0.00 Lens Color Blends Eye Contacts (Blue Green Grey Brown Honey Turquoise Amethyst Pure Hazel True Sapphire Sterling Gray Brilliant Blue Gemstone Green)",
          "JC wigs Fashionable short curly women wigs hair with straight bangs and slightly curled collarbone hairstyle Medium Wave Roll Chemical Fiber Headset",
          "Portable Wireless Tattoo Pen Kit - Professional Tattoo Machine Kit- Rotary Machine for Lining, Shading & Practice - Complete Tattooing Supplies Set",
          "3Pcs Liquid Lipstick Set Matte Velvet Lip Gloss Bean Paste Lip Glaze Moisturize Long Lasting Lip Tint Makeup Cosmetic Kit",
          "GUMMIES-DAYNEE",
          "Ashwagandha Powder -Reduces Stress And Anxiety Improves Memory And Energy Levels",
          "Medical Digital Infrared Thermometer Quick Temperature Measurement Medical Handheld Body Forehead Non-contact Thermometer",
          "Longwear Liquid Foundation Up To 30Hr Active Wear Foundation Up To JusQu'a 30H Fond de Teint Full Coverage Light as Air No Transfer Lasts Looooong! 1 PIECE (SELECTED SHADE ONLY!!)",
          "12PCS Black Eyebrows trimmer Eyebrow Trimming Scissors Stainless Steel Tweezers Eyebrow Scraping Eyebrow Comb Razor Eyebrow Clip Makeup Tools Sets",
          "Afro Kinky Headband Wig + Free gift inside!",
          "4 Pcs Ladies Perfumes Flowers Long Lasting Women Eau de Parfum Different Fragrances Business Deodorants Gifts",
          "AHA 30% + BHA 2% Peeling Solutions, 30% AHA Glycolic Acid Peel With Lactic Acid Aloe Vera, Facial Exfoliator Exfoliating Peel Serum For Acne Pimple Spot 1 Fl Oz - MOOYAM -",
          "SADOER Face Cleanser, With 3% Salicylic Acid, Niacinamide & Centella Asiatica Collagen Acne Remover Facial Cleanser controls oils, Eliminates Acne, Removes Dirt Like Vitamin C, Smootrhens, Hydrate",
          "USB Portable Electric EMS Foot Massager Improve Blood Circulation，Foot Massager for Circulation and Pain Relief ，Foldable Massage Mat",
          "FRANK USB Electric Hair Cutting Machine Rechargeable Hair Clipper Man Shaver Trimmer Barber Professional Beard Trimmer Julie Fashion Store",
          "Bump Patrol Solution - Dermatologist tested After shave, help prevent and treat razor bumps and irritation caused by shavin",
          "Wins Town Hip and Butt Tea | Herbal Tea for Enlargement Enhancement Wider Hips, Bigger Buttocks",
          "Geemy Electric Hair Trimmer Barbering Machine - Kinyozi",
          "SXCHEN Barber Shaving Gown/Salon Hair Dressing Draper Hair Cutting Hair Dyeing Various Specifications of Adult Hair Wrapping Apron Shawl hair Cutting and Hair Wrapp Dad Travel",
          "Brow Repair Soap Style Wax Gel With Brush Long Lasting Makeup Eyebrow Eye Makeup Easy To Use Tool Waterproof B2-788",
          "YDD Nail Glue Nail Adhesion Nail Bond Non Toxic",
          "50pcs Dental Floss Flosser Picks Toothpicks Teeth Stick Interdental Brush Tooth Cleaning Dental Floss Pick Oral Care",
          "2025 New Automatic Blood Pressure Machine, Digital Blood Pressure Monitor, Best Blood Pressure Monitor for Home Use – Accurate & Easy to Read, Wrist or Arm Blood Pressure Monitor + Type C USB cable.",
          "5 In 1 Matte Lipstick Kit Waterproof Nude Combination Lipgloss Long Lasting Velvet Red Show Complexion Makeup",
          "24H Flawless BB Cream-Natural Makeup Effect Sweat-Proof Full Coverage Moisturizing Clear Uniform Color Brightening Water Concealer Durabledo Not Take Off Makeup Natural Beauty Smooth Lock Makeup",
          "Geemy Rechargeable Cordless Shaving Machine With Indicator",
          "2200W Hair dryer professional blow dryer cooling and heating adjustment modeling tool 7 free gifts go home",
          "Water Based Sex Lubricant Long Lasting Lube Edible Massage Body Oil Anal Gel Adult Toys for Sex for Women Men Strawberry Sex Lube 50ml- Hot Kiss -",
          "Fluff Button Non-Damaging Negative Ion Dual Purpose Curling Iron Hair Rollers",
          "5 PCS Facial Mask Sheet Pores Moisturizing Oil-Control Anti-Aging Replenishment Face Care Skin Care",
          "Jamaican Black Castor + Amla + Peppermint + Rosemary Oil–Promotes Hair Growth & Prevent Greying Of Hair",
          "30ml Professional Supernatural Painless Permanent Hair Removal Spray Women/men Whole Body Hair Removal Cream B2-779",
          "Mikalla Shampoo + Conditioner+ Quadra Protein Treatment",
          "10 Pcs Ovulation Urine Test Strips Over 99% Accuracy",
          "1PC Health Separate boxes Soft Foam Ear Plugs Travel Sleep Noise Prevention Earplugs Noise Reduction",
          "Sadoer Face Brightening Kit 4 Set, Vitamin C Face Brightening Cream +Vitamin C Serum for Face Brightening + Foaming Face Cleanser + Sunscreen SPF 50 SunScreen SunBlock Cream",
          "Arabian Coastal Instant Tightening Salts - Rejuvenation Cleansing Freshness Organic Herbal Virgin Grip Women Tightening Salt Wash for Grip Itching Infections Odor Snap Back Vagina Remedies 10g",
          "Varicose Veins Repair Cream Spider Varicose Vein Treatment Cream Vein Healing Ointment Improving Blood Circulation Leg Repair Gel",
          "1pc Contact Lens Case, Minimalistic Pure Colour Eye Lenses Container, Contact Lens Container Soak Storage Kit For Travel & Home C-306",
          "FRANK 24pcs Fake Nails Reusable Stick On Nails Press on Full Cover False Nail Tips with Jelly Stickers Makeup Accessories",
          "Black Fast Penis Enlargement Cream Intimate Gel for Man Help Male Potency Penis Growth Delay Cream - effective",
          "Synthetic Yaki Kinky Straight Wigs - 26 Inch 1B Black | Adjustable Headband & Natural Look(African Women, Protective Style, Quick Install, Realis,Birthday Gift)",
          "Lip Balm Remove Dark Lighten Melanin Lip Mask Fade Lip Line Brighten Exfoliating Moisturize Dead Skin Repair Lip Care Products",
          "Lace Melting and Holding Spray , Extreme Hold Edge and Hairline Protect Wig Spray,",
          "18 Colors Eyeshadow Pallete, Pearlescent Matte Glitter Eyeshadow Palette Make Up Eyeshadow Beauty Eye Pallete Waterproof Concealer Makeup Pallete Lasting-Effect Eye Shadow",
          "Chinese Herbal Hemorrhoid Relief Cream Rapid External Hemorrhoids Treat Treating Acne Anal Fistula Pain",
          "Relax & Spin Tone Full Body Slimmer Massager Machine",
          "Ceramic Electric Hair Straightening Brush Hair Straightener Comb &amp; Dry Hair Accessories &amp; Tools",
          "5 PCS Collagen Mask Vitamin C Facial Mask Sheet Pores Moisturizing Oil-Control Anti-Aging Replenishment Face Care Skin Care",
          "True Sapphire 3-Tone 2 Soft Contact Lenses Natural Looking Eyes - Star Colored Lenses 3 Tone Color Contact Lenses for Eye Cosmetic Colored Pupil Contacts Lens 1 Pair Contact Lenses",
          "New Crystal Hair Remover Physical Painless Safe Epilator Easy Cleaning Reusable Body Beauty Glass Bleame Hair Removal Eraser",
          "OPTIMAL Sterile Eyedrops for Red Eyes Relieves Dryness Irritation Sensitivity to Dust Light Exhaustion Whitens Moisturises Soothes Brighter Clear Eyes in Secs #eyewhitening",
          "Seamless Tongue Cleaner, Tongue Cleaning Tool, Tongue Scraper Cleans Tongue in a Painless manner, Promotes Oral Health and Fresh Breath",
          "14 Days Slimming Tea Herbal Flat Tummy Tea Weight Loss Tea Green Tea for Weight Loss Slimming Tea Fit Tea Natural Health Weight Loss Daytime Bedtime Tea Gentle Diet Detox Herbal -",
          "Garnier Charcoal Serum With AHA+BHA 30ml Twin Pack",
          "6-piece set of Centella Asiatica Peptide Skin Care Set facial cleanser + toner + essence + Face serum + moisturizer + Eye Cream to repair delicate skin and control oil",
          "20PCS Vitamin C Facial Mask Sheet Pores Moisturizing Oil-Control Anti-Aging Replenishment Face Care Skin Care",
          "50ml Men‘s Fragrances Long Lasting Ocean Fresh Spray Perfume Deodorant Men‘s Fragrances Cologne",
          "Jamaican Black Castor , Amla ,Rosemary, Peppermint Oils & Shea Butter Hair Food-For Hair Growth",
          "Disaar Mint Flavor Probiotic Mouth Spray Fresh Breath Oral Odor Freshener Portable Remove Bad Breaths Freshener",
          "【Discounted】Garnier Even & Matte Dark Spot Corrector - 30ml",
          "Fashion Ghost Bond Glue + Lace Wig Remover + Wax Stick +Edges Brush+ Elastic Band Set.",
          "100ml Men's Perfume Persistent Fragrance Fresh Cologne Perfume Plant Floral Fragrance Essential Oil Perfume Pheromone Scent Le parfum Body Splash Colognes Eau De Toilette Wash Scent Perfume Deodorant",
          "【Discounted】Maybelline New York Superstay Skin Tint Shade 64 With Vitamin C",
          "Coffee Sea Salt Bath + Gloves Pair - Brightening & Whitening SPA Scrub Exfoliating Face Body Dead Skin Dr Meinaier and Exfoliating Bath Glove Cleaning Body Cleanser Set",
          "FBK Women Hair Ladies Wigs Hair Girl Women Long Weave Black Wave Wigs For Ladies Fast delivery within 1-5 days",
          "Beard Oil Beard growth essential oil and Hair Growth Essential oil, bald hair treatment oil",
          "Pure Organic Cold-pressed, Hexane Free Castor Oil-Dark Bottle",
          "BestSeller 7 Pack Set Sythentic Hair 16 Clips Ins Hair Extension Yaki Kinky Straight Hair Wig Thick End Hair Wig",
          "Premium 24inch Ponytail Hair Extension Corn Curly Wave Long Curly Wigs for Black Women Curly Hair Ladies Wig Hairs Girls First Hair",
          "King Of Ginger 7 Days Ginger Germinal Oil Hair Growth oil Repair Nourish Root Nutrition Cream",
          "3Pcs Men Perfume Set Woody Fragrance Eau de Parfum Cologne Perfume Gift Box",
          "3 pcs Eyelash Extension Lint Breathable Non-woven Cloth Adhesive Tape Medical Paper Tape For False Lashes Patch Makeup Tools A-1296",
          "Anti Crack Foot Cream Dryness Foot Mask Heel Cracked Repair Cream Hand Mositurizing Removal Callus Dead Skin Hands Feet Care",
          "3 PCS Women Perfume Gift Box Set Seductive Floral Scent Perfumes Fresh Natural Long Lasting Fragrance Ladies Perfume",
          "10 Pcs Card Eyebrow Stencil Grooming Shaper Template Makeup Tools Stickers Eyebrow Shaper Cosmetic Tool",
          "30ml Temporary Tooth Repair Moldable Teeth And Gaps False Tooth Solid Gel Adhesive Fake Teeth Beauty Tool Dental Supplies",
          "10PCS Set Foot Board File Rubbing Exfoliating Foot Grinding Device To Remove Dead Skin Foot Grinder Set Rubbing Foot Board Calluses Washing Foot Brush Scraping Foot File Pedicure Tool Set",
          "Sacha Buttercup Setting Powder -Yellow",
          "Facial Steamer For Deep Cleansing / Facial Sauna, Steaming/Hydration Machine| Nano Ionic Oxygen Injection Sprayer Face Moisturizing SPA Skin Care Machine | LIMITED TIME OFFER.",
          "Kirkland Minoxidil 5% Extra Strength Hair Regrowth 1 Month with free dropper",
          "11pcs Travel Bottles Set With Storage Bag Travel Size Empty Liquid Cream Lotion Containers Fine Mist Spray Bottle Squeeze Tubes Cosmetic Storage Box",
          "Permanent Thickening Penis Enlargement Oil Growth Man Massage Enlargement Oils Cock Erection Enhance Big Dick Enlarge Liquid Men XXL Enlargement - MK2 -",
          "Nail Stamping Plates /Silicone Nail Stamper/ Multiple Nail Art Pattern /UV printing nail gel polish /embossed steel plate seal nail painting Art Nail Tools for nail dryer",
          "Retinol Eye Cream Remove Dark Circles Eye Bags Puffiness Reduces Wrinkle Eye Serum Stick Dark Circles Removal Man Woman Eye Care -MOOYAM -",
          "Bag Travel Bag with Hanging Hook, Water-resistant Makeup Cosmetic Bag Travel Organizer for Accessories, Shampoo, Full Sized Container Makeup Bags Travel Cosmetic Storage Bag",
          "ORS Olive Oil Hold & Shine Wrap/Set Mousse with Coconut Oil Tames Frizz, twists and defines curls",
          "Professional Hair Trimmer Wireless USB Electric Hair Clipper Beard Shaver New Arrival Rechargeable Hair Cutting Machine Barber For Men Haircut Electric Shaver Hair Cutting Tools",
          "Vintage T9 CORDLESS Rechargeable Hair Clippers/electric Shaver",
          "4-Piece Women's Flower Story Women Perfume Gift Set Long-lasting Light Perfume Perfume Beauty Fragrance 30ml*1/25ml*3",
          "Semi-Permanent Waterproof Brow Color Unisex Peel-Off Eyebrow Tattoo Gel Tint - Transfer-Proof, Alcohol-Free Formula for All Skin Types - Fuller & Defined Eyebrows with Easy Application Tools",
          "Roniki Soak Off Gel Nail Polish Top Coat & Base Coat",
          "Barbe Beard Essentital Oil Beard Growth Enhancer Pure Natural Nutrients Beard Oil for Men Facial Nutrition Beard Care",
          "Bump Patrol Solution - Dermatologist tested After shave, help prevent and treat razor bumps and irritation caused by shaving",
          "New Arrival20ml MLSMILE color makeup liquid foundation make-up, natural and durable, oil control, hard to remove makeup, concealer, moisturizing dry skin bb cream, women's moisturizing non card powder",
          "5Pcs Disposable Bandage Tattoo Sport Wrap Tape Self Adhesive Elastic Bandage Tape Tattoo Permanent Makeup Accessories",
          "Insulinol For Your Blood Sugar",
          "ORS Olive Oil Hold & Shine Wrap/Set Mousse with Coconut Oil Tames Frizz, twists and defines curls",
          "Nunix HD-01C 2200W Blow Dry Hair Dryer Professional Blowers Blow Dryer Low Noise Hot And Cold Wind Styling Tools",
          "10ML Essential Oil for Humidifier Aroma Lavender/Rosemary Water Soluble Oil Scent Essential for Air Humidifier Aroma Diffuser Aromatherapy Fragrance Oil Car and Home Relaxing Effect Massage oil -",
          "28 Days Detox Slimming Tea with Moringa 100% Pure Natural Weight Loss Flat Tummy Tea Health Diet Slimming Aid Burn Fat Herbal Thin Belly Tea -",
          "2Pcs aloe vera color changing lipstick makeup lip balm does not fade moisturizing lip balm moisturizing waterproof warm lip balm lip gloss anti-aging lipstick New Arrival Lipstick retouched satin lipstick",
          "Sync haven boric acid suppositories",
          "3 Days HIP & BIG BUTT ENHANCEMENT CAPSULES Winstown Original Hip Firming Capsules Hip Up & Buttocks Enlargement Capsule",
          "Men Professional Hair Trimming Hair Clipper Fashion Hair Shaving Tools+6 Gifts-Black",
          "Daynee WEIGHT GAIN GUMMIES With Creatine Monohydrate Dietary Supplement Gummies For Boosting Muscle Growth, Increased Endurance and Enhanced Energy.",
          "1500 Puffs Korea Shining Vpae Electronic Vape New Arrival Fashion Vape E-Cigarette Good Quality Vape,Good design and Easy to charge,Fashion Vape 15000 Puffs Good Price Fashion Style Shining vape",
          "Alltyme maternity padsAll Tyme Maternity Pads, 10 piecesSuper strong adhesive Suitable for heavy flow 7mm thickness Maximum absorption Soft and Cushiony as picture",
          "Sadoer 3 Pieces Turmeric , Sadoer Tumeric Serum Anti Acnes + Turmeric Cream + Turmeric Cleanser Pore Shrinking and Even Dark Spots Like Vitamin C, Deep Cleansing, For Face and Body Moisturizing Soap",
          "5 pcs 99% accuracy pregnancy test kit female early detection strip with HCG for urine measurement",
          "Mouth Wash Complete Care Plax Mouthwash 12 Hour Protection",
          "2pcs Luodais Shine Hair Spray For Human Hair/Wigs/Weaves..",
          "Mousuf Brown Arabic Perfume Deodrant Body Spray 200ml by Ard Al Zaafaran Original Brown Mousuf Men,Women Unisex Body Spray.",
          "Sadoer Kojic Soap 3 Pieces, Kojic Acid Whitening Soap, Deep Cleansing, Skin Brightening Like Vitamin C, Improve Acne Prone Skin, For Face and Body Skin Care",
          "Maybelline Baddie Starter Kit(Maybelline Lasting Fix Setting Pray + Fit Me Primer Luminous & Smooth + Lifter Gloss Topaz)",
          "【Clearance Sale】L'Oreal Paris GlycolicBright Acid Serum 30ml",
          "100ML Stretch Mark Removal Oil Belly,Hands,Legs Marks Repairing Pregnancy Obesity Body Marks Removal Scar Moisturizing Repair Anti-Aging Anti-Winkles Cream Increase Skin Elasticity Smooth Firm -MOOYAM",
          "5 in 1 Sadoer Turmeric Set, Tumeric Cleanser + Face Serum +Face Toner + Face Cream + Tumeric Soap, with unparelled Vitamin C capabilities, Helps in Preven Acne, Sooth, Hydrate, Lighjten Acne Marks",
          "3D Flower Petal Nail Art Decoration Beads Mixed Size Rhinestones Gems DIY Charms Nail Design 7 Styles B2-794",
          "2 in 1 hair straightener ceramic flat irons straightening iron curling corn styling hair tools,Hair curler",
          "EELHOE Body Whitening Cream Underarm Knee Buttocks Private Bleach Remove Melanin Pigmentation Improve Dull Nourish Brighten Skin Care White",
          "Sadoer 2 in 1 Collagen Face Serum Anti Aging Collagen Serum + Collagen Face Cream Anti Aging Cream, Moisturizing Anti wrinkles and Anti Fine Lines Face smoothening Moisturizer, Vitamin C Complementary",
          "Insert Pin Afro black mannequin head wig stand hair stand hat glasses display soft PVC material",
          "FBK New wig women's fringe big wave long curly hair natural synthetic wigs for ladies gift",
          "Mini Hair straightener Iron Pink Ceramic Straightening Corrugated Straightening Irons",
          "Vintage T9 Electric Hair Cutting Machine Hair Clipper Professional Men Shaver Rechargeable Barber Trimmer for Men Dragon Buddha",
          "3 PIECES Kojie San Skin Lightening Soap - Original Classic Kojic Acid Soap for Dark Spots, Hyperpigmentation, Whitening & Scars - Beauty Bar with Coconut & Tea Tree Oil for Fair skin",
          "OFFER!!! 50ml Empty Plastic Transparent Refillable Fine Mist Spray Bottle/Atomizer spray bottle/perfume travelling bottle/Mist Pump and Cap, for Home/Travel/Beauty/Makeup/Sanitizer",
          "LIMITED DISCOUNTY BRAND NEW !!!Dolphin INFRARED HAMMER //FULL BODY MASSAGER //c.e\"",
          "【Discounted】Maybelline New York Superstay Matte Ink Liquid Lipstick 20 Pioneer Lip Makeup",
          "Foldable Makeup Mirror Mini Square Makeup Vanity Mirror Portable Hand Mirrors Double-sided Compact Mirror Pocket Cosmetic Mirror C-395",
          "3/15pcs Eyelash Curler Set With Replacement Pads For Women Eyelashes Curling Tweezers Clips Lash Mascara Wands Brush Makeup Tool",
          "HD Makeup Mirror, Desktop Simple Dressing Mirror, Square Princess Mirror, Simple Folding Portable Makeup Mirror",
          "4PCS Women's Perfume Set Fresh and Long-lasting 4 Different Fragrance Ladies Perfumes Floral and Fruity Fragrance Gift Box Set",
          "3pcs/set Velvet Matte Lipsticks Pencil Waterproof Long Lasting Lip Tint Pen Makeup Cosmetics",
          "【Clearance Sale】Versman Cool Perfume 95ML",
          "250ML Hairdressing Spray Bottle Salon Barber Hair Tools Water Sprayer Transparent Make-up Style Portable Plastic Spray Bottles",
          "Advanced silicone scar gel, medical grade scar removal gel",
          "Rechargeable shaircut Hair Clipper Hair Cutting Tools Electric fader kids baby shaircut Men Hair Cutting Hair Trimmer Tools bald head clipper Shaving Machine ElectroMate",
          "Sadoer 2 in 1 Skin Active 5 x Vitamin C Serum + Complementary 5x Vitamin C Cream, For Deep Hydration, Whitening Dark Spots, Moisturizing, Skin Tone Brightening and Skin Nourishment",
          "Originals By Africa's Best Hair Mayonnaise Conditioner, Enriched with Natural Botanical Herbal Extracts and Olive Oil to Deep Condition and Repair.",
          "Man Lasting Long 60 Minutes Delay Spray Penis Enlargment Oil Sex Delay Spray Sex for Male External Use Libido Booster Sex Spray -",
          "Transparent Silicone Nail Art Stamping Kit French Design For Manicure Plate Stamp Polish Seal Two Sides Stamper Scraper",
          "Colossal Kajal Matte Black Easy Glide-on Long-last Pencil Eyeliner Lipliner",
          "Luminous Ear Scoop, Stainless Steel Ear Scoop with Light, Luminous Ear Cleaner, Visual Ear Picking Tool",
          "SADOER Scar Removal Cream, Scar Repair Cream, For Deep Repair, Skin Smoothening, Effective on Trauma Scar, Scald Burn Hyperplastic Scar, Reduce Pigmenta-tion, Repair All Kinds Of Scars",
          "[Today's Special Offer] 5-color spot neutral jelly powder blusher makeup rouge cream shimmer powder blusher stick dual-use brighten and beautify powder blusher",
          "Professional Electric Portable Nail File Drill Manicure And Pedicure Machine USB Chargeable ABS Gel Polish Grinder Remover tools Set Cutters Nail Art Kits with 6 Bits",
          "Tongue scraper, suitable for adults and children, provides healthy oral care, is easy to use, and helps combat bad breath. Travel portable cleaner Tongue coating cleaning brush",
          "USN Hyperbolic Mass The Ultimate all-in-one mass gainer",
          "Shampoo Bar For Black Hair Repair And Moisturizer Mane Black Reverse Bar Soap Cover Bar Soap For Black Hair For Men Hair Coverage",
          "100ML Men Perfume Fruity Fragrance Eau De Parfum Cologne",
          "Pure Egyptian Gold magic whitening shower cream gel -1000m",
          "PROFESSIONAL ELECTRIC SHAVER // ELECTRIC SHAVING MACHINE / KINYOZI HAIR CUTTING / SHAVING MACHINE",
          "Low Noise Electric Nose Ear Trimmer for Men Washable Trimmer Head Portable Nose Ear Hair Clipper",
          "22/42Pcs Nail Art Dotting Brush Manicure Set Polishing Sanding File Dead Skin Nail Polish Remover Tools Decorations Kit",
          "Makeup Facial Foundation Waterproof Concealer Base Fluid Brighten Skin Colour BB Cream Lasting Oil Control Cosmetics Nude Makeup Highlighter Concealer",
          "floral ladies perfume - women perfume deodorant antiperspirant roll-on | fresh cool 48h long lasting flower fragrance | romantic rose scent | deodorizing refresh fragrant charm confidence elegant",
          "ORAQUICK SAFE HIV AIDS Blood Self Home Testing Kit",
          "3 Pairs Magnetic Eyelashes set Magnet Liquid Eyeliner&amp; Magnetic Lashes &amp; Tweezer Set Makeup False Eyelashes Makeup Kit",
          "Glueless Women Wigs Human Hair Body Wave Wig Black Long Curly Ladies Hair For Women Gift",
          "JEAN MISS Brand 3Pcs 30ML Men's Perfume Set Gentleman Ocean Cologne Durable Eau De Toilette",
          "Makeup Set 39 Colors Eye Shadow Lipstick Blush + Mascara + Eyeliner + Eyebrow Powder Set + Brown Liquid Foundation + Powder puff Makeup Kit",
          "Foot Anti Chapped Gel,Moiturizing the skin,Softening keratin,Smoothing tender feet",
          "Disposable Protective Face Mask 3ply 50pcs Pack-Black",
          "Efero Exfoliating Foot Mask Pedicure Socks Exfoliation for Feet Mask Remove Dead Skin Heels Foot Peeling Mask for Legs with lavender extract Beauty and skin care product",
          "Original Retinol Face Cream Anti-aging Brightening Moisturizing Firming Retinol Face Cream with Hyaluronic Acid Face Cream- Vibrant Glamour-",
          "2 Pack Hand Cream for Dry Skin Cracked Hands Natural Plant Fragrance Hand Lotion Moisturizing Hand Care Cream Gift for Men And Women",
          "Upgrade 2PCS --- Fast Hair Growth Oil Africa Crazy Traction Alopecia batana Hair Mask Anti Hair Break Hair Strengthener Hair Loss Treatment Spray Upgrade to the larger-capacity version",
          "Fast Lightening Pink Mouth Lips Serum Bleaching Permanent Pinkish Moisturizing Lighten Dark Lip Balm Gloss Lipstick Lip Mask13ML B2-916",
          "OFFER!! Original Asantee Papaya And Honey Anti Acne Soap - 125g (Pack of 1) – Nourishing, Natural Skincare for Smooth & Glowing Skin**Asante soap",
          "Vanilla Pheromone perfume - Attract Him - Vanilla - Pheromone - Pheromone Attractant used to Attract Men- 100% Effective",
          "2 In 1 Curling Iron Hair Straightener Gold+6 Gifts",
          "2pcs Reusable Menstrual Cup Silicone Medical Grade Economical Alternative To Sanitary Napkins Periods Cup",
          "Cotton pads 100pcs round cotton Make up Remover pads and Skincare wipes for toners,cleansers,creams,nail polish remove,sweat wipe cotton pads",
          "Sadoer Tumeric 3 in 1 Set, Turmeric Anti Acne Cleanser + Turmeric Face Serum + Tumeric Cream, Like Vitamin C, Guarantees Smooth Skin, Prevent Acnes, Control Oil, Remove Dark Spots , Moisturize, Refres",
          "SUN X7 Max 180W Blueque Nail Lamp 57 LED UV Lamp Professional Phototherapy UV Light Nail Dryer Lamp Quick-Drying Auto Manicure Lamp",
          "(Promotion) Buy one, get one free Toothpaste Teeth Whitening Refresh Breath Stain Remove White Teeth Cleaning Hygiene Oral Care Dental",
          "3 Pieces, Vitamin C Face Brightening Serum + Salicylic Acid Acne Treatment Essence + AHA BHA Acne Repair Serum, For Youthful Brightened Face, Remove Acnes and Pimples, Moisturizing, Whitens",
          "Garnier even tone essentials kit- Vitamin C Serum 30ml & Even & Matte Vitamin Spf30 -50ml",
          "Black straight wigs European American women fashionable wig headgear with split long straight hair",
          "Bathing Gloves Exfoliating Bathing Cleaning Gloves Body Scrubber helps to precisely clean and gently remove dead skin cells body scrub gloves shower gloves ,bthing gloves",
          "NOVA SHAVER Nova NEW PRO Rechargeable Hair Trimmer/Shaving Machine comes with Nova Shaver, Oil bottle ,Brush ,Charging cable & User Guide",
          "4PCS Vaseline Lip Balm Natural Plant Moisturizing Lip Mask Anti-Crack Lip Care Lip Petroleum Jelly Lip Balm Moisturizer Balm",
          "Man Eau de Parfum Spray intense Man Perfume by Suitable for Men",
          "Magic Nose Shaper Clip Nose Lifting Shaper Shaping Bridge Nose Straightener Silicone Nose Slimmer No Painful Hurt Beauty Tools B2-12",
          "Hot Water Bottle with Soft Cover 1000ML Hot Water Bag for Neck Shoulder Pain and Hand Feet Warmer Menstrual Cramps Hot Compress and Cold Therapy Household Personal Care",
          "Fruit Of The Wokali Collagen Anti Aging Serum",
          "Capel 12 color lace eye shadow dream goddess dumb pearl powder blusher high gloss powder gel liquid eye shadow",
          "Cranberry Juice Powder - Supports urinary tract health",
          "3 pcs 3 colors Fashion Eyebrow Shaper Shaving Stainless Steel rust Proof Sharp Painless Hair Razors Eyebrow Shaver Eyebrow Trimmer Female Facial Shaver Hair Remover Blade For Beauty And Makeup Tool",
          "24 pieces of wearable nail art Reusable 10 models to choose from French Bright Diamond Fashionable women's manicure",
          "50ml Men‘s Fragrances Long Lasting Ocean Fresh Spray Perfume Deodorant Men‘s Fragrances Cologne Perfume",
          "High-Quality Mini Stepper with Resistance Bands",
          "JC 14 Inch short hair women wigs Lace Front Wigs Glueless Peruvian Real Bone Straight Short Pixie Bob Wigs",
          "36W Nail Lamp UV LED Nail Lamp 12 Lights Gel Nail Curing Nail Dryer USB Cable Nail Light With Plug",
          "16 Color Micolor Blusher Highlighter Concealer Powder Palette Face Makeup",
          "Derma Roller 0.5mm Multipurpose Anti Ageing, Anti wrinkles, Hair Growth, Beard Growth Derma Roller System, Anti Acne Derma Roller, Micro Needling Therapy",
          "Geemy Rechargeable Smoother Hair Shaving Machine, Shaver- 3 In 1",
          "4 Pcs Women's Perfume Ladie Eau Perfume Long Lasting Natural Body Deodorant",
          "Cute dumpling makeup bag, foldable dumpling bag, gold ingot shaped gift storage and toiletries bag",
          "Cantu Shea Butter Leave-In Conditioning Repair Cream - (453G) .",
          "Micolor 4PCs Fit Me Matte Poreless Powder + Liquid Foundation + Primer + Finish Spray Fixer",
          "12Grids/box Mixed Resin Bowknot Nail Art Decorations 3D Acrylic Charms Kawaii Colorful Bow Rhinestone DIY Manicure Tools Parts False Nails Accessories",
          "【Discounted】MAYBELLINE FIT ME MATTE & PORELESS POWDER 360 MOCHA POWDER MAKE UP",
          "Fashion long straight hair neat bangs temperament trim face long hair female synthetic hair for women gift",
          "300g Deep Clean & Whitening Probiotic Toothpaste - Baking Soda Pump Dispenser for Personal Care",
          "Perfume Perfumer True Me Black Raven Perfume Lady Lasting Light Fresh Sweet Student Perfume",
          "Sadoer Hair Care Serum, Ginger Hair Growth Based Product, Effective in Hair Growth,Moisturizing and Softening Forked Hair, with ScalpCare ingridients",
          "SADOER Facial Serum 4 in 1 Repair and Nourish with Hyaluronic Acid, Nicotinamide, Vitamin C and Vitamin E, High Moisturizing and Brighten Skin Tone, Rejuvenates, Whitens Blemishes and Dark Spots",
          "EM Shaving machine 3 in 1 shaver rechargeable & electric hair clipper beard remover nose hair trimmer ElectroMate",
          "8Pcs Set With Bag Makeup Brushes Sets Eye Shadow Foundation Powder Eyelash Lip Concealer Blush Travel Portable Soft Make Up Brush Sets",
          "10 Sheets 240pcs Double Sided False Nail Art Adhesive Tape Glue Sticker DIY Tips Fake Nail Acrylic Manicure Gel Makeup Tool",
          "Men Professional Hair Trimming Hair Clipper Fashion Hair Shaving Tools-Black",
          "CeraVe Hydrating Facial Cleanser developed with dermatologists fo all skin type (236ml)",
          "New VEET GOLD TURMERIC Anti-Aging & Anti Dark Spots SHOWER Gel CREAM. Cleans, Removes Dark knuckles, Black Spots, Dark spots, Pigmentations, Prevent Aging, Repairs",
          "Professional Ear Piercing Gun body/nose piercing kit piercing machine earrings",
          "One Step Makeup Kit Eyebrow Powder Stamp Shaping Kit Long Lasting Contouring Eyebrow Shape Stamp Brow with 10 Eyebrow Stencils 2 Brushes Eye Shadow",
          "【Pack of 2】NIVEA Deep Impact Body lotion men 400ml intensely moisturises skin for 48 h leaving it feeling fresh thanks to black carbon. Woody and spicy notes give skin a masculine scent 24/7h.",
          "2 Packs Vaseline Daily Brightening Even Tone Body Lotion 400ml + 200ml Oil for Glowing Skin, with Vitamin B3 & Triple Sunscreens-For Radiant Looking Skin in 2 Weeks Vaseline Body Lotion Vaseline Oil",
          "The Ordinary Hyaluronic Acid 2%+B5 Deep Hydration Serum for Enhanced Skin Moisture, 30ml",
          "Femme Organics Ashwagandha Powder for Fertility, Anxiety & Strength",
          "Kojie San Skin Lightening Soap - Original Classic Kojic Acid Soap for Dark Spots, Hyperpigmentation, Whitening & Scars - Beauty Bar with Coconut & Tea Tree Oil for Fair glowing Flawless Even Skin Tone",
          "Quick Dark Spots Corrector Serum Tumeric Toner Acne Remover Fade Dark Spots Eraser Skin Care Serum- MOOYAM -",
          "Tooth Gemstone Kit Jewelry Easy To Remove And Install Crystal Dental Diamond Tooth Jewelry Shiny Sticker Diy Tooth Gem Set With Curing Light And Glue",
          "Broken Hair Artifact Hair Wax Stick Gel Cream Styling Hair Frizz Fixed Fluffy Children Men And Women Styling Hair Wax Stick 75g",
          "SADOER Collagen Face Serum For Skin Tightening Helps Lift, Plump & Firm Sagging Skin Serums For Skin Care Anti Wrinkle Boost, Fragrance Free Pure Natural Active Collagen Face Serum, Anti Aging Collage",
          "Sadoer Sunscreen SPF 50 PA +++, Brighten Repair Concealer, Protection Isolation Sunscreen , Moisturizing anti light ageing Sunscreen",
          "SADOER 4 in 1,Vitamin C Serum + Moisturizing Lipbalm + Vitamin C Cream+ Face Wash for Face Brightening, Moisturizing and Black Heads Removal, Anti Wrinkles, Lighten Dark Spots, Hydrate Dry Skin",
          "500pcs Per Pack, 5 Packs, Double-ended Cotton Swabs, Baby Cotton Swabs, Ear Cleaning Sticks, Healthy Cleaning Tools",
          "USB Rechargeable T9 Baldheaded Hair Clipper Electric hair trimmer Shaving &amp; Hair Removal Electric Shavers electric clipper hair cutting tool",
          "6PCS/set lipstick lip gloss set makeup long-lasting liquid lipstick set makeup matte non stick cup lip gloss",
          "Amazing Peel Off Liquid Lipstick Waterproof Long Lasting Lip Gloss Mask Moisturizer Makeup Tear Pull Lip Lint Cosmetic",
          "Rechargeable Weighing Scale Body Scale Weight Scale Bathroom Scale Electronic Digital Scale Fast delivery within 1-5 days",
          "Dummy Plastic Wig Stand Wig Holder Mannequin Hair Dummy.",
          "Ginger Slimming Essential Oil, firming and tightening the abdomen, reducing the belly, shaping the thighs and hands of excess fat, natural plant extracts, massage use",
          "3 Days Quick Slimming Massage Cream for Weight Loss Belly Arm Cellulite Fats Burning Flat Tummy Slim Cream - MOOYAM -",
          "Hard Wax Beans Hair Removal Depilatory Wooden Spatulas Stick -10pcs",
          "Portable Finger Pulse Oximeter Blood Oxygen Heart Rate Saturation Meter Fingertip Oximetro De Dedo Saturometro Spo2 PI TFT moni",
          "Sadoer Foaming Face Cleanser, Tumeric Cleanser, the Anti Oxygen Acne Remomal Turmeric Facial Cleanser effective in Deep Cleaning the pores, Prevent Acnes, Oil Control and Soothing and Acne Repair",
          "Garnier Super UV Invisible Serum Sunscreen SPF 50 30ML-Pack of 2",
          "Men's and Women's Perfume 50ML Fruity Floral Perfume Light fragrance lasting Deodorant",
          "Sterling Gray 3-Tone 2 Soft Contact Lenses Natural Looking Eyes Star Colored Lenses 3 Tone Color Contact Lenses for Eye Cosmetic Colored Pupil Contacts Lens 1 Pair Contact Lenses Starling Grey",
          "60Pcs Rose Eye Masks Natural Moisturizing Gel Eye Patches for Remove Dark Circles Puffiness & Wrinkles Anti Age Bag Eye Wrinkle Skin Care Personal Care",
          "False Press On Nails Artificial Fingernails With Packaging Box Press On Nails Personal Care Nail Artificial Fingernails 10 Mix Colours DIY ABS Nail Tips Press",
          "New 24 Pieces Short Plastic Art Fake Nails - Press-On Reusable Full Cover False Nail Tips for Nail Art Decoration",
          "Grey Coverage Bar Shampoo Repair Gray White Hair Color Treatment Smoothing Nourishing Anti Dandruff Natural Hair Darkening Soap",
          "10 Pairs Faux 3D Mink Lashes Natural False Eyelashes Long Lasting Extension beautiful eyes Dramatic Fluffy Soft Wispy Volume Cross Reusable Eyelash Makeup Beauty Tools",
          "2024 Mini Vibration Massage Gun Rechargeable Wireless, Electric Massager Gun Muscle Relaxation Massager Promote Blood Circulation Professional Fitness Portable Electric Fascia Gun",
          "Lips Pink Cream Fresh Bleaching Treatment Remove Dark Smoke Lips Lip Balm Whitening Moisturizer Nourish Essence Dilute Melanin B2-916",
          "Hair Combs Simple Personality With Both Wet And Dry Electric Copper Straightener Hair Straightener Household Perm Curling Iron Curling Comb",
          "Soft Barber Hair Beard Brush Neck",
          "YDD Nail Glue Nail Adhesion Nail Bond Non Toxic",
          "100ml Wood Tone Desert Flowers Fresh And Lasting Fragrance Perfume",
          "Irons Hair Straightener Does Not Hurt Hair Straightener Clip Hair Inside Buckle Electric Splint",
          "Velvex White Cotton Wool 50 Grams 1 Roll,",
          "Garnier Vitamin C Booster Serum 30ml Twin Pack",
          "6PS beauty egg makeup blender cosmetic puff makeup sponge foundation powder sponge beaty tool women make up accessories",
          "Waterproof Big Mouth Nude Matte Lipsticks Long Lasting Lip Stick Not Fading Makeup Lipgloss Red Velvet Lipstick Makeup Beauty Cosmetic Vitality Color Lipstick",
          "Garnier Charcoal Serum + Even & Matte UV Protection SPF 30",
          "Matte 5-color Lipstick Set Velvet Lip Stick Non-stick Lip Gloss Moisturize Long Lasting Waterproof Red Lipstick Lip Makeup Cosmetics Kit",
          "[Limited Offer] Nice & Lovely Flawless Bio-Body Oil For Stretch Marks & Contains 4 Natural Oils.",
          "【Discounted】Garnier Micellar Cleansing Water For Sensitive Skin - 400ml",
          "(PACK OF 2) NIVEA Soft Moisturizing Cream 75ml -a highly effective, intensive moisturizing cream for everyday. The light formula with Vitamin E & Jojoba Oil is quickly absorbed and refreshes the skin.",
          "Relax & Spin Tone Full Body Slimmer Massager Machine",
          "NIVEA Pearl & Beauty Black Pearl Fine Fragrance Anti-Perspirant Spray, 48h - 150ml",
          "Extra Strong Yellow Peeling Oil Whitening Peeling Oil Skin Care Lighten Elbows Knees Hands Melanin Even Skin Tone and Whiten Skin",
          "2 Pairs Denture Care Tooth Whitening FakeTooth Jacket Simulation Braces Upper Teeth The Second Generation of The Teeth the Sixth Generation With Hole Simulation Braces Whitening Fake Braces Ora",
          "Back Braces for Lower Back Pain Relief With 6 Stays Breathable Back Support Belt for Men Women work Ergonomic Design Lumbar Belt for Injury, Herniated Disc,Scia",
          "Hair Curl Sponge Brush",
          "ROUSHUN Mousse Curl Shaping Control Frizz Foam Wrap Set Mousse Define Restore Bounce Curls No Frizz Restore Wig Curls Hold & Shine - with Olive Oil Coconut Oil",
          "High Definition Pro-concealer for face/skin toning (NO. 108(1), 109(2), 110(3)) Face Concealers & Neutralizers",
          "Quality 2 IN 1 Mascara And Eyeliner thick volume lashes 2in1 mascara+eye liner",
          "Lattafa Yara Pink Perfume Lattafa Yara Pink Perfume",
          "Nasal Inhaler Nail Clippers 13 Cartoon Daily Cleaning Products Care Set",
          "NIVEA Radiant & Beauty Even Glow Body Lotion For Women - 400ml - Pack Of 2",
          "NEW Electric Oral Irrigator Cordless,USB Rechargeable Dental Water Flosser with 4 Nozzles and 3 Pressure Modes,Teeth Cleaning and Whitening 4 Jet Tip IPX7 Waterproof Teeth Cleaner",
          "Light and Fresh Men's Perfume Spray for Dating Office and Daily Use Leak-Proof Fine Mist Long Lasting Men's Fragrances Perfect Birthday Valentine's Day and New Year's Gift",
          "Digital Personal Weighing Scale Body Weight Health Body Scale Digital Glass LCD Display Sensor Scale For Weight loss Tool Balance Health Care Fast delivery within 1-5 days",
          "Women Wigs Long Loose Curly Deep Wave Wig Heat Resistant Synthetic Glueless Middle Part Ladies Hair Wig Gift",
          "MAXIFLEX Cream All Natural Joint Balm",
          "LED light European makeup mirror desktop multifunctional makeup mirror with adjustable lamp desktop makeup mirror LED tri color light adjustable mirror",
          "5 Pieces, Vitamin C Cream + Vitamin C Serum + Vitamin C Moisturizing Lip Balm + Black Head Peeling Mask + Vitamin C Foaming Face Wash, for Brightening, Remove Black Heads, Lips Brightening,Moisturizin",
          "5 Pairs Exfoliating Gloves For Bath Body Scrub, Assorted Colours",
          "Random Color M:19*26CM L 20*32.5CM Bamboo Cloth Sanitary Napkin Reusable Washable Menstrual Women Hygiene Sanitary Towels Postpartum Nursing Pads",
          "320W SUN X16 Max UV LED Professional Nail Lamp Portable for Nails Gel Polish Curing Dryer Lamp Touch Screen UV Nail Drying Light",
          "IBD Strong Builder Gel - CLEAR - UV Gel for tip overlays, sculpting pedicure nails polish art prep",
          "Wigs Kinky Curly Deep Wave Density Grade Brazilian Virgin Pre Plucked Short Water Wave Wig Natural Loose Wave Curtain Bangs Upgraded Bob Wig Transparent Kinky Afro Wigs For Black Women",
          "YNK Face & Body Glitter",
          "3PCS STRECTHY HAIR MESH WIG CAP/WEAVE CAP HAIR NET",
          "FBK Women long wave wig long curly hair black brown gradient synthetic hair for lady gift",
          "Garnier Super UV Invisible Serum Sunscreen SPF 50 30ML",
          "JC fashion Women wig headgear quick sell African small volume explosive head Wig Black Short fluffy fiber Headgear",
          "3 in 1 Vitamin C Serum + Vitamin C Cleanser + SPF 60++ Sunscreen for Brightened Face, Moisturizing, Anti Aging, Anti Wrinkles, Anti Acne, Dark Spots Remover, Sunscreen Protector VC Serum+Cleanser+SPF",
          "AFRO KINKY BULK Human Hair Extension Black Color 32g",
          "2 in 1, Tumeric Serum + Tumeric Soap, Turmeric Serum and Turmeric Soap, Cleans Dirt and Oil Residual, (can Combine with Vitamin C) Clears Pores, Shrinks Pore,",
          "'The Scentury Kenya 10ml Silver Fox Health & BeautySmart Collection Olympea Unisex Perfume Longlast Smell",
          "6pcs/Set Portable Spray Refillable Bottles Kit Hair Styling Set Spray Bottle Brush Comb Braiding Tool Rat Tail Comb Edge Control Brush Mist Sprayer For Hair Styling Cleaning",
          "SADOER 10x Collagen ,Collagen Anti Aging Face Cream Anti Wrinkles And Fine Lines, Intensive hydration, Anti - aging, Brighten skin tone, Acne fade/ repair essence, Contains collagen",
          "Blackhead Remover Mask Bamboo Charcoal Deep Cleansing Oil-Control Beauty Skin Care Facail Black Masks Acne Treatment Peel Off - SADOER-",
          "MEDIX 5.5 Vitamin C+ turmeric Cream Face & Body Lotion Moisturizer | Anti Aging Skin Care Firming & Brightening Cream Diminishes The Look Of Uneven Skin Tone, Age Spots, & Sun Damaged Dry Skin 444ml",
          "Dear Body Saturday Body Mist 250ml Fragrance Body Spray Suitable For All Occasions Body Sprays Fragrance Mist Perfume 250ml Best Refreshing Perfume Fragrance Mist",
          "Makeup Bags Toiletry Bag Travel Cosmetic Waterproof Portable Storage Bag",
          "New Arrivals 8Pcs Collagen Face Mask Anti-wrinkle Retinol Hyaluronic Acid Firming Facial Masks Hydrating  Anti-aging Repair Brightening Moisturizing Face Mask Facial Skin Care",
          "288pcs/Box False False Nails Artificial Fingernails Press On Nails 12 Mix Colours DIY ABS Nail Tips Press Nail Art False Full Nail",
          "New arrival women short straight hair black gradient wine red Bob wigs for ladies gift",
          "4PCS set KORMESIC 5% Minoxidil shampoo Conditioner Shampoo Repair Hair Damage Promote Hair Growth",
          "Daynee WEIGHT GAIN GUMMIES With Creatine Monohydrate Dietary Supplement Gummies For Boosting Muscle Growth, Increased Endurance and Enhanced Energy",
          "Night Collagen Wrapping Mask Rejuvenation Moisturizing Brightening Korean Face Mask Make Glowy Skin Elasticity Facial Mask 75g",
          "Garnier Even & Matte Vitamin C Booster Serum 15ml",
          "New Upgrades Household Infrared Thermometer Digital LCD Body Measurement Kid Adult Fever IR Children Non-Contact Tmedical Health Monitors Thermometers Health Care Medical Equipment",
          "✔️✅️Ultrasonic Electronic Pest Repeller with Night Light Insect Mosquito Killer Bug Zapper Non-toxic Safe Home Mosquito Repellent for Mice Mosquitoes Ants Spiders Cockroaches Repelling▫️▪️",
          "Matte Loose Powder – Concealing, Contouring, and Setting Makeup Powder",
          "Palmers skin success body lotion Even tone Fade Milk with Vitamin E and Alpha Hydroxy Anti dark spot fade tone correcting lotion",
          "Classic Dream 8 Color Correct Contour Concealer Palette Contouring Makeup Care",
          "3Pcs Ushas Lip Serum Lip Hydrating Treatment Moisturizing Lip Care Serum Reduce Dryness Lip Lines Lip Enhancer For Fuller Lips Nourishing Sheer Lip Oil",
          "FBK Female Hair Party Event Ladies Straight Short Bob Synthetic Wigs For Women Gift",
          "6-Color Face Powder & Foundation Palette – All-in-One Matte Finish Compact for Contouring, Highlighting & Full Coverage",
          "Creatine Gummies Sugar-free Natural Gummies enhanced workout performance, and quicker muscle recovery.",
          "Snail Collagen Anti-aging Face Cream +Face Serum + Face Soap",
          "Refreshing Rose Water Mist Spray- 100% Pure,Skin Toner,for a Glowing and Radiant Skin",
          "NIVEA Indulge Gift Pack - (Nourishing Cocoa Body Lotion 400ml,Waterlily Shower Gel 250ml & Pearl & Beauty Roll-On 50ml)",
          "Bump Patrol dermatologist recommended after shave intense solution",
          "36Pck Motion Sickness Patches.100% natural plant-based ingredients, free from side effects like allergies or drowsiness.Seamlessly blends with your skin tone, making it discreet, with portable",
          "DR RASHEL Dr. Rashel Vitamin C Face Serum + Sunscreen Sun Cream SPF60 Anti-Aging",
          "12 Colors Matte Liquid Lipstick Set Lip Glosses Suit Long-Lasting Moisturizing Smudge-Proof Waterproof Nonstick Cup Lip Book-Style",
          "24 pieces Nail Art Reusable Wearing armor Black glitter French simplicity Glue and jelly glue For Ladies",
          "EMS Foot Massager Pad Electric TENS Fisioterapia Mat Massageador Peds Muscular Health Care Relaxation Massager Improve Blood Circulation",
          "Old Spice Men's Deodorant Aluminum-Free Swagger 85g",
          "Men's Cologne Spray, Natural Fresh And Long-lasting Fragrance For Men Student For Birthday And New Year Gift",
          "Facial Sauna/steamer, FACE Steaming/Hydration Machine",
          "28 Colors matte pearlescent eye shadow plate eyeshadow cosmetic makeup profissional eye",
          "Fashion short curly hair neat bangs slightly curly clavicle hair women wigs for gift",
          "Stainless Steel Tongue Scraper Cleaner Fresh Breath Cleaning Coated Outdoor Oral Hygiene Care Tools Oral Hygiene",
          "10pcs/box Detox Foot Patches Pads Body Toxins Feet Slimming Cleansing Herbal Body Health For Weight Loss",
          "8 bottles 5ml Practice Pigment, Panda, Tattoo & Permanent Makeup, Plant Ink Set",
          "ONLY 120 Colors Eye Shadow Cosmetic Powder Pearly Eyeshadow Palette Makeup",
          "Perfume 50ml Eros For Men Fragrance Lasting Light Fragrance Fresh Ocean Cologne",
          "Axe Adrenaline Deodorant Body Spray – 150ml",
          "VIBRANT GLAMOUR Retinol Face Cream Firming Lifting Anti-Wrinkle Brightening Moisturizing Skin Care Retinol Face Cream",
          "10 Pieces Flexi Rods/curling Rods/ Hair rollers",
          "5 PCS Facial Masks Honey Rose Hyaluronic Acid Face Masks Sheet Pores Moisturizing Oil-Control Anti-Aging Replenishment Face Care Skin Care for Beauty",
          "Eye Lash Adhesive Glue Eye Lashes Glue",
          "Anthelios Invisible Fluide Facial Sunscreen SPF 50+",
          "Rechargeable Shaving Machine Electric Shavers Retro Buddha Head Hair Clipper Barber Cordless Professional Hair Trimmers For Men Clipper Hair Cutting Machine Shaver",
          "500 Pcs 3D Nail Charms And Flatback Pearls Multi Styles Bowknot Charms + Pink&White Star Heart Nail Jewels + 2-6mm White Nail Pearls For Nail Art Design With Pickup Tools",
          "Sadoer 3 Serums , Skin Active Vitamin C Serum + AHA BHA Salicylic Fruit Acid , Oil Control And Acne Treatment Salicylic Acid + Salicylic Acid Acne Treatment Essenceand Even Ski Serum",
          "Authentic EMS foot massager remote control large mat with body electrode pads",
          "Sadoer Salicylic Acid Anti-Acne Remove pimples Pore Shrinking ,Vitamin C Serum complementary Repair Oil control Hydrating Face Serum, Remove Black Heads",
          "Garnier Brightening Night Serum With 10% Pure Vitamin C 30Ml",
          "2200W Hair Dryer Professional Blowers Blow Dryer Low Noise Hot And Cold Wind Styling Tools",
          "Electric Nail Drill Machine Set Nail Polisher Nail Painting Pen Point Pen Gold Foil Nail Decoration Manicure Tools",
          "Original mousuf brown ard al zaafran 100 ML",
          "Nail Fungal Treatment Essence Oil Foot Toe Nail Repair Fungus Removal Serum 7 Days Repair Onychomycosi Anti Infection Gel Care Products- MOOYAM -",
          "2 PIECES Sadoer Salicylic Acid Sheet Mask Pack Anti Acne Soothing Repair Hydrating Facial Mask Wholesale Price SADOER Acne Removing Control Soothing Repairing Moisturizing Face Mask",
          "10ml Pure Essential Oil Aromatherapy Diffusers Lavender Lemons Oils Relieve Lavender Peppermint Eucalyptus Rosemary Essential Oils Home Water-soluble 10ml Air Freshener Scents Fragrance Oil Perfume -",
          "1pc Tongue Scraper, Reduce Bad Breath, Stainless Steel Tongue Cleaners, Metal Tounge Scrappers, Tongue Scraper Cleaner for Fresh -",
          "Ginger Slimming Essential Oil, firming and tightening the abdomen, reducing the belly, shaping the thighs and hands of excess fat, natural plant extracts, massage use",
          "1pc Adjustable Self-heating Magnetic Therapy Back And Waist Support Belt, Waist Massage Belt Sports Support Belt, Body Care Belt",
          "【Discounted】NIVEA Radiant & Beauty Even Glow tone in 2 weeks Pearl Extract Body Lotion 400ML",
          "【2 Pack】 Nivea Nourishing Cocoa Body Lotion 400ml. Enriched with natural cocoa butter and Vitamin E,that provides deep & long-lasting moisture",
          "Stunning Contact Lenses cosmetic Aesthetic colored lens/contacts",
          "SADOER Vitamin C Whitening Body Lotion Cream Moisturizing Refreshing Whole Body Lightening Cream",
          "Geemy GM-6008 Rechargeable Cordless Shaving Machine Hair Clipper Kinyozi Geemy GM-6008 Rechargeable Cordless Shaving Machine Hair Clipper",
          "OFFER !!! Yara Perfumed Body Spray 200ml/Yara Tous-Orange by Lattafa – Luxurious Deodorant Perfume Spray for Women, Perfect Gift Body Spray",
          "Stainless Steel Foot Hand Nails Cuticle Nippers Large Jaw Hard Nail Cutter Household Splash Proof Nail Clipper",
          "6200 N95 Double Filter Chemical Respirator Dust and Gas Mask",
          "3 PCS Lip Mask with Fruit Extract-Daily Lip Care-Moisturize & Nourish Cracked Dry Lips,Hydration for Dry Lips.",
          "JC Digital Blood Pressure Monitor Sphygmomanometer Pulse Rate Heart Beat Rate Meter Health Care High-Quanlity digit bp monitor price electronic machine household blood",
          "Fade Dullness Hand Cream Anti-wrinkle Remove Cracked Lotion Body Fast Lighten Black Skin Brighten Smooth Nourish Moisturizer 30g",
          "Women Black Middle Parted Short Straight Bobo Hair Wigs Synthetic High Temperature Silk Wigs",
          "IREV Retinol Hand Cream - with Retinol Gold Collagen - Antiaging Hand Treatment Cream Softens Smoothes Protects Hands Nails Cuticles - For Younger Looking Hands Vitamin A Minimises Age Effect on Skin",
          "【Discounted】Garnier Even & Matte Gentle Cleansing Foam 50ml",
          "BIOAOUA 3pcs toothpaste and 10 toothbrushes Baking soda nicotinamide Whitening, Yellow Gingivi-Protecting Toothpaste Freshens the mouth Whiten teeth to keep your mouth healthy",
          "5in1 Face Cleansing Electric Brush Latex Sonic Facial Cleaner Deep Pore Cleaning For Acne Face Massager Facial Tool Set Brush",
          "Perfume This Year'S Popular Royal Inversion Paris Perfume Ladies Royal Live Light Fragrance Lasting Student Fresh",
          "FBK Women Ombre Bob Short Straight Hair Black Brown Synthetic Wigs Ladies Gift",
          "100g Bamboo Charcoal Peel-Off Mask Blackheads Remover Deep Cleansing Mask Face Care Smoothing Face Mask Improve Roughness Skin Care",
          "Ceriotti Saloon Hair Blow Dryer SUPER GEK 3000 Constant Reliable Heat Can Be Used For Long Hours Recommended For All Ages",
          "Sadoer Argan Oil Shampoo, Argan Oil Haircare Against Dandruff Itchy and Dry Scalp, Sulfate Free Shampoo,Moisturising Shampoo,Dandruff Shampoo Helps Reduce Hair Loss,Strong Hair,Softness and Shine",
          "Natural Bristle Body SPA Brush for Wet and Dry Skin, Soft Bath Massager for Home Use",
          "JAPANESE CHERRY BLOSSOM 4 in 1 Set Pump Lotion, Splash, Gel & Cream",
          "Cantu Argan Leave In Conditioning Repair Cream 453g ( Protects hair fro damage)",
          "FF1 Model Portable Wireless Tattoo Pen Kit ,Professional Tattoo Machine Kit, Rotary Machine for Lining, Shading & Practice - Complete Tattooing Supplies Set",
          "Sadoer Sunscreen , Full Body Protection Sun Screen , Whitening Sunscreen, SPF PA+++ 60 Outdoor Protection, Vitamin C complementary, Sun Cream UVA-UVB, Moisturizing",
          "Electric Hot Comb Hair Straightener & Smoother - Anti-Frizz Ceramic Heating - Adjustable Temp - 360° Swivel Cord - Perfect for All Hair Types",
          "Foisten Lace Melting Spray 200ml",
          "PREMIUM Mesh Nebulizer Portable Humidifier Machine Suit for Travel and Home Use with a Set of Accessories",
          "100% PURE SOMALI QASIL POWDER 50gm & 100gm (Extremely soapy)",
          "2 Packs Vaseline Daily Brightening Even Tone Body Lotion 400ml + 200ml for Glowing Skin, with Vitamin B3 & Triple Sunscreens For Radiant Looking Skin in 2 Weeks Vaseline Body Lotion and Oil",
          "Original Perfume Bodymist Spray For Women & Men 35ml",
          "【Discounted】Maybelline Super Stay up to 24H Skin Tint Foundation + Vitamin C -67",
          "Cronier proffesional tongs curling stick 🔆super long curling rod 🔆digital display 🔆universal voltage 🔆ceramic coated",
          "20PCS Aloe Vera Masks Good Night Gel Mask Facial Mask Sheet Pores Moisturizing Oil-Control Anti-Aging Replenishment Face Care Skin Care",
          "AUQUEST 60pcs Eye Patches Hyaluronic Seaweed Mask Moisturizing Dark Circles Eye Bags Skin Care",
          "Collagen Milk Bleaching Face Body Cream Whitening Cream Skin Whitening Moisturizing Body Lotion Skin Lightening Cream Body Care",
          "Sadoer 5 Serums Set, Vitamin C Face Serum+ Rose Water + Pomegranate Face Brightening + Collagen Face Serum + AHA BHA Serum + Moisturizing, Fade Dark Marks, Repair Acne , Brightening, Anti Wrinkles",
          "(PACK OF 2) NIVEA Black & White Invisible Original Antiperspirant Roll On 50ml - designed to protect your clothes from white marks and yellow staining so that black tops stay black & white stay white",
          "Portable Household Medical Device Blood Oxygen Machine LED LCD Display Fingertip Pulse Oximeter For Heart Rate Measure Medical Supplies Equipment Home Tests Health Tests Saturometro Moni",
          "Fascia Gun Electric Massager Gun 8-speed Adjustment 4 Replacement Head Portable Whole Body Relaxation Muscle Massage Gun Mini Portable Electric Deep Tissue Percussion Massager for Pain Relief",
          "Original Asantee Tamarind & Goat Milk Herbal Soap 125g (Pack of 1) - Natural Skin Care Soap for Nourishing & Moisturizing, Ideal for All Skin Types/Asante soap",
          "Green Tea Cleansing Mask Purifying Clay Mask Oil Control Remove Blackhead Mud",
          "Electric Callus Remover with 3 Replaceable Rollers Foot File Pedicure Tools Hard Skin Remover",
          "【Discounted 】Maybelline New York Superstay Matte Ink Liquid Lipstick 50 Voyager Lip Makeup",
          "Women Wigs Curly Short Black Girl Hair Ladies Wig Fast Delivery in 1-5 Days",
          "15 Modes 4 Output Electric EMS TENS Machine Muscle Stimulator with Electrode Pads Health Care",
          "14 Colors Long-lasting Eye Liner Pencil Waterproof Pigment Blue Brown Black Eye Shadow Women Fashion Color Eye Makeup Cosmetic",
          "Nunix 2200W Hair Dryer HD01 Professional Blowers Blow Dryer Low Noise Hot And Cold Wind Styling Tools",
          "3 In 1 Facial Lifting Device Neck Facial Eye Massage Face Slimmer EMS Beauty Skin Tightening Wrinkle Anti Aging Face Massager",
          "5 in 1 Face Serums Combo, Eye Retinol Serum + Turmeric Anti Acne Serum Like Vitamin C + AHA BHA Fruit Acid Essence + Centella Asiatica + Niacinamide Face Serum Fade Dark Spots, Anti Acne, Moisturize",
          "HC Panty Liners 25 Pcs Human Cherish Panty Liners Skin Tendering 100% Natural Cotton For Skin Protection Highly Absorbent Maintain Freshness and Skin HQ Panty Liner",
          "Moroccan Argan Oil Lightening Sunburn Acne Scars Light Complexion Lotion / Oil /Serum",
          "ANUA Niacinamide 10 + TXA 4 Serum, Hyaluronic Acid, Tranexamic acid, Vitamin B12, Facial Serum for Glass Skin, Clarifying, Radiant Complexion with Natural Color, Korean Skin Care",
          "30ml Perfume Perfumed Fragrance Lasting For Women Fresh And Light Fruity Bouquet 30ml Floral Jasmine",
          "3 in 1 Hair Dryer Hot Comb Hair Brush Volumizer Hair Straightener Hot Air Curling Brushes Hair Styling Tools",
          "Batana Oil Hair Mask 100% Pure Organic Batana Hair Oil Anti-breakage ,nourishing,damaged Hair Repaired Natural Hair Care Set Good Quality",
          "5Pcs/Pack Portable Toothbrush Protector Toothbrush Head Covers Storage Box Toothbrush Protector Case, Essential Bathroom Accessories for Home & Travel",
          "Stainless Steel Toothpick Set Tooth Flossing Reusable Toothpicks Portable Toothpick Floss Teeth Cleaner Oral Cleaning",
          "men's perfume - man deodorant stop sweating - fresh cool sports perfume | cool ocean scent | woody fragrance oriental fragrance long lasting fragrance | anti sweat deodorizing refresh fragrant charm",
          "Mini Massage Gun, Powerful Fascial Gun Portable Deep Tissue Percussion Muscle Back Head Massager for Pain Relief with 4 Massage Heads High-Intensity Vibration Rechargeable Small Massage Gun",
          "Hair Straightening Combs Negative Iron Straightener Lazy Straight Curling Double Use Hair Iron Hair Styling Tools hot comb Hot Comb",
          "Burt's Bees Kids Chest Rub Stick, Coconut Oil, Shea Butter and Manuka Honey Lavender & Eucalyptus, White, 1 Ounce",
          "6pcs Precision Long Tweezers Set ESD Anti-Static Stainless SteelTweezers Repair Tools For Electronics Repair Soldering Craft",
          "Berries Weekend Original Perfume (pink edition)",
          "Hair Styling with 4-in-1 Hot Air Comb, Hair Dryer Brush, Blow Dryer, Hair Straightener Oval Barrel for All Hair Types",
          "Permanant Hair Growth Removal Inhibitor Spray Beard Bikini Intimate Legs Body Armpit Painless Facial Stop Hair Depilatory 20ml",
          "Dynamic Permanent Tattoo Ink 240ml/Bottle Colour Pigments Body Professional Tattooist Beauty Art Accessories Long Lasting Red, Blue, Black, Brown,Green, Pink, White, Yellow",
          "Essential Oils for Aroma Diffuser Air Humidifier Lavender Peppermint Eucalyptus Rosemary Essential Oils Home Water-soluble 10ml Air Freshener Scents Fragrance Oil Perfume -",
          "Christian Dior Sauvage Dior Perfume For MenSauvage Parfum DIOR is a highly concentrated perfume that exudes the freshness off plump and spicy mandarin. It is a fragrance in which the exquisite freshne",
          "Dexe Black Shampoo Hair Dye- 400ml- Instant Black Hair Color for Men Women/ Black Hair Color/ Simple to Use/ Long Lasting- Fast Acting/ Natural Ingredients- No Hair Damage, Infused Natual Ingredients",
          "Dark Blue Kinesiology Tape 5cm X 5m Roll Physiotherapy, Muscles Tape, Relaxing Pain Relief Sportstape Elastic Therapeutic, Kinesio tape, k-tape, KT",
          "Comb Hair Tools Hair Oil,shampoo,Dye Applicator Brush Bottles Styling Tool Hair Coloring",
          "One Piece Gairriy 13ml Gel Nail Polish too many Colors Glitter Soak Off UV LED Semi-Permanent Varnish Nail Art Salon Nail Polish",
          "New Chubby Pier Foundation Brush Flat Cream Makeup Brushes Professional Cosmetic Make-up Brush Makeup",
          "3 in 1, Collagen Serum + Retinol Serum Eye Essence + Collagen Cream , Anti Aging, Face Moisturizer, Anti Wrinkles anti Eye Puffiness, Fade Eye Dark Circles and Eye Bags",
          "12-piece beauty set, finger care, nail clippers, cleanser, cuticle, pedicure, nail art, ear pick, peeling tool, small scissors, box, makeup set, manicure tool",
          "Luron Triple action Micellar cleansing water/3in1 makeup remover+ FREE Facial toner for all skin types",
          "Dr. Rashel Breast Lifting Fast Cream - 7 magical oils with collagen Firming Enlarging Anti Sagging Tightening Bust",
          "Women Hair Removal Machine Trimmer Waterproof Electric Cordless Hair Shaver Portable Painless Razors For Armpit Hair And Leg",
          "New Arrival Rechargeable shaircut Hair Clipper Hair Cutting Tools Electric fader kids baby shaircut Men Hair Cutting Hair Trimmer Tools bald head clipper Shaving Machine",
          "FLAT TUMMY TEA SLIMMING TEA Weight Lose Detox Burn Fat -",
          "Barber Shaving Gown/Hairdressing Scarf Non-Stick Hair Anti-Static Barber Shop Haircutting Scarf Hair Salon Special Professional High-End Hairdressing Scarf Trendy",
          "240Pcs/Box Half Matte XS Almond Nail Tips Full Cover Soft Gel False Artificial Nails Extension Perfect for Extra Short Nail Bed",
          "Generic Double Tube Dual Head Professional Sprague Rappaport Stethoscope- Black"
         ],
         "legendgroup": "",
         "marker": {
          "color": {
           "bdata": "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",
           "dtype": "f8"
          },
          "coloraxis": "coloraxis",
          "symbol": "circle"
         },
         "mode": "markers",
         "name": "",
         "orientation": "v",
         "showlegend": false,
         "type": "scatter",
         "x": {
          "bdata": "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",
          "dtype": "f8"
         },
         "xaxis": "x",
         "y": {
          "bdata": "LzZRRjVNHS9GPDIqKD80PBQoR1AqUEg0M1EoNSckNUZDJFpWUiUrIzciMzdKQSxHQDI8MU5LKTAyU01LSTNQMkc5WCpVUEERKCgtPEYyQSo3MjItUTNAMkhGMhQ3ChxGRj1LTkohS0Y8MlUoMl5MPUBWXRlVRx87SVcyFUIsSUoqLUZIUDInTSFQRjMqYzsgVVJTYzZNM1BQFlE/Lzw8MllAMlAyQUIkJTkQQFBGVToqD0xAIS1EH0ErSzhFP0ZUTDwZMyc8HkU1JEI5NBoyKUwqFGMeETcqYk9VRiwdRykNRTkhQENZN0U6QktHY1ApRkwvGzIZRk0uSkYhKDIaKkNjIT8oWCgzH1MrHygTISJbLRQiQEMjETkeMigqY1ZBUCwtNjc3Qkk2REopJGM/PDE5LTNBVjIuSU0sPBk7Tj4wPD1JRhRQYyI5RkAWMi0SSUY4OlATDjQ8NThFMjhRJThAUy5jJmMyOFA4KygjLh5DISIXQ2NjUCE1VTUyIFAqUz9SUjdFY00rJTJDBh43PEVWTS47URg3N0MZMjxUGmNXSU1aQRoIMjI1Oyo9KDxWSUtBMjVGFEtjPgU5VTVDRUpGQWNaRFBVLEFBMiwQNxBMPUYSGSojVg8ySiglQywhIT5YVi9NMlAfRkFMGR0OKUtjMik8U1YpPzVHRjJJYyhBWiRLQipFMkFPSSs8Gi08NzImQE8iVjsfFCgBUj4lRzlDQytDGUkyRkMcMkk5WC4mQkIrKCAZRCRMLDtdY1MrRkg1GTcuHBdBDUZBHisoGUsiGSAsNBY5Pj4hVDEsIVoyUElAPzQjMjQLREdaKFghRC46Y0NjY1gxExktEBxXSCtNJC0uNghLODohKC1PMhwzP1kzVzM2Uzw3JTk2SFUcQThZRjIuUDIyQi9VUzMyQDBiKDpVSSoiOkM4TRNjOSEvRTlJRD8iM0I1YzY5FA==",
          "dtype": "i1"
         },
         "yaxis": "y"
        }
       ],
       "layout": {
        "coloraxis": {
         "colorbar": {
          "title": {
           "text": "Rating"
          }
         },
         "colorscale": [
          [
           0,
           "#440154"
          ],
          [
           0.1111111111111111,
           "#482878"
          ],
          [
           0.2222222222222222,
           "#3e4989"
          ],
          [
           0.3333333333333333,
           "#31688e"
          ],
          [
           0.4444444444444444,
           "#26828e"
          ],
          [
           0.5555555555555556,
           "#1f9e89"
          ],
          [
           0.6666666666666666,
           "#35b779"
          ],
          [
           0.7777777777777778,
           "#6ece58"
          ],
          [
           0.8888888888888888,
           "#b5de2b"
          ],
          [
           1,
           "#fde725"
          ]
         ]
        },
        "legend": {
         "title": {
          "text": "Rating"
         },
         "tracegroupgap": 0
        },
        "template": {
         "data": {
          "bar": [
           {
            "error_x": {
             "color": "#2a3f5f"
            },
            "error_y": {
             "color": "#2a3f5f"
            },
            "marker": {
             "line": {
              "color": "#E5ECF6",
              "width": 0.5
             },
             "pattern": {
              "fillmode": "overlay",
              "size": 10,
              "solidity": 0.2
             }
            },
            "type": "bar"
           }
          ],
          "barpolar": [
           {
            "marker": {
             "line": {
              "color": "#E5ECF6",
              "width": 0.5
             },
             "pattern": {
              "fillmode": "overlay",
              "size": 10,
              "solidity": 0.2
             }
            },
            "type": "barpolar"
           }
          ],
          "carpet": [
           {
            "aaxis": {
             "endlinecolor": "#2a3f5f",
             "gridcolor": "white",
             "linecolor": "white",
             "minorgridcolor": "white",
             "startlinecolor": "#2a3f5f"
            },
            "baxis": {
             "endlinecolor": "#2a3f5f",
             "gridcolor": "white",
             "linecolor": "white",
             "minorgridcolor": "white",
             "startlinecolor": "#2a3f5f"
            },
            "type": "carpet"
           }
          ],
          "choropleth": [
           {
            "colorbar": {
             "outlinewidth": 0,
             "ticks": ""
            },
            "type": "choropleth"
           }
          ],
          "contour": [
           {
            "colorbar": {
             "outlinewidth": 0,
             "ticks": ""
            },
            "colorscale": [
             [
              0,
              "#0d0887"
             ],
             [
              0.1111111111111111,
              "#46039f"
             ],
             [
              0.2222222222222222,
              "#7201a8"
             ],
             [
              0.3333333333333333,
              "#9c179e"
             ],
             [
              0.4444444444444444,
              "#bd3786"
             ],
             [
              0.5555555555555556,
              "#d8576b"
             ],
             [
              0.6666666666666666,
              "#ed7953"
             ],
             [
              0.7777777777777778,
              "#fb9f3a"
             ],
             [
              0.8888888888888888,
              "#fdca26"
             ],
             [
              1,
              "#f0f921"
             ]
            ],
            "type": "contour"
           }
          ],
          "contourcarpet": [
           {
            "colorbar": {
             "outlinewidth": 0,
             "ticks": ""
            },
            "type": "contourcarpet"
           }
          ],
          "heatmap": [
           {
            "colorbar": {
             "outlinewidth": 0,
             "ticks": ""
            },
            "colorscale": [
             [
              0,
              "#0d0887"
             ],
             [
              0.1111111111111111,
              "#46039f"
             ],
             [
              0.2222222222222222,
              "#7201a8"
             ],
             [
              0.3333333333333333,
              "#9c179e"
             ],
             [
              0.4444444444444444,
              "#bd3786"
             ],
             [
              0.5555555555555556,
              "#d8576b"
             ],
             [
              0.6666666666666666,
              "#ed7953"
             ],
             [
              0.7777777777777778,
              "#fb9f3a"
             ],
             [
              0.8888888888888888,
              "#fdca26"
             ],
             [
              1,
              "#f0f921"
             ]
            ],
            "type": "heatmap"
           }
          ],
          "histogram": [
           {
            "marker": {
             "pattern": {
              "fillmode": "overlay",
              "size": 10,
              "solidity": 0.2
             }
            },
            "type": "histogram"
           }
          ],
          "histogram2d": [
           {
            "colorbar": {
             "outlinewidth": 0,
             "ticks": ""
            },
            "colorscale": [
             [
              0,
              "#0d0887"
             ],
             [
              0.1111111111111111,
              "#46039f"
             ],
             [
              0.2222222222222222,
              "#7201a8"
             ],
             [
              0.3333333333333333,
              "#9c179e"
             ],
             [
              0.4444444444444444,
              "#bd3786"
             ],
             [
              0.5555555555555556,
              "#d8576b"
             ],
             [
              0.6666666666666666,
              "#ed7953"
             ],
             [
              0.7777777777777778,
              "#fb9f3a"
             ],
             [
              0.8888888888888888,
              "#fdca26"
             ],
             [
              1,
              "#f0f921"
             ]
            ],
            "type": "histogram2d"
           }
          ],
          "histogram2dcontour": [
           {
            "colorbar": {
             "outlinewidth": 0,
             "ticks": ""
            },
            "colorscale": [
             [
              0,
              "#0d0887"
             ],
             [
              0.1111111111111111,
              "#46039f"
             ],
             [
              0.2222222222222222,
              "#7201a8"
             ],
             [
              0.3333333333333333,
              "#9c179e"
             ],
             [
              0.4444444444444444,
              "#bd3786"
             ],
             [
              0.5555555555555556,
              "#d8576b"
             ],
             [
              0.6666666666666666,
              "#ed7953"
             ],
             [
              0.7777777777777778,
              "#fb9f3a"
             ],
             [
              0.8888888888888888,
              "#fdca26"
             ],
             [
              1,
              "#f0f921"
             ]
            ],
            "type": "histogram2dcontour"
           }
          ],
          "mesh3d": [
           {
            "colorbar": {
             "outlinewidth": 0,
             "ticks": ""
            },
            "type": "mesh3d"
           }
          ],
          "parcoords": [
           {
            "line": {
             "colorbar": {
              "outlinewidth": 0,
              "ticks": ""
             }
            },
            "type": "parcoords"
           }
          ],
          "pie": [
           {
            "automargin": true,
            "type": "pie"
           }
          ],
          "scatter": [
           {
            "fillpattern": {
             "fillmode": "overlay",
             "size": 10,
             "solidity": 0.2
            },
            "type": "scatter"
           }
          ],
          "scatter3d": [
           {
            "line": {
             "colorbar": {
              "outlinewidth": 0,
              "ticks": ""
             }
            },
            "marker": {
             "colorbar": {
              "outlinewidth": 0,
              "ticks": ""
             }
            },
            "type": "scatter3d"
           }
          ],
          "scattercarpet": [
           {
            "marker": {
             "colorbar": {
              "outlinewidth": 0,
              "ticks": ""
             }
            },
            "type": "scattercarpet"
           }
          ],
          "scattergeo": [
           {
            "marker": {
             "colorbar": {
              "outlinewidth": 0,
              "ticks": ""
             }
            },
            "type": "scattergeo"
           }
          ],
          "scattergl": [
           {
            "marker": {
             "colorbar": {
              "outlinewidth": 0,
              "ticks": ""
             }
            },
            "type": "scattergl"
           }
          ],
          "scattermap": [
           {
            "marker": {
             "colorbar": {
              "outlinewidth": 0,
              "ticks": ""
             }
            },
            "type": "scattermap"
           }
          ],
          "scattermapbox": [
           {
            "marker": {
             "colorbar": {
              "outlinewidth": 0,
              "ticks": ""
             }
            },
            "type": "scattermapbox"
           }
          ],
          "scatterpolar": [
           {
            "marker": {
             "colorbar": {
              "outlinewidth": 0,
              "ticks": ""
             }
            },
            "type": "scatterpolar"
           }
          ],
          "scatterpolargl": [
           {
            "marker": {
             "colorbar": {
              "outlinewidth": 0,
              "ticks": ""
             }
            },
            "type": "scatterpolargl"
           }
          ],
          "scatterternary": [
           {
            "marker": {
             "colorbar": {
              "outlinewidth": 0,
              "ticks": ""
             }
            },
            "type": "scatterternary"
           }
          ],
          "surface": [
           {
            "colorbar": {
             "outlinewidth": 0,
             "ticks": ""
            },
            "colorscale": [
             [
              0,
              "#0d0887"
             ],
             [
              0.1111111111111111,
              "#46039f"
             ],
             [
              0.2222222222222222,
              "#7201a8"
             ],
             [
              0.3333333333333333,
              "#9c179e"
             ],
             [
              0.4444444444444444,
              "#bd3786"
             ],
             [
              0.5555555555555556,
              "#d8576b"
             ],
             [
              0.6666666666666666,
              "#ed7953"
             ],
             [
              0.7777777777777778,
              "#fb9f3a"
             ],
             [
              0.8888888888888888,
              "#fdca26"
             ],
             [
              1,
              "#f0f921"
             ]
            ],
            "type": "surface"
           }
          ],
          "table": [
           {
            "cells": {
             "fill": {
              "color": "#EBF0F8"
             },
             "line": {
              "color": "white"
             }
            },
            "header": {
             "fill": {
              "color": "#C8D4E3"
             },
             "line": {
              "color": "white"
             }
            },
            "type": "table"
           }
          ]
         },
         "layout": {
          "annotationdefaults": {
           "arrowcolor": "#2a3f5f",
           "arrowhead": 0,
           "arrowwidth": 1
          },
          "autotypenumbers": "strict",
          "coloraxis": {
           "colorbar": {
            "outlinewidth": 0,
            "ticks": ""
           }
          },
          "colorscale": {
           "diverging": [
            [
             0,
             "#8e0152"
            ],
            [
             0.1,
             "#c51b7d"
            ],
            [
             0.2,
             "#de77ae"
            ],
            [
             0.3,
             "#f1b6da"
            ],
            [
             0.4,
             "#fde0ef"
            ],
            [
             0.5,
             "#f7f7f7"
            ],
            [
             0.6,
             "#e6f5d0"
            ],
            [
             0.7,
             "#b8e186"
            ],
            [
             0.8,
             "#7fbc41"
            ],
            [
             0.9,
             "#4d9221"
            ],
            [
             1,
             "#276419"
            ]
           ],
           "sequential": [
            [
             0,
             "#0d0887"
            ],
            [
             0.1111111111111111,
             "#46039f"
            ],
            [
             0.2222222222222222,
             "#7201a8"
            ],
            [
             0.3333333333333333,
             "#9c179e"
            ],
            [
             0.4444444444444444,
             "#bd3786"
            ],
            [
             0.5555555555555556,
             "#d8576b"
            ],
            [
             0.6666666666666666,
             "#ed7953"
            ],
            [
             0.7777777777777778,
             "#fb9f3a"
            ],
            [
             0.8888888888888888,
             "#fdca26"
            ],
            [
             1,
             "#f0f921"
            ]
           ],
           "sequentialminus": [
            [
             0,
             "#0d0887"
            ],
            [
             0.1111111111111111,
             "#46039f"
            ],
            [
             0.2222222222222222,
             "#7201a8"
            ],
            [
             0.3333333333333333,
             "#9c179e"
            ],
            [
             0.4444444444444444,
             "#bd3786"
            ],
            [
             0.5555555555555556,
             "#d8576b"
            ],
            [
             0.6666666666666666,
             "#ed7953"
            ],
            [
             0.7777777777777778,
             "#fb9f3a"
            ],
            [
             0.8888888888888888,
             "#fdca26"
            ],
            [
             1,
             "#f0f921"
            ]
           ]
          },
          "colorway": [
           "#636efa",
           "#EF553B",
           "#00cc96",
           "#ab63fa",
           "#FFA15A",
           "#19d3f3",
           "#FF6692",
           "#B6E880",
           "#FF97FF",
           "#FECB52"
          ],
          "font": {
           "color": "#2a3f5f"
          },
          "geo": {
           "bgcolor": "white",
           "lakecolor": "white",
           "landcolor": "#E5ECF6",
           "showlakes": true,
           "showland": true,
           "subunitcolor": "white"
          },
          "hoverlabel": {
           "align": "left"
          },
          "hovermode": "closest",
          "mapbox": {
           "style": "light"
          },
          "paper_bgcolor": "white",
          "plot_bgcolor": "#E5ECF6",
          "polar": {
           "angularaxis": {
            "gridcolor": "white",
            "linecolor": "white",
            "ticks": ""
           },
           "bgcolor": "#E5ECF6",
           "radialaxis": {
            "gridcolor": "white",
            "linecolor": "white",
            "ticks": ""
           }
          },
          "scene": {
           "xaxis": {
            "backgroundcolor": "#E5ECF6",
            "gridcolor": "white",
            "gridwidth": 2,
            "linecolor": "white",
            "showbackground": true,
            "ticks": "",
            "zerolinecolor": "white"
           },
           "yaxis": {
            "backgroundcolor": "#E5ECF6",
            "gridcolor": "white",
            "gridwidth": 2,
            "linecolor": "white",
            "showbackground": true,
            "ticks": "",
            "zerolinecolor": "white"
           },
           "zaxis": {
            "backgroundcolor": "#E5ECF6",
            "gridcolor": "white",
            "gridwidth": 2,
            "linecolor": "white",
            "showbackground": true,
            "ticks": "",
            "zerolinecolor": "white"
           }
          },
          "shapedefaults": {
           "line": {
            "color": "#2a3f5f"
           }
          },
          "ternary": {
           "aaxis": {
            "gridcolor": "white",
            "linecolor": "white",
            "ticks": ""
           },
           "baxis": {
            "gridcolor": "white",
            "linecolor": "white",
            "ticks": ""
           },
           "bgcolor": "#E5ECF6",
           "caxis": {
            "gridcolor": "white",
            "linecolor": "white",
            "ticks": ""
           }
          },
          "title": {
           "x": 0.05
          },
          "xaxis": {
           "automargin": true,
           "gridcolor": "white",
           "linecolor": "white",
           "ticks": "",
           "title": {
            "standoff": 15
           },
           "zerolinecolor": "white",
           "zerolinewidth": 2
          },
          "yaxis": {
           "automargin": true,
           "gridcolor": "white",
           "linecolor": "white",
           "ticks": "",
           "title": {
            "standoff": 15
           },
           "zerolinecolor": "white",
           "zerolinewidth": 2
          }
         }
        },
        "title": {
         "font": {
          "size": 18
         },
         "text": "Discount Rates vs. Customer Reviews"
        },
        "xaxis": {
         "anchor": "y",
         "domain": [
          0,
          1
         ],
         "title": {
          "font": {
           "size": 14
          },
          "text": "Customer_reviews"
         }
        },
        "yaxis": {
         "anchor": "x",
         "domain": [
          0,
          1
         ],
         "title": {
          "font": {
           "size": 14
          },
          "text": "Discount_rate"
         }
        }
       }
      }
     },
     "metadata": {},
     "output_type": "display_data"
    },
    {
     "data": {
      "text/plain": [
       "<Figure size 1200x600 with 0 Axes>"
      ]
     },
     "metadata": {},
     "output_type": "display_data"
    }
   ],
   "source": [
    "plt.figure(figsize=(12,6))\n",
    "fig = px.scatter(\n",
    "    df,\n",
    "    x='Customer_reviews',   \n",
    "    y='Discount_rate',      \n",
    "    color='Rating',           \n",
    "    hover_name='Product_name',\n",
    "    hover_data=['Price', 'Discount_rate', 'Customer_reviews','Category', 'Sub_Category', 'Rating'],\n",
    "    #opacity= 0.7,\n",
    "    title='Discount Rates vs. Customer Reviews',\n",
    "    color_continuous_scale=px.colors.sequential.Viridis \n",
    ")\n",
    "\n",
    "fig.update_layout(\n",
    "    xaxis_title_font_size=14,\n",
    "    yaxis_title_font_size=14,\n",
    "    title_font_size=18,\n",
    "    legend_title_text='Rating'\n",
    ")\n",
    "\n",
    "fig.show()"
   ]
  },
  {
   "cell_type": "markdown",
   "id": "3472224e",
   "metadata": {},
   "source": [
    "# Text Preprocessing"
   ]
  },
  {
   "cell_type": "code",
   "execution_count": 13,
   "id": "be8c99ff",
   "metadata": {},
   "outputs": [
    {
     "name": "stdout",
     "output_type": "stream",
     "text": [
      "Applying Text Preprocessing \n"
     ]
    },
    {
     "data": {
      "text/html": [
       "<div>\n",
       "<style scoped>\n",
       "    .dataframe tbody tr th:only-of-type {\n",
       "        vertical-align: middle;\n",
       "    }\n",
       "\n",
       "    .dataframe tbody tr th {\n",
       "        vertical-align: top;\n",
       "    }\n",
       "\n",
       "    .dataframe thead th {\n",
       "        text-align: right;\n",
       "    }\n",
       "</style>\n",
       "<table border=\"1\" class=\"dataframe\">\n",
       "  <thead>\n",
       "    <tr style=\"text-align: right;\">\n",
       "      <th></th>\n",
       "      <th>Product_name</th>\n",
       "      <th>Rating</th>\n",
       "      <th>Price</th>\n",
       "      <th>Discount_rate</th>\n",
       "      <th>Customer_reviews</th>\n",
       "      <th>Category</th>\n",
       "      <th>Sub_Category</th>\n",
       "    </tr>\n",
       "  </thead>\n",
       "  <tbody>\n",
       "    <tr>\n",
       "      <th>0</th>\n",
       "      <td>4 pc men perfume set perfume different fragran...</td>\n",
       "      <td>4.5</td>\n",
       "      <td>999.0</td>\n",
       "      <td>47</td>\n",
       "      <td>2923.0</td>\n",
       "      <td>beauty</td>\n",
       "      <td>fragrance</td>\n",
       "    </tr>\n",
       "    <tr>\n",
       "      <th>1</th>\n",
       "      <td>promotion usb electric hair cutting machine re...</td>\n",
       "      <td>4.4</td>\n",
       "      <td>367.0</td>\n",
       "      <td>54</td>\n",
       "      <td>2782.0</td>\n",
       "      <td>hair cutting tool</td>\n",
       "      <td>hair clipper trimmer</td>\n",
       "    </tr>\n",
       "    <tr>\n",
       "      <th>2</th>\n",
       "      <td>clearance pricerichripple vintage t9 hair cutt...</td>\n",
       "      <td>4.5</td>\n",
       "      <td>367.0</td>\n",
       "      <td>81</td>\n",
       "      <td>1445.0</td>\n",
       "      <td>hair cutting tool</td>\n",
       "      <td>hair clipper trimmer</td>\n",
       "    </tr>\n",
       "    <tr>\n",
       "      <th>3</th>\n",
       "      <td>2 1 curling iron hair straightener flat iron s...</td>\n",
       "      <td>4.4</td>\n",
       "      <td>859.0</td>\n",
       "      <td>70</td>\n",
       "      <td>1775.0</td>\n",
       "      <td>hair styling tool appliance</td>\n",
       "      <td>hair straightener</td>\n",
       "    </tr>\n",
       "    <tr>\n",
       "      <th>4</th>\n",
       "      <td>2 1 hot comb straightener electric hair straig...</td>\n",
       "      <td>4.3</td>\n",
       "      <td>898.0</td>\n",
       "      <td>53</td>\n",
       "      <td>1540.0</td>\n",
       "      <td>hair styling tool appliance</td>\n",
       "      <td>hair comb</td>\n",
       "    </tr>\n",
       "  </tbody>\n",
       "</table>\n",
       "</div>"
      ],
      "text/plain": [
       "                                        Product_name  Rating  Price  \\\n",
       "0  4 pc men perfume set perfume different fragran...     4.5  999.0   \n",
       "1  promotion usb electric hair cutting machine re...     4.4  367.0   \n",
       "2  clearance pricerichripple vintage t9 hair cutt...     4.5  367.0   \n",
       "3  2 1 curling iron hair straightener flat iron s...     4.4  859.0   \n",
       "4  2 1 hot comb straightener electric hair straig...     4.3  898.0   \n",
       "\n",
       "   Discount_rate  Customer_reviews                     Category  \\\n",
       "0             47            2923.0                       beauty   \n",
       "1             54            2782.0            hair cutting tool   \n",
       "2             81            1445.0            hair cutting tool   \n",
       "3             70            1775.0  hair styling tool appliance   \n",
       "4             53            1540.0  hair styling tool appliance   \n",
       "\n",
       "           Sub_Category  \n",
       "0             fragrance  \n",
       "1  hair clipper trimmer  \n",
       "2  hair clipper trimmer  \n",
       "3     hair straightener  \n",
       "4             hair comb  "
      ]
     },
     "execution_count": 13,
     "metadata": {},
     "output_type": "execute_result"
    }
   ],
   "source": [
    "# Initializing NLTK components\n",
    "stop_words = set(stopwords.words('english'))\n",
    "lemmatizer = WordNetLemmatizer()\n",
    "\n",
    "def preprocess_text(text):\n",
    "    if not isinstance(text, str):\n",
    "        return \"\" \n",
    "    text = text.lower()\n",
    "    \n",
    "    \n",
    "    text = re.sub(r'[^\\w\\s]', '', text) \n",
    "\n",
    "    # 3. Remove Numbers (optional, uncomment if desired)\n",
    "    # text = re.sub(r'\\d+', '', text)\n",
    "    \n",
    "    # 4. Remove Extra Whitespace\n",
    "    text = re.sub(r'\\s+', ' ', text).strip()\n",
    "    \n",
    "    \n",
    "    words = text.split() \n",
    "    words = [word for word in words if word not in stop_words]\n",
    "    \n",
    "    \n",
    "    words = [lemmatizer.lemmatize(word) for word in words]\n",
    "    \n",
    "    \n",
    "    return ' '.join(words)\n",
    "\n",
    "print(\"Applying Text Preprocessing \")\n",
    "\n",
    "df1 = df.copy()\n",
    "\n",
    "df1['Product_name'] = df1['Product_name'].apply(preprocess_text)\n",
    "\n",
    "df1['Category'] = df1['Category'].apply(preprocess_text)\n",
    "\n",
    "df1['Sub_Category'] = df1['Sub_Category'].apply(preprocess_text)\n",
    "\n",
    "df1.loc[df1[\"Sub_Category\"] == \"make tool accessory\", \"Sub_Category\"] = \\\n",
    "    df1.loc[df1[\"Sub_Category\"] == \"make tool accessory\", \"Sub_Category\"].str.replace(\"make tool accessory\", \"make up tool accessory\")\n",
    "    \n",
    "df1.loc[df1[\"Sub_Category\"] == \"make\", \"Sub_Category\"] = \\\n",
    "    df1.loc[df1[\"Sub_Category\"] == \"make\", \"Sub_Category\"].str.replace(\"make\", \"make up\")\n",
    "        \n",
    "df1.head()"
   ]
  },
  {
   "cell_type": "markdown",
   "id": "7e55a96c",
   "metadata": {},
   "source": [
    "# Feature Engeering"
   ]
  },
  {
   "cell_type": "code",
   "execution_count": 14,
   "id": "23d5d8e2",
   "metadata": {},
   "outputs": [
    {
     "name": "stdout",
     "output_type": "stream",
     "text": [
      "TF-IDF matrix created for Product_name_processed. Shape: (718, 2483)\n",
      "Shape of onehot_matrix immediately after fit_transform: (718, 223)\n",
      "\n",
      "Cosine Similarity Matrix calculated. Shape: (718, 718)\n"
     ]
    }
   ],
   "source": [
    "df1['Popularity_Score'] = (df1['Rating'] * 0.6) + (df1['Customer_reviews'] / df1['Customer_reviews'].max() * 0.4)\n",
    "\n",
    "# Initializing the TF-IDF Vectorizer for cosine similarity calculation\n",
    "tfidf_vectorizer = TfidfVectorizer(max_features=5000) \n",
    "\n",
    "tfidf_matrix = tfidf_vectorizer.fit_transform(df1['Product_name'])\n",
    "print(f\"TF-IDF matrix created for Product_name_processed. Shape: {tfidf_matrix.shape}\")\n",
    "\n",
    "onehot_encoder = OneHotEncoder(handle_unknown='ignore', sparse_output=False)\n",
    "\n",
    "categories_combined = df1[['Category', 'Sub_Category']]\n",
    "onehot_matrix = onehot_encoder.fit_transform(categories_combined)\n",
    "\n",
    "# Add this line here to inspect the shape\n",
    "print(f\"Shape of onehot_matrix immediately after fit_transform: {onehot_matrix.shape}\")\n",
    "\n",
    "# Get feature names for the one-hot encoded columns\n",
    "onehot_feature_names = onehot_encoder.get_feature_names_out(['Category', 'Sub_Category'])\n",
    "onehot_df = pd.DataFrame(onehot_matrix, columns=onehot_feature_names, index=df1.index)\n",
    "\n",
    "\n",
    "#Combining Features for Recommendation\n",
    "# we start by Convertin popularity score to a sparse matrix \n",
    "popularity_sparse = coo_matrix(df1['Popularity_Score'].values.reshape(-1, 1))\n",
    "\n",
    "\n",
    "if not hasattr(onehot_matrix, 'shape') or not hasattr(onehot_matrix, 'dtype'): \n",
    "    onehot_matrix = pd.DataFrame(onehot_matrix).sparse.to_coo()\n",
    "\n",
    "# Ensuring all inputs to hstack are sparse matrices\n",
    "if not hasattr(tfidf_matrix, 'shape') or not hasattr(tfidf_matrix, 'dtype'):\n",
    "    tfidf_matrix = pd.DataFrame(tfidf_matrix).sparse.to_coo()\n",
    "\n",
    "\n",
    "# Combining all relevant features into a single matrix for a content-based model\n",
    "combined_features_matrix = hstack([tfidf_matrix, onehot_matrix, popularity_sparse])\n",
    "\n",
    "# Cosine Similarity Calculation \n",
    "cosine_sim_matrix = cosine_similarity(combined_features_matrix)\n",
    "print(f\"\\nCosine Similarity Matrix calculated. Shape: {cosine_sim_matrix.shape}\")\n"
   ]
  },
  {
   "cell_type": "markdown",
   "id": "3a0b3d3d",
   "metadata": {},
   "source": [
    "# Building the popularity-based + content-based recommendation system"
   ]
  },
  {
   "cell_type": "code",
   "execution_count": 15,
   "id": "74c6909c",
   "metadata": {},
   "outputs": [
    {
     "name": "stdout",
     "output_type": "stream",
     "text": [
      "\n",
      "--- Recommendation system (get_recommendations function) defined. ---\n",
      "\n",
      "--- Example Recommendations ---\n",
      "\n",
      "Top 5 Recommendations for 'Beauty':\n",
      "                                          Product_name  \\\n",
      "393  2 1 hair straightener ceramic flat iron straig...   \n",
      "398  mini hair straightener iron pink ceramic strai...   \n",
      "\n",
      "                        Category       Sub_Category  Rating   Price  \\\n",
      "393  hair styling tool appliance  hair straightener     4.7  1199.0   \n",
      "398  hair styling tool appliance  hair straightener     4.3   449.0   \n",
      "\n",
      "     Popularity_Score  Similarity_Score  \n",
      "393          2.858590          0.978172  \n",
      "398          2.630496          0.964583  \n",
      "\n",
      "Top 3 Recommendations for 'Skin Care':\n",
      "                                          Product_name   Category  \\\n",
      "15   27pcs skin care set vitamin c face cleanser mo...  skin care   \n",
      "708  3 1 collagen serum retinol serum eye essence c...  skin care   \n",
      "267  sadoer 3 1 set acne repair serum cream cleanse...  skin care   \n",
      "\n",
      "      Sub_Category  Rating   Price  Popularity_Score  Similarity_Score  \n",
      "15   skin care set     4.5  1199.0          2.866131          0.978088  \n",
      "708  skin care set     4.8   499.0          2.903811          0.921943  \n",
      "267  skin care set     4.5   695.0          2.704516          0.917341  \n"
     ]
    }
   ],
   "source": [
    "#  Recommendation System Function \n",
    "def get_recommendations(product_name, df, cosine_sim_matrix, top_n=5):\n",
    "    \"\"\"\n",
    "    Generates product recommendations based on cosine similarity from a hybrid model.\n",
    "\n",
    "    Args:\n",
    "        product_name (str): The name of the product for which to get recommendations.\n",
    "        df (pd.DataFrame): Your DataFrame containing product information.\n",
    "        cosine_sim_matrix (np.array): The pre-calculated cosine similarity matrix.\n",
    "        top_n (int): The number of top recommendations to return.\n",
    "\n",
    "    Returns:\n",
    "        pd.DataFrame: A DataFrame of recommended products.\n",
    "    \"\"\"\n",
    "    # Get the index of the product that matches the name (case-insensitive, partial match)\n",
    "    product_indices = df[df['Product_name'].str.contains(product_name, case=False, na=False)].index.tolist()\n",
    "\n",
    "    if not product_indices:\n",
    "        print(f\"Product '{product_name}' not found in the DataFrame. Please check the product name.\")\n",
    "        return pd.DataFrame() # Return empty DataFrame if product not found\n",
    "\n",
    "    # Use the first matching product's index\n",
    "    product_idx = product_indices[0]\n",
    "\n",
    "    # Get the similarity scores for this product with all other products\n",
    "    sim_scores = list(enumerate(cosine_sim_matrix[product_idx]))\n",
    "\n",
    "    # Sort the products based on the similarity scores in descending order\n",
    "    # Exclude the product itself (similarity score of 1 with itself)\n",
    "    sim_scores = sorted(sim_scores, key=lambda x: x[1], reverse=True)[1:top_n+1]\n",
    "\n",
    "    # Get the product indices and similarity scores\n",
    "    recommended_product_indices = [i[0] for i in sim_scores]\n",
    "    similar_products_scores = [i[1] for i in sim_scores]\n",
    "\n",
    "    # Return the recommended products with relevant details\n",
    "    recommended_df = df.iloc[recommended_product_indices].copy()\n",
    "    recommended_df['Similarity_Score'] = similar_products_scores\n",
    "    return recommended_df[['Product_name', 'Category', 'Sub_Category', 'Rating', 'Price', 'Popularity_Score', 'Similarity_Score']]\n",
    "\n",
    "print(\"\\n--- Recommendation system (get_recommendations function) defined. ---\")\n",
    "\n",
    "# --- Example Usage ---\n",
    "print(\"\\n--- Example Recommendations ---\")\n",
    "\n",
    "# Replace 'Bluetooth Headphones' with a product name from your dataset for a real test\n",
    "# You can view df1['Product_name'].tolist() to get exact names.\n",
    "example_product_category = 'Beauty'\n",
    "recommendations = get_recommendations(example_product_category, df1, cosine_sim_matrix, top_n=2)\n",
    "\n",
    "if not recommendations.empty:\n",
    "    print(f\"\\nTop 5 Recommendations for '{example_product_category}':\")\n",
    "    print(recommendations)\n",
    "else:\n",
    "    print(f\"\\nNo recommendations found for '{example_product_category}'.\")\n",
    "\n",
    "# Another example\n",
    "example_product_cat_2 = 'Skin Care'\n",
    "recommendations_2 = get_recommendations(example_product_cat_2, df1, cosine_sim_matrix, top_n=3)\n",
    "\n",
    "if not recommendations_2.empty:\n",
    "    print(f\"\\nTop 3 Recommendations for '{example_product_cat_2}':\")\n",
    "    print(recommendations_2)\n",
    "else:\n",
    "    print(f\"\\nNo recommendations found for '{example_product_cat_2}'.\")"
   ]
  },
  {
   "cell_type": "code",
   "execution_count": 16,
   "id": "f9522c20",
   "metadata": {},
   "outputs": [
    {
     "name": "stdout",
     "output_type": "stream",
     "text": [
      "\n",
      "All unique combinations saved to 'unique_category_sub_category_combinations.csv'\n"
     ]
    }
   ],
   "source": [
    "if 'df1' in locals() and not df1.empty:\n",
    "    unique_combinations = df1[['Category', 'Sub_Category']].drop_duplicates().sort_values(by=['Category', 'Sub_Category'])\n",
    "\n",
    "    if not unique_combinations.empty:\n",
    "        output_filename = 'unique_category_sub_category_combinations.csv'\n",
    "        unique_combinations.to_csv(output_filename, index=False)\n",
    "        print(f\"\\nAll unique combinations saved to '{output_filename}'\")\n",
    "    else:\n",
    "        print(\"No unique category-sub_category combinations found. Nothing to save.\")\n",
    "else:\n",
    "    print(\"df1 is not loaded or is empty. Please ensure your DataFrame is correctly loaded and processed.\")"
   ]
  },
  {
   "cell_type": "code",
   "execution_count": 17,
   "id": "94e9493a",
   "metadata": {},
   "outputs": [
    {
     "name": "stdout",
     "output_type": "stream",
     "text": [
      "\n",
      "Top 4 Recommendations for Category 'body' and Sub-Category 'body wash':\n",
      "\n",
      "Product Name: 3pcs kojie san skin lightening soap original classic kojic acid soap dark spot hyperpigmentation whitening scar beauty coconut tea tree oil fair glowing flawless even skin\n",
      "Rating: 4.6\n",
      "Discount Rate: 58%\n",
      "Customer Reviews: 13.0\n",
      "\n",
      "Product Name: 3 piece kojie san skin lightening soap original classic kojic acid soap dark spot hyperpigmentation whitening scar beauty bar coconut tea tree oil fair skin\n",
      "Rating: 4.2\n",
      "Discount Rate: 69%\n",
      "Customer Reviews: 176.0\n",
      "\n",
      "Product Name: kojie san skin lightening soap original classic kojic acid soap dark spot hyperpigmentation whitening scar beauty bar coconut tea tree oil fair glowing flawless even skin tone\n",
      "Rating: 4.2\n",
      "Discount Rate: 75%\n",
      "Customer Reviews: 16.0\n",
      "\n",
      "Product Name: kojie san skin lightening soap original classic kojic acid soap dark spot hyperpigmentation whitening scar beauty bar coconut tea tree oil fair glowing flawless even skin tone\n",
      "Rating: 4.1\n",
      "Discount Rate: 67%\n",
      "Customer Reviews: 300.0\n"
     ]
    }
   ],
   "source": [
    "def get_recommendations(product_name_query, df, cosine_sim_matrix, top_n=5):\n",
    "    \"\"\"\n",
    "    This function Generates product recommendations based on cosine similarity from a hybrid model.\n",
    "    It takes a product name query (partial match allowed) to find a seed product.\n",
    "\n",
    "    Args:\n",
    "        product_name_query (str): The name of the product for which to get recommendations.\n",
    "        df (pd.DataFrame): Your DataFrame containing product information.\n",
    "        cosine_sim_matrix (np.array): The pre-calculated cosine similarity matrix.\n",
    "        top_n (int): The number of top recommendations to return.\n",
    "\n",
    "    Returns:\n",
    "        pd.DataFrame: A DataFrame of recommended products.\n",
    "    \"\"\"\n",
    "    \n",
    "    product_indices = df[df['Product_name'].str.contains(product_name_query, case=False, na=False)].index.tolist()\n",
    "\n",
    "    if not product_indices:\n",
    "        return pd.DataFrame()\n",
    "\n",
    "    # Use the first matching product's index as the seed\n",
    "    product_idx = product_indices[0]\n",
    "\n",
    "    # Get the similarity scores for this product with all other products\n",
    "    sim_scores = list(enumerate(cosine_sim_matrix[product_idx]))\n",
    "\n",
    "    # Sort the products based on the similarity scores in descending order Excluding the product itself \n",
    "    \n",
    "    sim_scores = sorted(sim_scores, key=lambda x: x[1], reverse=True)[1:top_n+1]\n",
    "\n",
    "    # Get the product indices and similarity scores\n",
    "    recommended_product_indices = [i[0] for i in sim_scores]\n",
    "    similar_products_scores = [i[1] for i in sim_scores]\n",
    "\n",
    "    # Return the recommended products with relevant details (including original Similarity_Score for internal use)\n",
    "    recommended_df = df.iloc[recommended_product_indices].copy()\n",
    "    recommended_df['Similarity_Score'] = similar_products_scores\n",
    "    return recommended_df[['Product_name', 'Category', 'Sub_Category', 'Rating', 'Price', 'Popularity_Score', 'Similarity_Score', 'Discount_rate', 'Customer_reviews']]\n",
    "\n",
    "\n",
    "\n",
    "def get_recommendations_by_category(category_name, sub_category_name, df, cosine_sim_matrix, top_n=5):\n",
    "    \"\"\"\n",
    "    This Generates product recommendations by finding the most popular product within a\n",
    "    specified category and sub-category, then recommending similar products.\n",
    "    Returns only Product_name, Rating, Discount_rate, and Customer_reviews.\n",
    "\n",
    "    Args:\n",
    "        category_name (str): The desired category.\n",
    "        sub_category_name (str): The desired sub-category.\n",
    "        df (pd.DataFrame): Your DataFrame containing product information.\n",
    "        cosine_sim_matrix (np.array): The pre-calculated cosine similarity matrix.\n",
    "        top_n (int): The number of top recommendations to return.\n",
    "\n",
    "    Returns:\n",
    "        pd.DataFrame: A DataFrame of recommended products with specified columns.\n",
    "    \"\"\"\n",
    "    clean_input_category = re.sub(r'\\W+', ' ', str(category_name)).lower().strip()\n",
    "    clean_input_sub_category = re.sub(r'\\W+', ' ', str(sub_category_name)).lower().strip()\n",
    "\n",
    "    filtered_products = df[\n",
    "        (df['Category'] == clean_input_category) &\n",
    "        (df['Sub_Category'] == clean_input_sub_category)\n",
    "    ].copy()\n",
    "\n",
    "    if filtered_products.empty:\n",
    "        print(f\"No products found for Category: '{category_name}' and Sub-Category: '{sub_category_name}'.\")\n",
    "        return pd.DataFrame()\n",
    "\n",
    "    most_popular_product = filtered_products.sort_values(by='Popularity_Score', ascending=False).iloc[0]\n",
    "    seed_product_name = most_popular_product['Product_name']\n",
    "\n",
    "    recommendations_df = get_recommendations(seed_product_name, df, cosine_sim_matrix, top_n=top_n)\n",
    "\n",
    "    if recommendations_df.empty:\n",
    "        print(f\"Could not find similar recommendations for '{seed_product_name}'.\")\n",
    "        return pd.DataFrame()\n",
    "\n",
    "    return recommendations_df[['Product_name', 'Rating', 'Discount_rate', 'Customer_reviews']]\n",
    "\n",
    "\n",
    "\n",
    "\n",
    "user_category = input(\"Enter the desired product Category (e.g., Health & Beauty): \")\n",
    "user_sub_category = input(\"Enter the desired product Sub-Category (e.g., Skincare): \")\n",
    "num_recommendations = int(input(\"Enter the number of recommendations you want (e.g., 5): \") or 5) \n",
    "\n",
    "category_recommendations = get_recommendations_by_category(\n",
    "    user_category,\n",
    "    user_sub_category,\n",
    "    df1, \n",
    "    cosine_sim_matrix, \n",
    "    top_n=num_recommendations\n",
    ")\n",
    "\n",
    "if not category_recommendations.empty:\n",
    "    print(f\"\\nTop {num_recommendations} Recommendations for Category '{user_category}' and Sub-Category '{user_sub_category}':\")\n",
    "    \n",
    "    for index, product in category_recommendations.iterrows():\n",
    "        print(f\"\\nProduct Name: {product['Product_name']}\")\n",
    "        print(f\"Rating: {product['Rating']}\")\n",
    "        print(f\"Discount Rate: {product['Discount_rate']}%\") \n",
    "        print(f\"Customer Reviews: {product['Customer_reviews']}\")\n",
    "else:\n",
    "    print(f\"\\nNo recommendations found for the specified Category and Sub-Category. Please confirm the possible combinations an try again.\")"
   ]
  }
 ],
 "metadata": {
  "kernelspec": {
   "display_name": "Python 3",
   "language": "python",
   "name": "python3"
  },
  "language_info": {
   "codemirror_mode": {
    "name": "ipython",
    "version": 3
   },
   "file_extension": ".py",
   "mimetype": "text/x-python",
   "name": "python",
   "nbconvert_exporter": "python",
   "pygments_lexer": "ipython3",
   "version": "3.12.10"
  }
 },
 "nbformat": 4,
 "nbformat_minor": 5
}
